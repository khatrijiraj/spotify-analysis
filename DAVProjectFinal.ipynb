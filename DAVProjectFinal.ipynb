{
 "cells": [
  {
   "cell_type": "markdown",
   "metadata": {},
   "source": [
    "# **SPOTIPY ANALYSIS**\n",
    "\n",
    "| Name           | Roll No. | Course                     | Semester |\n",
    "| -------------- | -------- | -------------------------- | -------- |\n",
    "| Pratham Sharma | AC-1232  | B.Sc. (H) Computer Science | 5        |\n",
    "| Raj Khatri     | AC-1235  | B.Sc. (H) Computer Science | 5        |\n",
    "\n",
    "### **Subject** : Data Analysis and Visualization\n",
    "\n",
    "### **Submitted To** : Dr. Sharanjit Kaur\n",
    "\n",
    "### **Date of Submission** : 10th November 2022\n"
   ]
  },
  {
   "cell_type": "markdown",
   "metadata": {},
   "source": [
    "# **Introduction**\n",
    "Spotify is a proprietary Swedish audio streaming and media services provider founded on 23 April 2006 by Daniel Ek and Martin Lorentzon. It is one of the largest music streaming service providers, with over 456 million monthly active users, including 195 million paying subscribers, as of September 2022. Spotify is listed (through a Luxembourg City-domiciled holding company, Spotify Technology S.A.) on the New York Stock Exchange in the form of American depositary receipts.\n",
    "\n",
    "Spotify offers digital copyright restricted recorded music and podcasts, including more than 82 million songs, from record labels and media companies. As a freemium service, basic features are free with advertisements and limited control, while additional features, such as offline listening and commercial-free listening, are offered via paid subscriptions. Users can search for music based on artist, album, or genre, and can create, edit, and share playlists.\n",
    "\n",
    "\n",
    "When Spotify entered India 3 years back, the audio streaming industry in the country was just getting heated up. People were still getting used to the idea of paying a subscription for listening to music. 3 years later, things are changing.\n",
    "For Spotify, it has been an interesting journey. \n",
    "\n",
    "India now figures in the top 20 markets for the Swedish audio streaming platform globally in terms of user created playlists. The platform recently revealed that it saw a 165% increase in its premium subscriber base in Q421, and India and Indonesia were important drivers for this growth. Gustav Gyllenhammar, VP of Markets and Subscriber Growth for Spotify Technology SA also shared in a recent interview that the number of subscribers in India had doubled in 2021."
   ]
  },
  {
   "cell_type": "markdown",
   "metadata": {},
   "source": [
    "## **Objective**\n",
    "\n",
    "1. To analyse a user created playlist on spotify.\n",
    "2. Analysing songs and artists from different generations on the factors such as :\n",
    "   - danceability\n",
    "   - energy\n",
    "   - key\n",
    "   - loudness\n",
    "   - mode\n",
    "   - speechiness\n",
    "   - acousticness\n",
    "   - instrumentalness\n",
    "   - liveness\n",
    "   - valence\n",
    "5. Comparative Analysis of artists and songs, with other songs of their album.\n",
    "\n",
    "## **Steps**\n",
    "\n",
    "1. Creating a Spotify Account\n",
    "2. Registering the Spotify Developer Program\n",
    "3. Creating spotify credentials for the project\n",
    "4. Fetching the required dataset of the playlist using the spotify audio feature to csv tool\n",
    "5. Storing the data in a pandas database\n",
    "8. Analysing data and Plotting graphs using pandas, numpy, Matplotlib and plotly"
   ]
  },
  {
   "cell_type": "markdown",
   "metadata": {},
   "source": [
    "### importing modules"
   ]
  },
  {
   "cell_type": "markdown",
   "metadata": {},
   "source": [
    "### **Spotify Playlist**\n",
    "https://open.spotify.com/playlist/7gKVccRxsOD0gKdUv63HoB?si=235e6601d9744186"
   ]
  },
  {
   "cell_type": "markdown",
   "metadata": {},
   "source": [
    "### **Tool for fetching dataset**\n",
    "\n",
    "https://github.com/kvithana/spotify-audio-features-to-csv\n"
   ]
  },
  {
   "cell_type": "code",
   "execution_count": 1,
   "metadata": {},
   "outputs": [],
   "source": [
    "import pandas as pd\n",
    "import numpy as np\n",
    "import seaborn as sns\n",
    "from math import pi\n",
    "import matplotlib.pyplot as plt\n",
    "import re\n",
    "import time\n",
    "from datetime import datetime\n",
    "import pandas as pd\n",
    "import plotly.express as px\n",
    "from plotly.subplots import make_subplots\n",
    "import plotly.graph_objects as go\n"
   ]
  },
  {
   "cell_type": "markdown",
   "metadata": {},
   "source": [
    "### loading dataaset"
   ]
  },
  {
   "cell_type": "code",
   "execution_count": 2,
   "metadata": {},
   "outputs": [],
   "source": [
    "FeatureDF = pd.read_csv('./data/features/features.csv')\n",
    "TracksDF = pd.read_csv('./data/tracks/tracks.csv')\n"
   ]
  },
  {
   "cell_type": "markdown",
   "metadata": {},
   "source": [
    "### displaying tracks dataset"
   ]
  },
  {
   "cell_type": "code",
   "execution_count": 3,
   "metadata": {},
   "outputs": [
    {
     "data": {
      "text/html": [
       "<div>\n",
       "<style scoped>\n",
       "    .dataframe tbody tr th:only-of-type {\n",
       "        vertical-align: middle;\n",
       "    }\n",
       "\n",
       "    .dataframe tbody tr th {\n",
       "        vertical-align: top;\n",
       "    }\n",
       "\n",
       "    .dataframe thead th {\n",
       "        text-align: right;\n",
       "    }\n",
       "</style>\n",
       "<table border=\"1\" class=\"dataframe\">\n",
       "  <thead>\n",
       "    <tr style=\"text-align: right;\">\n",
       "      <th></th>\n",
       "      <th>playlist_uri</th>\n",
       "      <th>album</th>\n",
       "      <th>album_uri</th>\n",
       "      <th>artist</th>\n",
       "      <th>artist_uri</th>\n",
       "      <th>disc_number</th>\n",
       "      <th>duration_ms</th>\n",
       "      <th>name</th>\n",
       "      <th>popularity</th>\n",
       "      <th>explicit</th>\n",
       "      <th>uri</th>\n",
       "      <th>link</th>\n",
       "    </tr>\n",
       "  </thead>\n",
       "  <tbody>\n",
       "    <tr>\n",
       "      <th>0</th>\n",
       "      <td>spotify:playlist:7gKVccRxsOD0gKdUv63HoB</td>\n",
       "      <td>The Way That Lovers Do</td>\n",
       "      <td>spotify:album:4WLh56ZjwINYBNhaxLvEhA</td>\n",
       "      <td>Prateek Kuhad</td>\n",
       "      <td>spotify:artist:0tC995Rfn9k2l7nqgCZsV7</td>\n",
       "      <td>1</td>\n",
       "      <td>153693</td>\n",
       "      <td>All I Need</td>\n",
       "      <td>55</td>\n",
       "      <td>False</td>\n",
       "      <td>spotify:track:47hXMyQDGW8sA1NGqmFL7h</td>\n",
       "      <td>https://api.spotify.com/v1/tracks/47hXMyQDGW8s...</td>\n",
       "    </tr>\n",
       "    <tr>\n",
       "      <th>1</th>\n",
       "      <td>spotify:playlist:7gKVccRxsOD0gKdUv63HoB</td>\n",
       "      <td>The Way That Lovers Do</td>\n",
       "      <td>spotify:album:4WLh56ZjwINYBNhaxLvEhA</td>\n",
       "      <td>Prateek Kuhad</td>\n",
       "      <td>spotify:artist:0tC995Rfn9k2l7nqgCZsV7</td>\n",
       "      <td>1</td>\n",
       "      <td>204373</td>\n",
       "      <td>Hollow</td>\n",
       "      <td>40</td>\n",
       "      <td>False</td>\n",
       "      <td>spotify:track:1y7FoHfVtbZV6mONGJgU7j</td>\n",
       "      <td>https://api.spotify.com/v1/tracks/1y7FoHfVtbZV...</td>\n",
       "    </tr>\n",
       "    <tr>\n",
       "      <th>2</th>\n",
       "      <td>spotify:playlist:7gKVccRxsOD0gKdUv63HoB</td>\n",
       "      <td>The Way That Lovers Do</td>\n",
       "      <td>spotify:album:4WLh56ZjwINYBNhaxLvEhA</td>\n",
       "      <td>Prateek Kuhad</td>\n",
       "      <td>spotify:artist:0tC995Rfn9k2l7nqgCZsV7</td>\n",
       "      <td>1</td>\n",
       "      <td>193733</td>\n",
       "      <td>Favorite Peeps</td>\n",
       "      <td>44</td>\n",
       "      <td>False</td>\n",
       "      <td>spotify:track:0SHa9XHwYYB1UUmgbgHuhQ</td>\n",
       "      <td>https://api.spotify.com/v1/tracks/0SHa9XHwYYB1...</td>\n",
       "    </tr>\n",
       "    <tr>\n",
       "      <th>3</th>\n",
       "      <td>spotify:playlist:7gKVccRxsOD0gKdUv63HoB</td>\n",
       "      <td>The Way That Lovers Do</td>\n",
       "      <td>spotify:album:4WLh56ZjwINYBNhaxLvEhA</td>\n",
       "      <td>Prateek Kuhad</td>\n",
       "      <td>spotify:artist:0tC995Rfn9k2l7nqgCZsV7</td>\n",
       "      <td>1</td>\n",
       "      <td>163653</td>\n",
       "      <td>Co2</td>\n",
       "      <td>53</td>\n",
       "      <td>False</td>\n",
       "      <td>spotify:track:3hB9lDLyAClYVZivMMl20N</td>\n",
       "      <td>https://api.spotify.com/v1/tracks/3hB9lDLyAClY...</td>\n",
       "    </tr>\n",
       "    <tr>\n",
       "      <th>4</th>\n",
       "      <td>spotify:playlist:7gKVccRxsOD0gKdUv63HoB</td>\n",
       "      <td>The Way That Lovers Do</td>\n",
       "      <td>spotify:album:4WLh56ZjwINYBNhaxLvEhA</td>\n",
       "      <td>Prateek Kuhad</td>\n",
       "      <td>spotify:artist:0tC995Rfn9k2l7nqgCZsV7</td>\n",
       "      <td>1</td>\n",
       "      <td>184413</td>\n",
       "      <td>Face</td>\n",
       "      <td>39</td>\n",
       "      <td>False</td>\n",
       "      <td>spotify:track:0HuS5vFQd06cXV54I0twkV</td>\n",
       "      <td>https://api.spotify.com/v1/tracks/0HuS5vFQd06c...</td>\n",
       "    </tr>\n",
       "  </tbody>\n",
       "</table>\n",
       "</div>"
      ],
      "text/plain": [
       "                              playlist_uri                   album  \\\n",
       "0  spotify:playlist:7gKVccRxsOD0gKdUv63HoB  The Way That Lovers Do   \n",
       "1  spotify:playlist:7gKVccRxsOD0gKdUv63HoB  The Way That Lovers Do   \n",
       "2  spotify:playlist:7gKVccRxsOD0gKdUv63HoB  The Way That Lovers Do   \n",
       "3  spotify:playlist:7gKVccRxsOD0gKdUv63HoB  The Way That Lovers Do   \n",
       "4  spotify:playlist:7gKVccRxsOD0gKdUv63HoB  The Way That Lovers Do   \n",
       "\n",
       "                              album_uri         artist  \\\n",
       "0  spotify:album:4WLh56ZjwINYBNhaxLvEhA  Prateek Kuhad   \n",
       "1  spotify:album:4WLh56ZjwINYBNhaxLvEhA  Prateek Kuhad   \n",
       "2  spotify:album:4WLh56ZjwINYBNhaxLvEhA  Prateek Kuhad   \n",
       "3  spotify:album:4WLh56ZjwINYBNhaxLvEhA  Prateek Kuhad   \n",
       "4  spotify:album:4WLh56ZjwINYBNhaxLvEhA  Prateek Kuhad   \n",
       "\n",
       "                              artist_uri  disc_number  duration_ms  \\\n",
       "0  spotify:artist:0tC995Rfn9k2l7nqgCZsV7            1       153693   \n",
       "1  spotify:artist:0tC995Rfn9k2l7nqgCZsV7            1       204373   \n",
       "2  spotify:artist:0tC995Rfn9k2l7nqgCZsV7            1       193733   \n",
       "3  spotify:artist:0tC995Rfn9k2l7nqgCZsV7            1       163653   \n",
       "4  spotify:artist:0tC995Rfn9k2l7nqgCZsV7            1       184413   \n",
       "\n",
       "             name  popularity  explicit                                   uri  \\\n",
       "0      All I Need          55     False  spotify:track:47hXMyQDGW8sA1NGqmFL7h   \n",
       "1          Hollow          40     False  spotify:track:1y7FoHfVtbZV6mONGJgU7j   \n",
       "2  Favorite Peeps          44     False  spotify:track:0SHa9XHwYYB1UUmgbgHuhQ   \n",
       "3             Co2          53     False  spotify:track:3hB9lDLyAClYVZivMMl20N   \n",
       "4            Face          39     False  spotify:track:0HuS5vFQd06cXV54I0twkV   \n",
       "\n",
       "                                                link  \n",
       "0  https://api.spotify.com/v1/tracks/47hXMyQDGW8s...  \n",
       "1  https://api.spotify.com/v1/tracks/1y7FoHfVtbZV...  \n",
       "2  https://api.spotify.com/v1/tracks/0SHa9XHwYYB1...  \n",
       "3  https://api.spotify.com/v1/tracks/3hB9lDLyAClY...  \n",
       "4  https://api.spotify.com/v1/tracks/0HuS5vFQd06c...  "
      ]
     },
     "execution_count": 3,
     "metadata": {},
     "output_type": "execute_result"
    }
   ],
   "source": [
    "TracksDF.head()\n"
   ]
  },
  {
   "cell_type": "markdown",
   "metadata": {},
   "source": [
    "### displaying features dataset"
   ]
  },
  {
   "cell_type": "code",
   "execution_count": 4,
   "metadata": {},
   "outputs": [
    {
     "data": {
      "text/html": [
       "<div>\n",
       "<style scoped>\n",
       "    .dataframe tbody tr th:only-of-type {\n",
       "        vertical-align: middle;\n",
       "    }\n",
       "\n",
       "    .dataframe tbody tr th {\n",
       "        vertical-align: top;\n",
       "    }\n",
       "\n",
       "    .dataframe thead th {\n",
       "        text-align: right;\n",
       "    }\n",
       "</style>\n",
       "<table border=\"1\" class=\"dataframe\">\n",
       "  <thead>\n",
       "    <tr style=\"text-align: right;\">\n",
       "      <th></th>\n",
       "      <th>playlist_uri</th>\n",
       "      <th>duration_ms</th>\n",
       "      <th>key</th>\n",
       "      <th>mode</th>\n",
       "      <th>time_signature</th>\n",
       "      <th>acousticness</th>\n",
       "      <th>danceability</th>\n",
       "      <th>energy</th>\n",
       "      <th>instrumentalness</th>\n",
       "      <th>liveness</th>\n",
       "      <th>loudness</th>\n",
       "      <th>speechiness</th>\n",
       "      <th>valence</th>\n",
       "      <th>tempo</th>\n",
       "      <th>uri</th>\n",
       "    </tr>\n",
       "  </thead>\n",
       "  <tbody>\n",
       "    <tr>\n",
       "      <th>0</th>\n",
       "      <td>spotify:playlist:7gKVccRxsOD0gKdUv63HoB</td>\n",
       "      <td>153693</td>\n",
       "      <td>6</td>\n",
       "      <td>1</td>\n",
       "      <td>4</td>\n",
       "      <td>0.771</td>\n",
       "      <td>0.786</td>\n",
       "      <td>0.356</td>\n",
       "      <td>0.6940</td>\n",
       "      <td>0.100</td>\n",
       "      <td>-11.432</td>\n",
       "      <td>0.0462</td>\n",
       "      <td>0.5190</td>\n",
       "      <td>116.023</td>\n",
       "      <td>spotify:track:47hXMyQDGW8sA1NGqmFL7h</td>\n",
       "    </tr>\n",
       "    <tr>\n",
       "      <th>1</th>\n",
       "      <td>spotify:playlist:7gKVccRxsOD0gKdUv63HoB</td>\n",
       "      <td>204373</td>\n",
       "      <td>11</td>\n",
       "      <td>1</td>\n",
       "      <td>4</td>\n",
       "      <td>0.845</td>\n",
       "      <td>0.348</td>\n",
       "      <td>0.310</td>\n",
       "      <td>0.0569</td>\n",
       "      <td>0.111</td>\n",
       "      <td>-13.122</td>\n",
       "      <td>0.0413</td>\n",
       "      <td>0.0474</td>\n",
       "      <td>114.812</td>\n",
       "      <td>spotify:track:1y7FoHfVtbZV6mONGJgU7j</td>\n",
       "    </tr>\n",
       "    <tr>\n",
       "      <th>2</th>\n",
       "      <td>spotify:playlist:7gKVccRxsOD0gKdUv63HoB</td>\n",
       "      <td>193733</td>\n",
       "      <td>7</td>\n",
       "      <td>1</td>\n",
       "      <td>4</td>\n",
       "      <td>0.767</td>\n",
       "      <td>0.611</td>\n",
       "      <td>0.525</td>\n",
       "      <td>0.7990</td>\n",
       "      <td>0.112</td>\n",
       "      <td>-9.683</td>\n",
       "      <td>0.0354</td>\n",
       "      <td>0.2990</td>\n",
       "      <td>113.946</td>\n",
       "      <td>spotify:track:0SHa9XHwYYB1UUmgbgHuhQ</td>\n",
       "    </tr>\n",
       "    <tr>\n",
       "      <th>3</th>\n",
       "      <td>spotify:playlist:7gKVccRxsOD0gKdUv63HoB</td>\n",
       "      <td>163653</td>\n",
       "      <td>1</td>\n",
       "      <td>1</td>\n",
       "      <td>4</td>\n",
       "      <td>0.663</td>\n",
       "      <td>0.533</td>\n",
       "      <td>0.678</td>\n",
       "      <td>0.0000</td>\n",
       "      <td>0.145</td>\n",
       "      <td>-5.244</td>\n",
       "      <td>0.0256</td>\n",
       "      <td>0.6830</td>\n",
       "      <td>80.960</td>\n",
       "      <td>spotify:track:3hB9lDLyAClYVZivMMl20N</td>\n",
       "    </tr>\n",
       "    <tr>\n",
       "      <th>4</th>\n",
       "      <td>spotify:playlist:7gKVccRxsOD0gKdUv63HoB</td>\n",
       "      <td>184413</td>\n",
       "      <td>7</td>\n",
       "      <td>1</td>\n",
       "      <td>4</td>\n",
       "      <td>0.920</td>\n",
       "      <td>0.481</td>\n",
       "      <td>0.669</td>\n",
       "      <td>0.0219</td>\n",
       "      <td>0.139</td>\n",
       "      <td>-13.329</td>\n",
       "      <td>0.4550</td>\n",
       "      <td>0.3510</td>\n",
       "      <td>128.219</td>\n",
       "      <td>spotify:track:0HuS5vFQd06cXV54I0twkV</td>\n",
       "    </tr>\n",
       "  </tbody>\n",
       "</table>\n",
       "</div>"
      ],
      "text/plain": [
       "                              playlist_uri  duration_ms  key  mode  \\\n",
       "0  spotify:playlist:7gKVccRxsOD0gKdUv63HoB       153693    6     1   \n",
       "1  spotify:playlist:7gKVccRxsOD0gKdUv63HoB       204373   11     1   \n",
       "2  spotify:playlist:7gKVccRxsOD0gKdUv63HoB       193733    7     1   \n",
       "3  spotify:playlist:7gKVccRxsOD0gKdUv63HoB       163653    1     1   \n",
       "4  spotify:playlist:7gKVccRxsOD0gKdUv63HoB       184413    7     1   \n",
       "\n",
       "   time_signature  acousticness  danceability  energy  instrumentalness  \\\n",
       "0               4         0.771         0.786   0.356            0.6940   \n",
       "1               4         0.845         0.348   0.310            0.0569   \n",
       "2               4         0.767         0.611   0.525            0.7990   \n",
       "3               4         0.663         0.533   0.678            0.0000   \n",
       "4               4         0.920         0.481   0.669            0.0219   \n",
       "\n",
       "   liveness  loudness  speechiness  valence    tempo  \\\n",
       "0     0.100   -11.432       0.0462   0.5190  116.023   \n",
       "1     0.111   -13.122       0.0413   0.0474  114.812   \n",
       "2     0.112    -9.683       0.0354   0.2990  113.946   \n",
       "3     0.145    -5.244       0.0256   0.6830   80.960   \n",
       "4     0.139   -13.329       0.4550   0.3510  128.219   \n",
       "\n",
       "                                    uri  \n",
       "0  spotify:track:47hXMyQDGW8sA1NGqmFL7h  \n",
       "1  spotify:track:1y7FoHfVtbZV6mONGJgU7j  \n",
       "2  spotify:track:0SHa9XHwYYB1UUmgbgHuhQ  \n",
       "3  spotify:track:3hB9lDLyAClYVZivMMl20N  \n",
       "4  spotify:track:0HuS5vFQd06cXV54I0twkV  "
      ]
     },
     "execution_count": 4,
     "metadata": {},
     "output_type": "execute_result"
    }
   ],
   "source": [
    "FeatureDF.head()\n"
   ]
  },
  {
   "cell_type": "markdown",
   "metadata": {},
   "source": [
    "Since Danceability, Energy, Speech, Acousticness, Instrumentalness, Liveness, Valence share the same scale, they would be usually grouped together and compared in data visualisations."
   ]
  },
  {
   "cell_type": "markdown",
   "metadata": {},
   "source": [
    "## **Spotify audio features**\n",
    "A description of the all the retrieved features in the official Spotify API docs: https://developer.spotify.com/documentation/web-api/reference/#/operations/get-audio-features\n",
    "\n",
    "* **acousticness**\n",
    ">A confidence measure from 0.0 to 1.0 of whether the track is acoustic. 1.0 represents high confidence the track is acoustic.\n",
    "\n",
    "* **danceability**\n",
    ">Danceability describes how suitable a track is for dancing based on a combination of musical elements including tempo, rhythm stability, beat strength, and overall regularity. A value of 0.0 is least danceable and 1.0 is most danceable.\n",
    "\n",
    "* **duration_ms**\n",
    ">The duration of the track in milliseconds.\n",
    "\n",
    "* **energy**\n",
    ">Energy is a measure from 0.0 to 1.0 and represents a perceptual measure of intensity and activity. Typically, energetic tracks feel fast, loud, and noisy. For example, death metal has high energy, while a Bach prelude scores low on the scale. Perceptual features contributing to this attribute include dynamic range, perceived loudness, timbre, onset rate, and general entropy.\n",
    "\n",
    "* **instrumentalness**\n",
    ">Predicts whether a track contains no vocals. \"Ooh\" and \"aah\" sounds are treated as instrumental in this context. Rap or spoken word tracks are clearly \"vocal\". The closer the instrumentalness value is to 1.0, the greater likelihood the track contains no vocal content. Values above 0.5 are intended to represent instrumental tracks, but confidence is higher as the value approaches 1.0.\n",
    "\n",
    "* **liveness**\n",
    ">Detects the presence of an audience in the recording. Higher liveness values represent an increased probability that the track was performed live. A value above 0.8 provides strong likelihood that the track is live.\n",
    "\n",
    "* **speechiness**\n",
    ">Speechiness detects the presence of spoken words in a track. The more exclusively speech-like the recording (e.g. talk show, audio book, poetry), the closer to 1.0 the attribute value. Values above 0.66 describe tracks that are probably made entirely of spoken words. Values between 0.33 and 0.66 describe tracks that may contain both music and speech, either in sections or layered, including such cases as rap music. Values below 0.33 most likely represent music and other non-speech-like tracks.\n",
    "\n",
    "* **loudness**\n",
    ">The overall loudness of a track in decibels (dB). Loudness values are averaged across the entire track and are useful for comparing relative loudness of tracks. Loudness is the quality of a sound that is the primary psychological correlate of physical strength (amplitude). Values typical range between -60 and 0 db.\n",
    "\n",
    "* **tempo**\n",
    ">The overall estimated tempo of a track in beats per minute (BPM). In musical terminology, tempo is the speed or pace of a given piece and derives directly from the average beat duration.\n",
    "\n",
    "* **valence**\n",
    ">A measure from 0.0 to 1.0 describing the musical positiveness conveyed by a track. Tracks with high valence sound more positive (e.g. happy, cheerful, euphoric), while tracks with low valence sound more negative (e.g. sad, depressed, angry).\n",
    "\n",
    "* **popularity**\n",
    ">The popularity of the artist. The value will be between 0 and 100, with 100 being the most popular. The artist's popularity is calculated from the popularity of all the artist's tracks."
   ]
  },
  {
   "cell_type": "markdown",
   "metadata": {},
   "source": [
    "### creating a array to plot histogram of these columns"
   ]
  },
  {
   "cell_type": "code",
   "execution_count": 5,
   "metadata": {},
   "outputs": [],
   "source": [
    "categories = ['danceability',\n",
    "              'energy',\n",
    "              'speechiness',\n",
    "              'acousticness',\n",
    "              'liveness',\n",
    "              'valence']\n"
   ]
  },
  {
   "cell_type": "markdown",
   "metadata": {},
   "source": [
    "# **KEY**\n",
    "The key the track is in. Integers map to pitches using standard Pitch Class notation. E.g. 0 = C, 1 = C♯/D♭, 2 = D, and so on. If no key was detected, the value is -1.\n",
    "\n",
    "Plotting the Key data from the tracks feature Dataframe shows us that the most used keys i.e. E & F"
   ]
  },
  {
   "cell_type": "markdown",
   "metadata": {},
   "source": [
    "### key and there count"
   ]
  },
  {
   "cell_type": "code",
   "execution_count": 6,
   "metadata": {},
   "outputs": [
    {
     "data": {
      "text/plain": [
       "<AxesSubplot: xlabel='key', ylabel='Count'>"
      ]
     },
     "execution_count": 6,
     "metadata": {},
     "output_type": "execute_result"
    },
    {
     "data": {
      "image/png": "[encoded data removed]",
      "text/plain": [
       "<Figure size 720x576 with 1 Axes>"
      ]
     },
     "metadata": {
      "needs_background": "light"
     },
     "output_type": "display_data"
    }
   ],
   "source": [
    "plt.figure(figsize=[10, 8])\n",
    "sns.histplot(FeatureDF, x='key')\n"
   ]
  },
  {
   "cell_type": "markdown",
   "metadata": {},
   "source": [
    "### Plotting pie chart of mode of songs"
   ]
  },
  {
   "cell_type": "markdown",
   "metadata": {},
   "source": [
    "## **MAJOR and MINOR**\n",
    "\n",
    "0: Minor\n",
    "1: Major\n",
    "\n",
    "Mode indicates the modality (major or minor) of a track, the type of scale from which its melodic content is derived. Major is represented by 1 and minor is 0.\n",
    "\n",
    "Pie Chart below shows that the majority of songs have Major Modality"
   ]
  },
  {
   "cell_type": "markdown",
   "metadata": {},
   "source": [
    "### 0: Minor 1: Major\n"
   ]
  },
  {
   "cell_type": "code",
   "execution_count": 7,
   "metadata": {},
   "outputs": [
    {
     "data": {
      "image/png": "[encoded data removed]",
      "text/plain": [
       "<Figure size 720x576 with 1 Axes>"
      ]
     },
     "metadata": {},
     "output_type": "display_data"
    },
    {
     "data": {
      "text/plain": [
       "<Figure size 432x288 with 0 Axes>"
      ]
     },
     "metadata": {},
     "output_type": "display_data"
    }
   ],
   "source": [
    "plt.figure(figsize=[10, 8])\n",
    "\n",
    "mode = list(FeatureDF['mode'].value_counts().index)\n",
    "size = list(FeatureDF['mode'].value_counts())\n",
    "\n",
    "plt.pie(size, labels=mode, autopct='%1.0F%%')\n",
    "plt.legend(mode, title='Mode', loc='best')\n",
    "plt.figure(facecolor='white')\n",
    "plt.show()\n"
   ]
  },
  {
   "cell_type": "markdown",
   "metadata": {},
   "source": [
    "### Distribution of Spotify metrics of Playlist"
   ]
  },
  {
   "cell_type": "markdown",
   "metadata": {},
   "source": [
    "The plot below shows the distribution of scores for all tracks in the given playlist. Most songs are typically high-energy but the songs usually fall within the mid-level for danceability.\n",
    "\n",
    "- Most of the songs have high energy, Dancebility and surprisingly acousticness.\n",
    "- Acoustic songs generally not associated with these two factors.\n",
    "- This result can be attributed to new age indie songs and their emphasis on beats over vocals"
   ]
  },
  {
   "cell_type": "code",
   "execution_count": 8,
   "metadata": {},
   "outputs": [
    {
     "data": {
      "text/plain": [
       "[Text(0.5, 1.0, 'Valence')]"
      ]
     },
     "execution_count": 8,
     "metadata": {},
     "output_type": "execute_result"
    },
    {
     "data": {
      "image/png": "[encoded data removed]",
      "text/plain": [
       "<Figure size 1296x720 with 6 Axes>"
      ]
     },
     "metadata": {
      "needs_background": "light"
     },
     "output_type": "display_data"
    }
   ],
   "source": [
    "fig, axes = plt.subplots(2, 3, figsize=(18, 10))\n",
    "\n",
    "fig.suptitle(['Energy', 'Danceability', 'Speechiness',\n",
    "             'Acousticness', 'Liveness', 'Valence'])\n",
    "\n",
    "fig.tight_layout(pad=5.0)\n",
    "\n",
    "sns.histplot(ax=axes[0, 0], data=FeatureDF, x='energy').set(title='Energy')\n",
    "sns.histplot(ax=axes[0, 1], data=FeatureDF,\n",
    "             x='danceability').set(title=\"Danceability\")\n",
    "sns.histplot(ax=axes[0, 2], data=FeatureDF,\n",
    "             x='speechiness').set(title='Speechiness')\n",
    "sns.histplot(ax=axes[1, 0], data=FeatureDF,\n",
    "             x='acousticness').set(title='Acousticness')\n",
    "sns.histplot(ax=axes[1, 1], data=FeatureDF, x='liveness').set(title='Liveness')\n",
    "sns.histplot(ax=axes[1, 2], data=FeatureDF, x='valence').set(title='Valence')\n"
   ]
  },
  {
   "cell_type": "markdown",
   "metadata": {},
   "source": [
    "## **Data Filtering**\n",
    "The data taken from the Spotify API stores the same track in multiple rows for multiple artists. So, for a song with 3 artists there will be 3 entries.\n",
    "To reduce this redundancy we first combine the tracks data on the basis of the song name and album name"
   ]
  },
  {
   "cell_type": "markdown",
   "metadata": {},
   "source": [
    "### Tracks dataset"
   ]
  },
  {
   "cell_type": "code",
   "execution_count": 9,
   "metadata": {},
   "outputs": [
    {
     "data": {
      "text/html": [
       "<div>\n",
       "<style scoped>\n",
       "    .dataframe tbody tr th:only-of-type {\n",
       "        vertical-align: middle;\n",
       "    }\n",
       "\n",
       "    .dataframe tbody tr th {\n",
       "        vertical-align: top;\n",
       "    }\n",
       "\n",
       "    .dataframe thead th {\n",
       "        text-align: right;\n",
       "    }\n",
       "</style>\n",
       "<table border=\"1\" class=\"dataframe\">\n",
       "  <thead>\n",
       "    <tr style=\"text-align: right;\">\n",
       "      <th></th>\n",
       "      <th>playlist_uri</th>\n",
       "      <th>album</th>\n",
       "      <th>album_uri</th>\n",
       "      <th>artist</th>\n",
       "      <th>artist_uri</th>\n",
       "      <th>disc_number</th>\n",
       "      <th>duration_ms</th>\n",
       "      <th>name</th>\n",
       "      <th>popularity</th>\n",
       "      <th>explicit</th>\n",
       "      <th>uri</th>\n",
       "      <th>link</th>\n",
       "    </tr>\n",
       "  </thead>\n",
       "  <tbody>\n",
       "    <tr>\n",
       "      <th>0</th>\n",
       "      <td>spotify:playlist:7gKVccRxsOD0gKdUv63HoB</td>\n",
       "      <td>The Way That Lovers Do</td>\n",
       "      <td>spotify:album:4WLh56ZjwINYBNhaxLvEhA</td>\n",
       "      <td>Prateek Kuhad</td>\n",
       "      <td>spotify:artist:0tC995Rfn9k2l7nqgCZsV7</td>\n",
       "      <td>1</td>\n",
       "      <td>153693</td>\n",
       "      <td>All I Need</td>\n",
       "      <td>55</td>\n",
       "      <td>False</td>\n",
       "      <td>spotify:track:47hXMyQDGW8sA1NGqmFL7h</td>\n",
       "      <td>https://api.spotify.com/v1/tracks/47hXMyQDGW8s...</td>\n",
       "    </tr>\n",
       "    <tr>\n",
       "      <th>1</th>\n",
       "      <td>spotify:playlist:7gKVccRxsOD0gKdUv63HoB</td>\n",
       "      <td>The Way That Lovers Do</td>\n",
       "      <td>spotify:album:4WLh56ZjwINYBNhaxLvEhA</td>\n",
       "      <td>Prateek Kuhad</td>\n",
       "      <td>spotify:artist:0tC995Rfn9k2l7nqgCZsV7</td>\n",
       "      <td>1</td>\n",
       "      <td>204373</td>\n",
       "      <td>Hollow</td>\n",
       "      <td>40</td>\n",
       "      <td>False</td>\n",
       "      <td>spotify:track:1y7FoHfVtbZV6mONGJgU7j</td>\n",
       "      <td>https://api.spotify.com/v1/tracks/1y7FoHfVtbZV...</td>\n",
       "    </tr>\n",
       "    <tr>\n",
       "      <th>2</th>\n",
       "      <td>spotify:playlist:7gKVccRxsOD0gKdUv63HoB</td>\n",
       "      <td>The Way That Lovers Do</td>\n",
       "      <td>spotify:album:4WLh56ZjwINYBNhaxLvEhA</td>\n",
       "      <td>Prateek Kuhad</td>\n",
       "      <td>spotify:artist:0tC995Rfn9k2l7nqgCZsV7</td>\n",
       "      <td>1</td>\n",
       "      <td>193733</td>\n",
       "      <td>Favorite Peeps</td>\n",
       "      <td>44</td>\n",
       "      <td>False</td>\n",
       "      <td>spotify:track:0SHa9XHwYYB1UUmgbgHuhQ</td>\n",
       "      <td>https://api.spotify.com/v1/tracks/0SHa9XHwYYB1...</td>\n",
       "    </tr>\n",
       "    <tr>\n",
       "      <th>3</th>\n",
       "      <td>spotify:playlist:7gKVccRxsOD0gKdUv63HoB</td>\n",
       "      <td>The Way That Lovers Do</td>\n",
       "      <td>spotify:album:4WLh56ZjwINYBNhaxLvEhA</td>\n",
       "      <td>Prateek Kuhad</td>\n",
       "      <td>spotify:artist:0tC995Rfn9k2l7nqgCZsV7</td>\n",
       "      <td>1</td>\n",
       "      <td>163653</td>\n",
       "      <td>Co2</td>\n",
       "      <td>53</td>\n",
       "      <td>False</td>\n",
       "      <td>spotify:track:3hB9lDLyAClYVZivMMl20N</td>\n",
       "      <td>https://api.spotify.com/v1/tracks/3hB9lDLyAClY...</td>\n",
       "    </tr>\n",
       "    <tr>\n",
       "      <th>4</th>\n",
       "      <td>spotify:playlist:7gKVccRxsOD0gKdUv63HoB</td>\n",
       "      <td>The Way That Lovers Do</td>\n",
       "      <td>spotify:album:4WLh56ZjwINYBNhaxLvEhA</td>\n",
       "      <td>Prateek Kuhad</td>\n",
       "      <td>spotify:artist:0tC995Rfn9k2l7nqgCZsV7</td>\n",
       "      <td>1</td>\n",
       "      <td>184413</td>\n",
       "      <td>Face</td>\n",
       "      <td>39</td>\n",
       "      <td>False</td>\n",
       "      <td>spotify:track:0HuS5vFQd06cXV54I0twkV</td>\n",
       "      <td>https://api.spotify.com/v1/tracks/0HuS5vFQd06c...</td>\n",
       "    </tr>\n",
       "  </tbody>\n",
       "</table>\n",
       "</div>"
      ],
      "text/plain": [
       "                              playlist_uri                   album  \\\n",
       "0  spotify:playlist:7gKVccRxsOD0gKdUv63HoB  The Way That Lovers Do   \n",
       "1  spotify:playlist:7gKVccRxsOD0gKdUv63HoB  The Way That Lovers Do   \n",
       "2  spotify:playlist:7gKVccRxsOD0gKdUv63HoB  The Way That Lovers Do   \n",
       "3  spotify:playlist:7gKVccRxsOD0gKdUv63HoB  The Way That Lovers Do   \n",
       "4  spotify:playlist:7gKVccRxsOD0gKdUv63HoB  The Way That Lovers Do   \n",
       "\n",
       "                              album_uri         artist  \\\n",
       "0  spotify:album:4WLh56ZjwINYBNhaxLvEhA  Prateek Kuhad   \n",
       "1  spotify:album:4WLh56ZjwINYBNhaxLvEhA  Prateek Kuhad   \n",
       "2  spotify:album:4WLh56ZjwINYBNhaxLvEhA  Prateek Kuhad   \n",
       "3  spotify:album:4WLh56ZjwINYBNhaxLvEhA  Prateek Kuhad   \n",
       "4  spotify:album:4WLh56ZjwINYBNhaxLvEhA  Prateek Kuhad   \n",
       "\n",
       "                              artist_uri  disc_number  duration_ms  \\\n",
       "0  spotify:artist:0tC995Rfn9k2l7nqgCZsV7            1       153693   \n",
       "1  spotify:artist:0tC995Rfn9k2l7nqgCZsV7            1       204373   \n",
       "2  spotify:artist:0tC995Rfn9k2l7nqgCZsV7            1       193733   \n",
       "3  spotify:artist:0tC995Rfn9k2l7nqgCZsV7            1       163653   \n",
       "4  spotify:artist:0tC995Rfn9k2l7nqgCZsV7            1       184413   \n",
       "\n",
       "             name  popularity  explicit                                   uri  \\\n",
       "0      All I Need          55     False  spotify:track:47hXMyQDGW8sA1NGqmFL7h   \n",
       "1          Hollow          40     False  spotify:track:1y7FoHfVtbZV6mONGJgU7j   \n",
       "2  Favorite Peeps          44     False  spotify:track:0SHa9XHwYYB1UUmgbgHuhQ   \n",
       "3             Co2          53     False  spotify:track:3hB9lDLyAClYVZivMMl20N   \n",
       "4            Face          39     False  spotify:track:0HuS5vFQd06cXV54I0twkV   \n",
       "\n",
       "                                                link  \n",
       "0  https://api.spotify.com/v1/tracks/47hXMyQDGW8s...  \n",
       "1  https://api.spotify.com/v1/tracks/1y7FoHfVtbZV...  \n",
       "2  https://api.spotify.com/v1/tracks/0SHa9XHwYYB1...  \n",
       "3  https://api.spotify.com/v1/tracks/3hB9lDLyAClY...  \n",
       "4  https://api.spotify.com/v1/tracks/0HuS5vFQd06c...  "
      ]
     },
     "execution_count": 9,
     "metadata": {},
     "output_type": "execute_result"
    }
   ],
   "source": [
    "TracksDF.head()\n"
   ]
  },
  {
   "cell_type": "markdown",
   "metadata": {},
   "source": [
    "### Copy of tracks dataframe having name album and uri columns"
   ]
  },
  {
   "cell_type": "code",
   "execution_count": 10,
   "metadata": {},
   "outputs": [
    {
     "data": {
      "text/html": [
       "<div>\n",
       "<style scoped>\n",
       "    .dataframe tbody tr th:only-of-type {\n",
       "        vertical-align: middle;\n",
       "    }\n",
       "\n",
       "    .dataframe tbody tr th {\n",
       "        vertical-align: top;\n",
       "    }\n",
       "\n",
       "    .dataframe thead th {\n",
       "        text-align: right;\n",
       "    }\n",
       "</style>\n",
       "<table border=\"1\" class=\"dataframe\">\n",
       "  <thead>\n",
       "    <tr style=\"text-align: right;\">\n",
       "      <th></th>\n",
       "      <th>name</th>\n",
       "      <th>album</th>\n",
       "      <th>uri</th>\n",
       "      <th>artist</th>\n",
       "    </tr>\n",
       "  </thead>\n",
       "  <tbody>\n",
       "    <tr>\n",
       "      <th>0</th>\n",
       "      <td>0 to 100</td>\n",
       "      <td>No Name</td>\n",
       "      <td>spotify:track:7cVe3mYMIfhOlz1NXFWv70</td>\n",
       "      <td>Sidhu Moose Wala</td>\n",
       "    </tr>\n",
       "    <tr>\n",
       "      <th>1</th>\n",
       "      <td>051021</td>\n",
       "      <td>Scars &amp; Screws</td>\n",
       "      <td>spotify:track:6D0RJju2TSMtZM1jsRc58S</td>\n",
       "      <td>Shamoon Ismail,Talha Anjum</td>\n",
       "    </tr>\n",
       "    <tr>\n",
       "      <th>2</th>\n",
       "      <td>All I Need</td>\n",
       "      <td>The Way That Lovers Do</td>\n",
       "      <td>spotify:track:47hXMyQDGW8sA1NGqmFL7h</td>\n",
       "      <td>Prateek Kuhad</td>\n",
       "    </tr>\n",
       "    <tr>\n",
       "      <th>3</th>\n",
       "      <td>All Night Long</td>\n",
       "      <td>Scars &amp; Screws</td>\n",
       "      <td>spotify:track:308ngBPHBQa8HW4n0PBUKh</td>\n",
       "      <td>Shamoon Ismail</td>\n",
       "    </tr>\n",
       "    <tr>\n",
       "      <th>4</th>\n",
       "      <td>Ari Ari</td>\n",
       "      <td>Baaraat</td>\n",
       "      <td>spotify:track:3edqjLVQrRPLvt9FAYUAsT</td>\n",
       "      <td>Ritviz,Nucleya</td>\n",
       "    </tr>\n",
       "    <tr>\n",
       "      <th>5</th>\n",
       "      <td>Baaraat</td>\n",
       "      <td>Baaraat</td>\n",
       "      <td>spotify:track:0YLSjVxSb5FT1Bo8Tnxr8j</td>\n",
       "      <td>Ritviz,Nucleya</td>\n",
       "    </tr>\n",
       "    <tr>\n",
       "      <th>6</th>\n",
       "      <td>Bloodlust (feat. Mr. Capone-E)</td>\n",
       "      <td>No Name</td>\n",
       "      <td>spotify:track:1O00WM9qGLUBA5gq2yw0WF</td>\n",
       "      <td>Sidhu Moose Wala,Mr. Capone-E</td>\n",
       "    </tr>\n",
       "    <tr>\n",
       "      <th>7</th>\n",
       "      <td>Bloom</td>\n",
       "      <td>The Way That Lovers Do</td>\n",
       "      <td>spotify:track:39lOHITmszIVH9WF4Jpbum</td>\n",
       "      <td>Prateek Kuhad</td>\n",
       "    </tr>\n",
       "    <tr>\n",
       "      <th>8</th>\n",
       "      <td>Chaunde Ne Pharna</td>\n",
       "      <td>Scars &amp; Screws</td>\n",
       "      <td>spotify:track:18sA3ZuFnaYvinSyc1EZ0M</td>\n",
       "      <td>Shamoon Ismail</td>\n",
       "    </tr>\n",
       "    <tr>\n",
       "      <th>9</th>\n",
       "      <td>Co2</td>\n",
       "      <td>The Way That Lovers Do</td>\n",
       "      <td>spotify:track:3hB9lDLyAClYVZivMMl20N</td>\n",
       "      <td>Prateek Kuhad</td>\n",
       "    </tr>\n",
       "    <tr>\n",
       "      <th>10</th>\n",
       "      <td>Cocaine</td>\n",
       "      <td>Scars &amp; Screws</td>\n",
       "      <td>spotify:track:5Mk3wOYG9Emd6SL5jVviZ7</td>\n",
       "      <td>Shamoon Ismail</td>\n",
       "    </tr>\n",
       "    <tr>\n",
       "      <th>11</th>\n",
       "      <td>D'Arline</td>\n",
       "      <td>The Civil Wars</td>\n",
       "      <td>spotify:track:6UoygTjFvuC8pEGo2siNGM</td>\n",
       "      <td>The Civil Wars</td>\n",
       "    </tr>\n",
       "    <tr>\n",
       "      <th>12</th>\n",
       "      <td>Devil's Backbone</td>\n",
       "      <td>The Civil Wars</td>\n",
       "      <td>spotify:track:4qoD4IJbbir3hsAu4IowiG</td>\n",
       "      <td>The Civil Wars</td>\n",
       "    </tr>\n",
       "    <tr>\n",
       "      <th>13</th>\n",
       "      <td>Disarm</td>\n",
       "      <td>The Civil Wars</td>\n",
       "      <td>spotify:track:5F1Ml9CcAC4FnMAOEZDXYv</td>\n",
       "      <td>The Civil Wars</td>\n",
       "    </tr>\n",
       "    <tr>\n",
       "      <th>14</th>\n",
       "      <td>Drown</td>\n",
       "      <td>The Way That Lovers Do</td>\n",
       "      <td>spotify:track:1kJvdhrr9MHOZ1e1PhTXTG</td>\n",
       "      <td>Prateek Kuhad</td>\n",
       "    </tr>\n",
       "    <tr>\n",
       "      <th>15</th>\n",
       "      <td>Dust to Dust</td>\n",
       "      <td>The Civil Wars</td>\n",
       "      <td>spotify:track:5P6ZBMWS66FVo6deJaDdHy</td>\n",
       "      <td>The Civil Wars</td>\n",
       "    </tr>\n",
       "    <tr>\n",
       "      <th>16</th>\n",
       "      <td>Eavesdrop</td>\n",
       "      <td>The Civil Wars</td>\n",
       "      <td>spotify:track:4BafNHkkPaUocRMKi392MT</td>\n",
       "      <td>The Civil Wars</td>\n",
       "    </tr>\n",
       "    <tr>\n",
       "      <th>17</th>\n",
       "      <td>Everybody Hurts</td>\n",
       "      <td>No Name</td>\n",
       "      <td>spotify:track:1w3exvIgbRFV2ijf6qyWm8</td>\n",
       "      <td>Sidhu Moose Wala</td>\n",
       "    </tr>\n",
       "    <tr>\n",
       "      <th>18</th>\n",
       "      <td>Faasla</td>\n",
       "      <td>Scars &amp; Screws</td>\n",
       "      <td>spotify:track:3TB0OtQMzrPoNcmXfUMVzC</td>\n",
       "      <td>Shamoon Ismail,Hasan Raheem</td>\n",
       "    </tr>\n",
       "    <tr>\n",
       "      <th>19</th>\n",
       "      <td>Face</td>\n",
       "      <td>The Way That Lovers Do</td>\n",
       "      <td>spotify:track:0HuS5vFQd06cXV54I0twkV</td>\n",
       "      <td>Prateek Kuhad</td>\n",
       "    </tr>\n",
       "    <tr>\n",
       "      <th>20</th>\n",
       "      <td>Favorite Peeps</td>\n",
       "      <td>The Way That Lovers Do</td>\n",
       "      <td>spotify:track:0SHa9XHwYYB1UUmgbgHuhQ</td>\n",
       "      <td>Prateek Kuhad</td>\n",
       "    </tr>\n",
       "    <tr>\n",
       "      <th>21</th>\n",
       "      <td>From This Valley</td>\n",
       "      <td>The Civil Wars</td>\n",
       "      <td>spotify:track:79jxIFiRzVvJVPYiaqBTqK</td>\n",
       "      <td>The Civil Wars</td>\n",
       "    </tr>\n",
       "    <tr>\n",
       "      <th>22</th>\n",
       "      <td>Full Time Lover</td>\n",
       "      <td>The Way That Lovers Do</td>\n",
       "      <td>spotify:track:6Td37HXpeCVelczrLcg73L</td>\n",
       "      <td>Prateek Kuhad</td>\n",
       "    </tr>\n",
       "    <tr>\n",
       "      <th>23</th>\n",
       "      <td>Heartbroken</td>\n",
       "      <td>The Way That Lovers Do</td>\n",
       "      <td>spotify:track:7pgIbZ3tWdXLUAlofe3r2i</td>\n",
       "      <td>Prateek Kuhad</td>\n",
       "    </tr>\n",
       "    <tr>\n",
       "      <th>24</th>\n",
       "      <td>Hollow</td>\n",
       "      <td>The Way That Lovers Do</td>\n",
       "      <td>spotify:track:1y7FoHfVtbZV6mONGJgU7j</td>\n",
       "      <td>Prateek Kuhad</td>\n",
       "    </tr>\n",
       "    <tr>\n",
       "      <th>25</th>\n",
       "      <td>I Had Me a Girl</td>\n",
       "      <td>The Civil Wars</td>\n",
       "      <td>spotify:track:37zPDZLuL3dgmI4hb6Yix0</td>\n",
       "      <td>The Civil Wars</td>\n",
       "    </tr>\n",
       "    <tr>\n",
       "      <th>26</th>\n",
       "      <td>Into The Sunset</td>\n",
       "      <td>Scars &amp; Screws</td>\n",
       "      <td>spotify:track:7xJv0nURSYIPtgdwiNSqiy</td>\n",
       "      <td>Shamoon Ismail</td>\n",
       "    </tr>\n",
       "    <tr>\n",
       "      <th>27</th>\n",
       "      <td>Just A Word</td>\n",
       "      <td>The Way That Lovers Do</td>\n",
       "      <td>spotify:track:3XWRc74od1pT7MUkGiJmoW</td>\n",
       "      <td>Prateek Kuhad</td>\n",
       "    </tr>\n",
       "    <tr>\n",
       "      <th>28</th>\n",
       "      <td>Load Out</td>\n",
       "      <td>Scars &amp; Screws</td>\n",
       "      <td>spotify:track:1Dq6xyMtnxEdmVOjzV9caq</td>\n",
       "      <td>Shamoon Ismail,Talhah Yunus</td>\n",
       "    </tr>\n",
       "    <tr>\n",
       "      <th>29</th>\n",
       "      <td>Location</td>\n",
       "      <td>Scars &amp; Screws</td>\n",
       "      <td>spotify:track:3ADku3uSBCVbRF7fAl1J43</td>\n",
       "      <td>Shamoon Ismail</td>\n",
       "    </tr>\n",
       "    <tr>\n",
       "      <th>30</th>\n",
       "      <td>Lockdown Freestyle</td>\n",
       "      <td>Scars &amp; Screws</td>\n",
       "      <td>spotify:track:2jUOGqov3TsX7wNHTMoIaJ</td>\n",
       "      <td>Shamoon Ismail</td>\n",
       "    </tr>\n",
       "    <tr>\n",
       "      <th>31</th>\n",
       "      <td>Love Sick</td>\n",
       "      <td>No Name</td>\n",
       "      <td>spotify:track:1skGwRjc7wYY70PJCAkKMr</td>\n",
       "      <td>Sidhu Moose Wala,AR Paisley</td>\n",
       "    </tr>\n",
       "    <tr>\n",
       "      <th>32</th>\n",
       "      <td>Never Fold</td>\n",
       "      <td>No Name</td>\n",
       "      <td>spotify:track:3JkVYvxNoGf2HCWJo61462</td>\n",
       "      <td>Sidhu Moose Wala,Sunny Malton,SOE</td>\n",
       "    </tr>\n",
       "    <tr>\n",
       "      <th>33</th>\n",
       "      <td>Oh Henry</td>\n",
       "      <td>The Civil Wars</td>\n",
       "      <td>spotify:track:4oQxCtf4WyMSiEE0k9kTUr</td>\n",
       "      <td>The Civil Wars</td>\n",
       "    </tr>\n",
       "    <tr>\n",
       "      <th>34</th>\n",
       "      <td>Promises</td>\n",
       "      <td>Scars &amp; Screws</td>\n",
       "      <td>spotify:track:5Y3OxkwWPuFZc5rRoJE45A</td>\n",
       "      <td>Shamoon Ismail,Annural Khalid</td>\n",
       "    </tr>\n",
       "    <tr>\n",
       "      <th>35</th>\n",
       "      <td>Promises (Rovalio Mix)</td>\n",
       "      <td>Scars &amp; Screws</td>\n",
       "      <td>spotify:track:7EX4LadxtxQo6tboAkJWBU</td>\n",
       "      <td>Shamoon Ismail</td>\n",
       "    </tr>\n",
       "    <tr>\n",
       "      <th>36</th>\n",
       "      <td>Roz</td>\n",
       "      <td>Baaraat</td>\n",
       "      <td>spotify:track:1rDQJd8kzwBRXeoTtojkQn</td>\n",
       "      <td>Ritviz,Nucleya</td>\n",
       "    </tr>\n",
       "    <tr>\n",
       "      <th>37</th>\n",
       "      <td>Sacred Heart</td>\n",
       "      <td>The Civil Wars</td>\n",
       "      <td>spotify:track:2gE7DT6krgEjU6qItbLdXZ</td>\n",
       "      <td>The Civil Wars</td>\n",
       "    </tr>\n",
       "    <tr>\n",
       "      <th>38</th>\n",
       "      <td>Same Old Same Old</td>\n",
       "      <td>The Civil Wars</td>\n",
       "      <td>spotify:track:4fwiUXTml7O24fL34JxFI7</td>\n",
       "      <td>The Civil Wars</td>\n",
       "    </tr>\n",
       "    <tr>\n",
       "      <th>39</th>\n",
       "      <td>Sathi</td>\n",
       "      <td>Baaraat</td>\n",
       "      <td>spotify:track:3QCL4FJOSqLrFDJmcdNSbA</td>\n",
       "      <td>Ritviz,Nucleya</td>\n",
       "    </tr>\n",
       "    <tr>\n",
       "      <th>40</th>\n",
       "      <td>Scars &amp; Screws</td>\n",
       "      <td>Scars &amp; Screws</td>\n",
       "      <td>spotify:track:51sZc2sRnjxpTuzLnlkNbm</td>\n",
       "      <td>Shamoon Ismail</td>\n",
       "    </tr>\n",
       "    <tr>\n",
       "      <th>41</th>\n",
       "      <td>Tell Mama</td>\n",
       "      <td>The Civil Wars</td>\n",
       "      <td>spotify:track:56ZfDPbCCrJUyyxU2syt6c</td>\n",
       "      <td>The Civil Wars</td>\n",
       "    </tr>\n",
       "    <tr>\n",
       "      <th>42</th>\n",
       "      <td>The Last Time</td>\n",
       "      <td>The Way That Lovers Do</td>\n",
       "      <td>spotify:track:29YXX6TCgc7d5jz3BYF7Gc</td>\n",
       "      <td>Prateek Kuhad</td>\n",
       "    </tr>\n",
       "    <tr>\n",
       "      <th>43</th>\n",
       "      <td>The One That Got Away</td>\n",
       "      <td>The Civil Wars</td>\n",
       "      <td>spotify:track:3W2G2Bwt9UAM0sgUVhOC6E</td>\n",
       "      <td>The Civil Wars</td>\n",
       "    </tr>\n",
       "    <tr>\n",
       "      <th>44</th>\n",
       "      <td>airplane thoughts</td>\n",
       "      <td>rapunzel</td>\n",
       "      <td>spotify:track:4t5joZkdlXlvzLXJbkgppJ</td>\n",
       "      <td>dhruv</td>\n",
       "    </tr>\n",
       "    <tr>\n",
       "      <th>45</th>\n",
       "      <td>double take</td>\n",
       "      <td>rapunzel</td>\n",
       "      <td>spotify:track:0QzuaeCEEOV40Pn7IvKEny</td>\n",
       "      <td>dhruv</td>\n",
       "    </tr>\n",
       "    <tr>\n",
       "      <th>46</th>\n",
       "      <td>grateful</td>\n",
       "      <td>rapunzel</td>\n",
       "      <td>spotify:track:7mMzlK2pYVbgkUL1zaGGyV</td>\n",
       "      <td>dhruv</td>\n",
       "    </tr>\n",
       "    <tr>\n",
       "      <th>47</th>\n",
       "      <td>moonlight</td>\n",
       "      <td>rapunzel</td>\n",
       "      <td>spotify:track:2Qn6WHJrY5Im82Jux8FboH</td>\n",
       "      <td>dhruv</td>\n",
       "    </tr>\n",
       "    <tr>\n",
       "      <th>48</th>\n",
       "      <td>retrograde</td>\n",
       "      <td>rapunzel</td>\n",
       "      <td>spotify:track:4w0rTd0QIbsvVykYij8M7L</td>\n",
       "      <td>dhruv</td>\n",
       "    </tr>\n",
       "    <tr>\n",
       "      <th>49</th>\n",
       "      <td>stable life</td>\n",
       "      <td>rapunzel</td>\n",
       "      <td>spotify:track:1KWbsqgeBi2WfqZ8Of494c</td>\n",
       "      <td>dhruv</td>\n",
       "    </tr>\n",
       "    <tr>\n",
       "      <th>50</th>\n",
       "      <td>vulnerable</td>\n",
       "      <td>rapunzel</td>\n",
       "      <td>spotify:track:4MiZmaNIbvO7yY8UltCATD</td>\n",
       "      <td>dhruv</td>\n",
       "    </tr>\n",
       "    <tr>\n",
       "      <th>51</th>\n",
       "      <td>what's wrong with me?</td>\n",
       "      <td>rapunzel</td>\n",
       "      <td>spotify:track:6sWkR0Y0NsJN4Ov3vKAPIa</td>\n",
       "      <td>dhruv</td>\n",
       "    </tr>\n",
       "  </tbody>\n",
       "</table>\n",
       "</div>"
      ],
      "text/plain": [
       "                              name                   album  \\\n",
       "0                         0 to 100                 No Name   \n",
       "1                           051021          Scars & Screws   \n",
       "2                       All I Need  The Way That Lovers Do   \n",
       "3                   All Night Long          Scars & Screws   \n",
       "4                          Ari Ari                 Baaraat   \n",
       "5                          Baaraat                 Baaraat   \n",
       "6   Bloodlust (feat. Mr. Capone-E)                 No Name   \n",
       "7                            Bloom  The Way That Lovers Do   \n",
       "8                Chaunde Ne Pharna          Scars & Screws   \n",
       "9                              Co2  The Way That Lovers Do   \n",
       "10                         Cocaine          Scars & Screws   \n",
       "11                        D'Arline          The Civil Wars   \n",
       "12                Devil's Backbone          The Civil Wars   \n",
       "13                          Disarm          The Civil Wars   \n",
       "14                           Drown  The Way That Lovers Do   \n",
       "15                    Dust to Dust          The Civil Wars   \n",
       "16                       Eavesdrop          The Civil Wars   \n",
       "17                 Everybody Hurts                 No Name   \n",
       "18                          Faasla          Scars & Screws   \n",
       "19                            Face  The Way That Lovers Do   \n",
       "20                  Favorite Peeps  The Way That Lovers Do   \n",
       "21                From This Valley          The Civil Wars   \n",
       "22                 Full Time Lover  The Way That Lovers Do   \n",
       "23                     Heartbroken  The Way That Lovers Do   \n",
       "24                          Hollow  The Way That Lovers Do   \n",
       "25                 I Had Me a Girl          The Civil Wars   \n",
       "26                 Into The Sunset          Scars & Screws   \n",
       "27                     Just A Word  The Way That Lovers Do   \n",
       "28                        Load Out          Scars & Screws   \n",
       "29                        Location          Scars & Screws   \n",
       "30              Lockdown Freestyle          Scars & Screws   \n",
       "31                       Love Sick                 No Name   \n",
       "32                      Never Fold                 No Name   \n",
       "33                        Oh Henry          The Civil Wars   \n",
       "34                        Promises          Scars & Screws   \n",
       "35          Promises (Rovalio Mix)          Scars & Screws   \n",
       "36                             Roz                 Baaraat   \n",
       "37                    Sacred Heart          The Civil Wars   \n",
       "38               Same Old Same Old          The Civil Wars   \n",
       "39                           Sathi                 Baaraat   \n",
       "40                  Scars & Screws          Scars & Screws   \n",
       "41                       Tell Mama          The Civil Wars   \n",
       "42                   The Last Time  The Way That Lovers Do   \n",
       "43           The One That Got Away          The Civil Wars   \n",
       "44               airplane thoughts                rapunzel   \n",
       "45                     double take                rapunzel   \n",
       "46                        grateful                rapunzel   \n",
       "47                       moonlight                rapunzel   \n",
       "48                      retrograde                rapunzel   \n",
       "49                     stable life                rapunzel   \n",
       "50                      vulnerable                rapunzel   \n",
       "51           what's wrong with me?                rapunzel   \n",
       "\n",
       "                                     uri                             artist  \n",
       "0   spotify:track:7cVe3mYMIfhOlz1NXFWv70                   Sidhu Moose Wala  \n",
       "1   spotify:track:6D0RJju2TSMtZM1jsRc58S         Shamoon Ismail,Talha Anjum  \n",
       "2   spotify:track:47hXMyQDGW8sA1NGqmFL7h                      Prateek Kuhad  \n",
       "3   spotify:track:308ngBPHBQa8HW4n0PBUKh                     Shamoon Ismail  \n",
       "4   spotify:track:3edqjLVQrRPLvt9FAYUAsT                     Ritviz,Nucleya  \n",
       "5   spotify:track:0YLSjVxSb5FT1Bo8Tnxr8j                     Ritviz,Nucleya  \n",
       "6   spotify:track:1O00WM9qGLUBA5gq2yw0WF      Sidhu Moose Wala,Mr. Capone-E  \n",
       "7   spotify:track:39lOHITmszIVH9WF4Jpbum                      Prateek Kuhad  \n",
       "8   spotify:track:18sA3ZuFnaYvinSyc1EZ0M                     Shamoon Ismail  \n",
       "9   spotify:track:3hB9lDLyAClYVZivMMl20N                      Prateek Kuhad  \n",
       "10  spotify:track:5Mk3wOYG9Emd6SL5jVviZ7                     Shamoon Ismail  \n",
       "11  spotify:track:6UoygTjFvuC8pEGo2siNGM                     The Civil Wars  \n",
       "12  spotify:track:4qoD4IJbbir3hsAu4IowiG                     The Civil Wars  \n",
       "13  spotify:track:5F1Ml9CcAC4FnMAOEZDXYv                     The Civil Wars  \n",
       "14  spotify:track:1kJvdhrr9MHOZ1e1PhTXTG                      Prateek Kuhad  \n",
       "15  spotify:track:5P6ZBMWS66FVo6deJaDdHy                     The Civil Wars  \n",
       "16  spotify:track:4BafNHkkPaUocRMKi392MT                     The Civil Wars  \n",
       "17  spotify:track:1w3exvIgbRFV2ijf6qyWm8                   Sidhu Moose Wala  \n",
       "18  spotify:track:3TB0OtQMzrPoNcmXfUMVzC        Shamoon Ismail,Hasan Raheem  \n",
       "19  spotify:track:0HuS5vFQd06cXV54I0twkV                      Prateek Kuhad  \n",
       "20  spotify:track:0SHa9XHwYYB1UUmgbgHuhQ                      Prateek Kuhad  \n",
       "21  spotify:track:79jxIFiRzVvJVPYiaqBTqK                     The Civil Wars  \n",
       "22  spotify:track:6Td37HXpeCVelczrLcg73L                      Prateek Kuhad  \n",
       "23  spotify:track:7pgIbZ3tWdXLUAlofe3r2i                      Prateek Kuhad  \n",
       "24  spotify:track:1y7FoHfVtbZV6mONGJgU7j                      Prateek Kuhad  \n",
       "25  spotify:track:37zPDZLuL3dgmI4hb6Yix0                     The Civil Wars  \n",
       "26  spotify:track:7xJv0nURSYIPtgdwiNSqiy                     Shamoon Ismail  \n",
       "27  spotify:track:3XWRc74od1pT7MUkGiJmoW                      Prateek Kuhad  \n",
       "28  spotify:track:1Dq6xyMtnxEdmVOjzV9caq        Shamoon Ismail,Talhah Yunus  \n",
       "29  spotify:track:3ADku3uSBCVbRF7fAl1J43                     Shamoon Ismail  \n",
       "30  spotify:track:2jUOGqov3TsX7wNHTMoIaJ                     Shamoon Ismail  \n",
       "31  spotify:track:1skGwRjc7wYY70PJCAkKMr        Sidhu Moose Wala,AR Paisley  \n",
       "32  spotify:track:3JkVYvxNoGf2HCWJo61462  Sidhu Moose Wala,Sunny Malton,SOE  \n",
       "33  spotify:track:4oQxCtf4WyMSiEE0k9kTUr                     The Civil Wars  \n",
       "34  spotify:track:5Y3OxkwWPuFZc5rRoJE45A      Shamoon Ismail,Annural Khalid  \n",
       "35  spotify:track:7EX4LadxtxQo6tboAkJWBU                     Shamoon Ismail  \n",
       "36  spotify:track:1rDQJd8kzwBRXeoTtojkQn                     Ritviz,Nucleya  \n",
       "37  spotify:track:2gE7DT6krgEjU6qItbLdXZ                     The Civil Wars  \n",
       "38  spotify:track:4fwiUXTml7O24fL34JxFI7                     The Civil Wars  \n",
       "39  spotify:track:3QCL4FJOSqLrFDJmcdNSbA                     Ritviz,Nucleya  \n",
       "40  spotify:track:51sZc2sRnjxpTuzLnlkNbm                     Shamoon Ismail  \n",
       "41  spotify:track:56ZfDPbCCrJUyyxU2syt6c                     The Civil Wars  \n",
       "42  spotify:track:29YXX6TCgc7d5jz3BYF7Gc                      Prateek Kuhad  \n",
       "43  spotify:track:3W2G2Bwt9UAM0sgUVhOC6E                     The Civil Wars  \n",
       "44  spotify:track:4t5joZkdlXlvzLXJbkgppJ                              dhruv  \n",
       "45  spotify:track:0QzuaeCEEOV40Pn7IvKEny                              dhruv  \n",
       "46  spotify:track:7mMzlK2pYVbgkUL1zaGGyV                              dhruv  \n",
       "47  spotify:track:2Qn6WHJrY5Im82Jux8FboH                              dhruv  \n",
       "48  spotify:track:4w0rTd0QIbsvVykYij8M7L                              dhruv  \n",
       "49  spotify:track:1KWbsqgeBi2WfqZ8Of494c                              dhruv  \n",
       "50  spotify:track:4MiZmaNIbvO7yY8UltCATD                              dhruv  \n",
       "51  spotify:track:6sWkR0Y0NsJN4Ov3vKAPIa                              dhruv  "
      ]
     },
     "execution_count": 10,
     "metadata": {},
     "output_type": "execute_result"
    }
   ],
   "source": [
    "tracksDF2 = TracksDF.groupby(['name', 'album', 'uri'])[\n",
    "    'artist'].apply(','.join).reset_index()\n",
    "# tracksDF2 = TracksDF.groupby('album').agg(lambda x: ''.join(set(x)))\n",
    "# tracksDF2 = TracksDF.groupby(['album','name','uri'])['artist'].apply(','.join).reset_index()\n",
    "tracksDF2\n"
   ]
  },
  {
   "cell_type": "markdown",
   "metadata": {},
   "source": [
    "Now we combine the 2 Dataframes fetched from the Playlist to create a DataFrame containing a Song's name, album name, Artists and its several features"
   ]
  },
  {
   "cell_type": "code",
   "execution_count": 11,
   "metadata": {},
   "outputs": [
    {
     "data": {
      "text/html": [
       "<div>\n",
       "<style scoped>\n",
       "    .dataframe tbody tr th:only-of-type {\n",
       "        vertical-align: middle;\n",
       "    }\n",
       "\n",
       "    .dataframe tbody tr th {\n",
       "        vertical-align: top;\n",
       "    }\n",
       "\n",
       "    .dataframe thead th {\n",
       "        text-align: right;\n",
       "    }\n",
       "</style>\n",
       "<table border=\"1\" class=\"dataframe\">\n",
       "  <thead>\n",
       "    <tr style=\"text-align: right;\">\n",
       "      <th></th>\n",
       "      <th>name</th>\n",
       "      <th>album</th>\n",
       "      <th>uri</th>\n",
       "      <th>artist</th>\n",
       "      <th>playlist_uri</th>\n",
       "      <th>duration_ms</th>\n",
       "      <th>key</th>\n",
       "      <th>mode</th>\n",
       "      <th>time_signature</th>\n",
       "      <th>acousticness</th>\n",
       "      <th>danceability</th>\n",
       "      <th>energy</th>\n",
       "      <th>instrumentalness</th>\n",
       "      <th>liveness</th>\n",
       "      <th>loudness</th>\n",
       "      <th>speechiness</th>\n",
       "      <th>valence</th>\n",
       "      <th>tempo</th>\n",
       "    </tr>\n",
       "  </thead>\n",
       "  <tbody>\n",
       "    <tr>\n",
       "      <th>0</th>\n",
       "      <td>0 to 100</td>\n",
       "      <td>No Name</td>\n",
       "      <td>spotify:track:7cVe3mYMIfhOlz1NXFWv70</td>\n",
       "      <td>Sidhu Moose Wala</td>\n",
       "      <td>spotify:playlist:7gKVccRxsOD0gKdUv63HoB</td>\n",
       "      <td>108493</td>\n",
       "      <td>8</td>\n",
       "      <td>1</td>\n",
       "      <td>4</td>\n",
       "      <td>0.1390</td>\n",
       "      <td>0.742</td>\n",
       "      <td>0.675</td>\n",
       "      <td>0.000000</td>\n",
       "      <td>0.1670</td>\n",
       "      <td>-6.551</td>\n",
       "      <td>0.0907</td>\n",
       "      <td>0.679</td>\n",
       "      <td>145.989</td>\n",
       "    </tr>\n",
       "    <tr>\n",
       "      <th>1</th>\n",
       "      <td>051021</td>\n",
       "      <td>Scars &amp; Screws</td>\n",
       "      <td>spotify:track:6D0RJju2TSMtZM1jsRc58S</td>\n",
       "      <td>Shamoon Ismail,Talha Anjum</td>\n",
       "      <td>spotify:playlist:7gKVccRxsOD0gKdUv63HoB</td>\n",
       "      <td>211544</td>\n",
       "      <td>2</td>\n",
       "      <td>1</td>\n",
       "      <td>4</td>\n",
       "      <td>0.0641</td>\n",
       "      <td>0.679</td>\n",
       "      <td>0.661</td>\n",
       "      <td>0.003270</td>\n",
       "      <td>0.0976</td>\n",
       "      <td>-8.928</td>\n",
       "      <td>0.1240</td>\n",
       "      <td>0.388</td>\n",
       "      <td>169.979</td>\n",
       "    </tr>\n",
       "    <tr>\n",
       "      <th>2</th>\n",
       "      <td>All I Need</td>\n",
       "      <td>The Way That Lovers Do</td>\n",
       "      <td>spotify:track:47hXMyQDGW8sA1NGqmFL7h</td>\n",
       "      <td>Prateek Kuhad</td>\n",
       "      <td>spotify:playlist:7gKVccRxsOD0gKdUv63HoB</td>\n",
       "      <td>153693</td>\n",
       "      <td>6</td>\n",
       "      <td>1</td>\n",
       "      <td>4</td>\n",
       "      <td>0.7710</td>\n",
       "      <td>0.786</td>\n",
       "      <td>0.356</td>\n",
       "      <td>0.694000</td>\n",
       "      <td>0.1000</td>\n",
       "      <td>-11.432</td>\n",
       "      <td>0.0462</td>\n",
       "      <td>0.519</td>\n",
       "      <td>116.023</td>\n",
       "    </tr>\n",
       "    <tr>\n",
       "      <th>3</th>\n",
       "      <td>All Night Long</td>\n",
       "      <td>Scars &amp; Screws</td>\n",
       "      <td>spotify:track:308ngBPHBQa8HW4n0PBUKh</td>\n",
       "      <td>Shamoon Ismail</td>\n",
       "      <td>spotify:playlist:7gKVccRxsOD0gKdUv63HoB</td>\n",
       "      <td>190358</td>\n",
       "      <td>7</td>\n",
       "      <td>1</td>\n",
       "      <td>4</td>\n",
       "      <td>0.0554</td>\n",
       "      <td>0.756</td>\n",
       "      <td>0.436</td>\n",
       "      <td>0.031100</td>\n",
       "      <td>0.3090</td>\n",
       "      <td>-7.262</td>\n",
       "      <td>0.0457</td>\n",
       "      <td>0.228</td>\n",
       "      <td>101.933</td>\n",
       "    </tr>\n",
       "    <tr>\n",
       "      <th>4</th>\n",
       "      <td>Ari Ari</td>\n",
       "      <td>Baaraat</td>\n",
       "      <td>spotify:track:3edqjLVQrRPLvt9FAYUAsT</td>\n",
       "      <td>Ritviz,Nucleya</td>\n",
       "      <td>spotify:playlist:7gKVccRxsOD0gKdUv63HoB</td>\n",
       "      <td>167472</td>\n",
       "      <td>0</td>\n",
       "      <td>1</td>\n",
       "      <td>4</td>\n",
       "      <td>0.0052</td>\n",
       "      <td>0.721</td>\n",
       "      <td>0.676</td>\n",
       "      <td>0.000003</td>\n",
       "      <td>0.2050</td>\n",
       "      <td>-6.534</td>\n",
       "      <td>0.0450</td>\n",
       "      <td>0.394</td>\n",
       "      <td>140.080</td>\n",
       "    </tr>\n",
       "  </tbody>\n",
       "</table>\n",
       "</div>"
      ],
      "text/plain": [
       "             name                   album  \\\n",
       "0        0 to 100                 No Name   \n",
       "1          051021          Scars & Screws   \n",
       "2      All I Need  The Way That Lovers Do   \n",
       "3  All Night Long          Scars & Screws   \n",
       "4         Ari Ari                 Baaraat   \n",
       "\n",
       "                                    uri                      artist  \\\n",
       "0  spotify:track:7cVe3mYMIfhOlz1NXFWv70            Sidhu Moose Wala   \n",
       "1  spotify:track:6D0RJju2TSMtZM1jsRc58S  Shamoon Ismail,Talha Anjum   \n",
       "2  spotify:track:47hXMyQDGW8sA1NGqmFL7h               Prateek Kuhad   \n",
       "3  spotify:track:308ngBPHBQa8HW4n0PBUKh              Shamoon Ismail   \n",
       "4  spotify:track:3edqjLVQrRPLvt9FAYUAsT              Ritviz,Nucleya   \n",
       "\n",
       "                              playlist_uri  duration_ms  key  mode  \\\n",
       "0  spotify:playlist:7gKVccRxsOD0gKdUv63HoB       108493    8     1   \n",
       "1  spotify:playlist:7gKVccRxsOD0gKdUv63HoB       211544    2     1   \n",
       "2  spotify:playlist:7gKVccRxsOD0gKdUv63HoB       153693    6     1   \n",
       "3  spotify:playlist:7gKVccRxsOD0gKdUv63HoB       190358    7     1   \n",
       "4  spotify:playlist:7gKVccRxsOD0gKdUv63HoB       167472    0     1   \n",
       "\n",
       "   time_signature  acousticness  danceability  energy  instrumentalness  \\\n",
       "0               4        0.1390         0.742   0.675          0.000000   \n",
       "1               4        0.0641         0.679   0.661          0.003270   \n",
       "2               4        0.7710         0.786   0.356          0.694000   \n",
       "3               4        0.0554         0.756   0.436          0.031100   \n",
       "4               4        0.0052         0.721   0.676          0.000003   \n",
       "\n",
       "   liveness  loudness  speechiness  valence    tempo  \n",
       "0    0.1670    -6.551       0.0907    0.679  145.989  \n",
       "1    0.0976    -8.928       0.1240    0.388  169.979  \n",
       "2    0.1000   -11.432       0.0462    0.519  116.023  \n",
       "3    0.3090    -7.262       0.0457    0.228  101.933  \n",
       "4    0.2050    -6.534       0.0450    0.394  140.080  "
      ]
     },
     "execution_count": 11,
     "metadata": {},
     "output_type": "execute_result"
    }
   ],
   "source": [
    "DF1 = pd.merge(tracksDF2, FeatureDF, on=\"uri\")\n",
    "DF1.head()\n"
   ]
  },
  {
   "cell_type": "markdown",
   "metadata": {},
   "source": [
    "### grouping on the basis of album"
   ]
  },
  {
   "cell_type": "markdown",
   "metadata": {},
   "source": [
    "The summaryDF groups the data on the basis of album name and takes the average of the features of all the songs in that album"
   ]
  },
  {
   "cell_type": "code",
   "execution_count": 12,
   "metadata": {},
   "outputs": [
    {
     "data": {
      "text/html": [
       "<div>\n",
       "<style scoped>\n",
       "    .dataframe tbody tr th:only-of-type {\n",
       "        vertical-align: middle;\n",
       "    }\n",
       "\n",
       "    .dataframe tbody tr th {\n",
       "        vertical-align: top;\n",
       "    }\n",
       "\n",
       "    .dataframe thead th {\n",
       "        text-align: right;\n",
       "    }\n",
       "</style>\n",
       "<table border=\"1\" class=\"dataframe\">\n",
       "  <thead>\n",
       "    <tr style=\"text-align: right;\">\n",
       "      <th></th>\n",
       "      <th>album</th>\n",
       "      <th>duration_ms</th>\n",
       "      <th>key</th>\n",
       "      <th>mode</th>\n",
       "      <th>time_signature</th>\n",
       "      <th>acousticness</th>\n",
       "      <th>danceability</th>\n",
       "      <th>energy</th>\n",
       "      <th>instrumentalness</th>\n",
       "      <th>liveness</th>\n",
       "      <th>loudness</th>\n",
       "      <th>speechiness</th>\n",
       "      <th>valence</th>\n",
       "      <th>tempo</th>\n",
       "    </tr>\n",
       "  </thead>\n",
       "  <tbody>\n",
       "    <tr>\n",
       "      <th>0</th>\n",
       "      <td>Baaraat</td>\n",
       "      <td>206257.000000</td>\n",
       "      <td>3.750000</td>\n",
       "      <td>0.500000</td>\n",
       "      <td>4.000000</td>\n",
       "      <td>0.169650</td>\n",
       "      <td>0.704250</td>\n",
       "      <td>0.597250</td>\n",
       "      <td>6.450000e-07</td>\n",
       "      <td>0.219900</td>\n",
       "      <td>-7.001750</td>\n",
       "      <td>0.069000</td>\n",
       "      <td>0.528500</td>\n",
       "      <td>126.792000</td>\n",
       "    </tr>\n",
       "    <tr>\n",
       "      <th>1</th>\n",
       "      <td>No Name</td>\n",
       "      <td>171279.200000</td>\n",
       "      <td>7.400000</td>\n",
       "      <td>0.600000</td>\n",
       "      <td>4.200000</td>\n",
       "      <td>0.156220</td>\n",
       "      <td>0.734000</td>\n",
       "      <td>0.654000</td>\n",
       "      <td>0.000000e+00</td>\n",
       "      <td>0.130060</td>\n",
       "      <td>-7.104400</td>\n",
       "      <td>0.180800</td>\n",
       "      <td>0.589400</td>\n",
       "      <td>131.594600</td>\n",
       "    </tr>\n",
       "    <tr>\n",
       "      <th>2</th>\n",
       "      <td>Scars &amp; Screws</td>\n",
       "      <td>191376.916667</td>\n",
       "      <td>4.833333</td>\n",
       "      <td>0.583333</td>\n",
       "      <td>4.000000</td>\n",
       "      <td>0.166125</td>\n",
       "      <td>0.660167</td>\n",
       "      <td>0.434833</td>\n",
       "      <td>2.684601e-02</td>\n",
       "      <td>0.155367</td>\n",
       "      <td>-10.763917</td>\n",
       "      <td>0.151433</td>\n",
       "      <td>0.311500</td>\n",
       "      <td>115.787083</td>\n",
       "    </tr>\n",
       "    <tr>\n",
       "      <th>3</th>\n",
       "      <td>The Civil Wars</td>\n",
       "      <td>215217.750000</td>\n",
       "      <td>4.833333</td>\n",
       "      <td>0.666667</td>\n",
       "      <td>3.833333</td>\n",
       "      <td>0.740250</td>\n",
       "      <td>0.412083</td>\n",
       "      <td>0.319567</td>\n",
       "      <td>1.440484e-03</td>\n",
       "      <td>0.118400</td>\n",
       "      <td>-9.798500</td>\n",
       "      <td>0.033950</td>\n",
       "      <td>0.290917</td>\n",
       "      <td>131.534417</td>\n",
       "    </tr>\n",
       "    <tr>\n",
       "      <th>4</th>\n",
       "      <td>The Way That Lovers Do</td>\n",
       "      <td>179061.636364</td>\n",
       "      <td>5.272727</td>\n",
       "      <td>0.909091</td>\n",
       "      <td>4.000000</td>\n",
       "      <td>0.772091</td>\n",
       "      <td>0.543455</td>\n",
       "      <td>0.458818</td>\n",
       "      <td>1.653695e-01</td>\n",
       "      <td>0.120173</td>\n",
       "      <td>-10.351545</td>\n",
       "      <td>0.074764</td>\n",
       "      <td>0.341218</td>\n",
       "      <td>109.082909</td>\n",
       "    </tr>\n",
       "    <tr>\n",
       "      <th>5</th>\n",
       "      <td>rapunzel</td>\n",
       "      <td>197277.125000</td>\n",
       "      <td>5.875000</td>\n",
       "      <td>0.375000</td>\n",
       "      <td>4.000000</td>\n",
       "      <td>0.656625</td>\n",
       "      <td>0.595875</td>\n",
       "      <td>0.441250</td>\n",
       "      <td>4.528588e-03</td>\n",
       "      <td>0.210000</td>\n",
       "      <td>-10.232625</td>\n",
       "      <td>0.071925</td>\n",
       "      <td>0.321750</td>\n",
       "      <td>101.885875</td>\n",
       "    </tr>\n",
       "  </tbody>\n",
       "</table>\n",
       "</div>"
      ],
      "text/plain": [
       "                    album    duration_ms       key      mode  time_signature  \\\n",
       "0                 Baaraat  206257.000000  3.750000  0.500000        4.000000   \n",
       "1                 No Name  171279.200000  7.400000  0.600000        4.200000   \n",
       "2          Scars & Screws  191376.916667  4.833333  0.583333        4.000000   \n",
       "3          The Civil Wars  215217.750000  4.833333  0.666667        3.833333   \n",
       "4  The Way That Lovers Do  179061.636364  5.272727  0.909091        4.000000   \n",
       "5                rapunzel  197277.125000  5.875000  0.375000        4.000000   \n",
       "\n",
       "   acousticness  danceability    energy  instrumentalness  liveness  \\\n",
       "0      0.169650      0.704250  0.597250      6.450000e-07  0.219900   \n",
       "1      0.156220      0.734000  0.654000      0.000000e+00  0.130060   \n",
       "2      0.166125      0.660167  0.434833      2.684601e-02  0.155367   \n",
       "3      0.740250      0.412083  0.319567      1.440484e-03  0.118400   \n",
       "4      0.772091      0.543455  0.458818      1.653695e-01  0.120173   \n",
       "5      0.656625      0.595875  0.441250      4.528588e-03  0.210000   \n",
       "\n",
       "    loudness  speechiness   valence       tempo  \n",
       "0  -7.001750     0.069000  0.528500  126.792000  \n",
       "1  -7.104400     0.180800  0.589400  131.594600  \n",
       "2 -10.763917     0.151433  0.311500  115.787083  \n",
       "3  -9.798500     0.033950  0.290917  131.534417  \n",
       "4 -10.351545     0.074764  0.341218  109.082909  \n",
       "5 -10.232625     0.071925  0.321750  101.885875  "
      ]
     },
     "execution_count": 12,
     "metadata": {},
     "output_type": "execute_result"
    }
   ],
   "source": [
    "summaryDF = DF1.groupby(\"album\").mean().reset_index()\n",
    "summaryDF\n"
   ]
  },
  {
   "cell_type": "markdown",
   "metadata": {},
   "source": [
    "### Comparing various features between albums"
   ]
  },
  {
   "cell_type": "markdown",
   "metadata": {},
   "source": [
    "The Plot below shows a pictorial linechart representation of each album can be viewed below"
   ]
  },
  {
   "cell_type": "markdown",
   "metadata": {},
   "source": [
    "### Trace using plotly"
   ]
  },
  {
   "cell_type": "code",
   "execution_count": 13,
   "metadata": {},
   "outputs": [
    {
     "data": {
      "application/vnd.plotly.v1+json": {
       "config": {
        "plotlyServerURL": "https://plot.ly"
       },
       "data": [
        {
         "mode": "lines+markers",
         "name": "Avg. Danceability",
         "type": "scatter",
         "x": [
          "Baaraat",
          "No Name",
          "Scars & Screws",
          "The Civil Wars",
          "The Way That Lovers Do",
          "rapunzel"
         ],
         "y": [
          0.742,
          0.679,
          0.786,
          0.756,
          0.721,
          0.678,
          0.552,
          0.606,
          0.661,
          0.533,
          0.659,
          0.43,
          0.254,
          0.364,
          0.358,
          0.747,
          0.512,
          0.738,
          0.739,
          0.481,
          0.611,
          0.317,
          0.541,
          0.661,
          0.348,
          0.338,
          0.534,
          0.36,
          0.784,
          0.831,
          0.601,
          0.824,
          0.814,
          0.435,
          0.666,
          0.432,
          0.833,
          0.338,
          0.401,
          0.585,
          0.58,
          0.37,
          0.693,
          0.439,
          0.677,
          0.656,
          0.507,
          0.735,
          0.49,
          0.502,
          0.696,
          0.504
         ]
        },
        {
         "mode": "lines+markers",
         "name": "Avg. Energy",
         "type": "scatter",
         "x": [
          "Baaraat",
          "No Name",
          "Scars & Screws",
          "The Civil Wars",
          "The Way That Lovers Do",
          "rapunzel"
         ],
         "y": [
          0.675,
          0.661,
          0.356,
          0.436,
          0.676,
          0.449,
          0.667,
          0.488,
          0.415,
          0.678,
          0.277,
          0.199,
          0.349,
          0.172,
          0.58,
          0.265,
          0.381,
          0.599,
          0.39,
          0.669,
          0.525,
          0.451,
          0.254,
          0.481,
          0.31,
          0.56,
          0.458,
          0.247,
          0.39,
          0.364,
          0.459,
          0.543,
          0.786,
          0.588,
          0.35,
          0.429,
          0.639,
          0.0948,
          0.161,
          0.625,
          0.589,
          0.301,
          0.459,
          0.313,
          0.454,
          0.436,
          0.516,
          0.501,
          0.229,
          0.446,
          0.543,
          0.405
         ]
        },
        {
         "mode": "lines+markers",
         "name": "Avg. Liveness",
         "type": "scatter",
         "x": [
          "Baaraat",
          "No Name",
          "Scars & Screws",
          "The Civil Wars",
          "The Way That Lovers Do",
          "rapunzel"
         ],
         "y": [
          0.167,
          0.0976,
          0.1,
          0.309,
          0.205,
          0.536,
          0.0777,
          0.184,
          0.31,
          0.145,
          0.128,
          0.145,
          0.234,
          0.0916,
          0.127,
          0.11,
          0.109,
          0.13,
          0.0732,
          0.139,
          0.112,
          0.0898,
          0.101,
          0.0789,
          0.111,
          0.108,
          0.095,
          0.104,
          0.139,
          0.0736,
          0.144,
          0.178,
          0.0976,
          0.156,
          0.238,
          0.136,
          0.101,
          0.1,
          0.118,
          0.0376,
          0.121,
          0.113,
          0.12,
          0.0464,
          0.274,
          0.221,
          0.128,
          0.104,
          0.126,
          0.331,
          0.394,
          0.102
         ]
        },
        {
         "mode": "lines+markers",
         "name": "Avg. Valence",
         "type": "scatter",
         "x": [
          "Baaraat",
          "No Name",
          "Scars & Screws",
          "The Civil Wars",
          "The Way That Lovers Do",
          "rapunzel"
         ],
         "y": [
          0.679,
          0.388,
          0.519,
          0.228,
          0.394,
          0.606,
          0.348,
          0.468,
          0.286,
          0.683,
          0.24,
          0.477,
          0.303,
          0.105,
          0.352,
          0.2,
          0.114,
          0.575,
          0.285,
          0.351,
          0.299,
          0.459,
          0.251,
          0.154,
          0.0474,
          0.576,
          0.275,
          0.279,
          0.316,
          0.649,
          0.231,
          0.548,
          0.797,
          0.516,
          0.272,
          0.205,
          0.448,
          0.237,
          0.112,
          0.666,
          0.363,
          0.149,
          0.35,
          0.243,
          0.273,
          0.196,
          0.486,
          0.551,
          0.281,
          0.311,
          0.3,
          0.176
         ]
        },
        {
         "mode": "lines+markers",
         "name": "Avg. Acousticness",
         "type": "scatter",
         "x": [
          "Baaraat",
          "No Name",
          "Scars & Screws",
          "The Civil Wars",
          "The Way That Lovers Do",
          "rapunzel"
         ],
         "y": [
          0.139,
          0.0641,
          0.771,
          0.0554,
          0.0052,
          0.477,
          0.0381,
          0.597,
          0.0202,
          0.663,
          0.443,
          0.906,
          0.85,
          0.92,
          0.768,
          0.745,
          0.784,
          0.434,
          0.0475,
          0.92,
          0.767,
          0.537,
          0.929,
          0.662,
          0.845,
          0.204,
          0.299,
          0.838,
          0.286,
          0.0268,
          0.195,
          0.101,
          0.069,
          0.735,
          0.204,
          0.0095,
          0.152,
          0.884,
          0.781,
          0.0444,
          0.343,
          0.845,
          0.733,
          0.692,
          0.83,
          0.845,
          0.457,
          0.627,
          0.804,
          0.466,
          0.438,
          0.786
         ]
        },
        {
         "mode": "lines+markers",
         "name": "Avg. Speechiness",
         "type": "scatter",
         "x": [
          "Baaraat",
          "No Name",
          "Scars & Screws",
          "The Civil Wars",
          "The Way That Lovers Do",
          "rapunzel"
         ],
         "y": [
          0.0907,
          0.124,
          0.0462,
          0.0457,
          0.045,
          0.0869,
          0.333,
          0.0255,
          0.183,
          0.0256,
          0.119,
          0.0348,
          0.0379,
          0.0335,
          0.045,
          0.0354,
          0.0258,
          0.0393,
          0.0918,
          0.455,
          0.0354,
          0.0347,
          0.0387,
          0.0294,
          0.0413,
          0.0298,
          0.233,
          0.0396,
          0.0615,
          0.124,
          0.44,
          0.209,
          0.232,
          0.0336,
          0.0389,
          0.0293,
          0.0676,
          0.0434,
          0.0372,
          0.0765,
          0.327,
          0.0322,
          0.0407,
          0.0291,
          0.0673,
          0.0744,
          0.106,
          0.167,
          0.0273,
          0.0365,
          0.0454,
          0.0515
         ]
        }
       ],
       "layout": {
        "template": {
         "data": {
          "bar": [
           {
            "error_x": {
             "color": "#2a3f5f"
            },
            "error_y": {
             "color": "#2a3f5f"
            },
            "marker": {
             "line": {
              "color": "#E5ECF6",
              "width": 0.5
             },
             "pattern": {
              "fillmode": "overlay",
              "size": 10,
              "solidity": 0.2
             }
            },
            "type": "bar"
           }
          ],
          "barpolar": [
           {
            "marker": {
             "line": {
              "color": "#E5ECF6",
              "width": 0.5
             },
             "pattern": {
              "fillmode": "overlay",
              "size": 10,
              "solidity": 0.2
             }
            },
            "type": "barpolar"
           }
          ],
          "carpet": [
           {
            "aaxis": {
             "endlinecolor": "#2a3f5f",
             "gridcolor": "white",
             "linecolor": "white",
             "minorgridcolor": "white",
             "startlinecolor": "#2a3f5f"
            },
            "baxis": {
             "endlinecolor": "#2a3f5f",
             "gridcolor": "white",
             "linecolor": "white",
             "minorgridcolor": "white",
             "startlinecolor": "#2a3f5f"
            },
            "type": "carpet"
           }
          ],
          "choropleth": [
           {
            "colorbar": {
             "outlinewidth": 0,
             "ticks": ""
            },
            "type": "choropleth"
           }
          ],
          "contour": [
           {
            "colorbar": {
             "outlinewidth": 0,
             "ticks": ""
            },
            "colorscale": [
             [
              0,
              "#0d0887"
             ],
             [
              0.1111111111111111,
              "#46039f"
             ],
             [
              0.2222222222222222,
              "#7201a8"
             ],
             [
              0.3333333333333333,
              "#9c179e"
             ],
             [
              0.4444444444444444,
              "#bd3786"
             ],
             [
              0.5555555555555556,
              "#d8576b"
             ],
             [
              0.6666666666666666,
              "#ed7953"
             ],
             [
              0.7777777777777778,
              "#fb9f3a"
             ],
             [
              0.8888888888888888,
              "#fdca26"
             ],
             [
              1,
              "#f0f921"
             ]
            ],
            "type": "contour"
           }
          ],
          "contourcarpet": [
           {
            "colorbar": {
             "outlinewidth": 0,
             "ticks": ""
            },
            "type": "contourcarpet"
           }
          ],
          "heatmap": [
           {
            "colorbar": {
             "outlinewidth": 0,
             "ticks": ""
            },
            "colorscale": [
             [
              0,
              "#0d0887"
             ],
             [
              0.1111111111111111,
              "#46039f"
             ],
             [
              0.2222222222222222,
              "#7201a8"
             ],
             [
              0.3333333333333333,
              "#9c179e"
             ],
             [
              0.4444444444444444,
              "#bd3786"
             ],
             [
              0.5555555555555556,
              "#d8576b"
             ],
             [
              0.6666666666666666,
              "#ed7953"
             ],
             [
              0.7777777777777778,
              "#fb9f3a"
             ],
             [
              0.8888888888888888,
              "#fdca26"
             ],
             [
              1,
              "#f0f921"
             ]
            ],
            "type": "heatmap"
           }
          ],
          "heatmapgl": [
           {
            "colorbar": {
             "outlinewidth": 0,
             "ticks": ""
            },
            "colorscale": [
             [
              0,
              "#0d0887"
             ],
             [
              0.1111111111111111,
              "#46039f"
             ],
             [
              0.2222222222222222,
              "#7201a8"
             ],
             [
              0.3333333333333333,
              "#9c179e"
             ],
             [
              0.4444444444444444,
              "#bd3786"
             ],
             [
              0.5555555555555556,
              "#d8576b"
             ],
             [
              0.6666666666666666,
              "#ed7953"
             ],
             [
              0.7777777777777778,
              "#fb9f3a"
             ],
             [
              0.8888888888888888,
              "#fdca26"
             ],
             [
              1,
              "#f0f921"
             ]
            ],
            "type": "heatmapgl"
           }
          ],
          "histogram": [
           {
            "marker": {
             "pattern": {
              "fillmode": "overlay",
              "size": 10,
              "solidity": 0.2
             }
            },
            "type": "histogram"
           }
          ],
          "histogram2d": [
           {
            "colorbar": {
             "outlinewidth": 0,
             "ticks": ""
            },
            "colorscale": [
             [
              0,
              "#0d0887"
             ],
             [
              0.1111111111111111,
              "#46039f"
             ],
             [
              0.2222222222222222,
              "#7201a8"
             ],
             [
              0.3333333333333333,
              "#9c179e"
             ],
             [
              0.4444444444444444,
              "#bd3786"
             ],
             [
              0.5555555555555556,
              "#d8576b"
             ],
             [
              0.6666666666666666,
              "#ed7953"
             ],
             [
              0.7777777777777778,
              "#fb9f3a"
             ],
             [
              0.8888888888888888,
              "#fdca26"
             ],
             [
              1,
              "#f0f921"
             ]
            ],
            "type": "histogram2d"
           }
          ],
          "histogram2dcontour": [
           {
            "colorbar": {
             "outlinewidth": 0,
             "ticks": ""
            },
            "colorscale": [
             [
              0,
              "#0d0887"
             ],
             [
              0.1111111111111111,
              "#46039f"
             ],
             [
              0.2222222222222222,
              "#7201a8"
             ],
             [
              0.3333333333333333,
              "#9c179e"
             ],
             [
              0.4444444444444444,
              "#bd3786"
             ],
             [
              0.5555555555555556,
              "#d8576b"
             ],
             [
              0.6666666666666666,
              "#ed7953"
             ],
             [
              0.7777777777777778,
              "#fb9f3a"
             ],
             [
              0.8888888888888888,
              "#fdca26"
             ],
             [
              1,
              "#f0f921"
             ]
            ],
            "type": "histogram2dcontour"
           }
          ],
          "mesh3d": [
           {
            "colorbar": {
             "outlinewidth": 0,
             "ticks": ""
            },
            "type": "mesh3d"
           }
          ],
          "parcoords": [
           {
            "line": {
             "colorbar": {
              "outlinewidth": 0,
              "ticks": ""
             }
            },
            "type": "parcoords"
           }
          ],
          "pie": [
           {
            "automargin": true,
            "type": "pie"
           }
          ],
          "scatter": [
           {
            "fillpattern": {
             "fillmode": "overlay",
             "size": 10,
             "solidity": 0.2
            },
            "type": "scatter"
           }
          ],
          "scatter3d": [
           {
            "line": {
             "colorbar": {
              "outlinewidth": 0,
              "ticks": ""
             }
            },
            "marker": {
             "colorbar": {
              "outlinewidth": 0,
              "ticks": ""
             }
            },
            "type": "scatter3d"
           }
          ],
          "scattercarpet": [
           {
            "marker": {
             "colorbar": {
              "outlinewidth": 0,
              "ticks": ""
             }
            },
            "type": "scattercarpet"
           }
          ],
          "scattergeo": [
           {
            "marker": {
             "colorbar": {
              "outlinewidth": 0,
              "ticks": ""
             }
            },
            "type": "scattergeo"
           }
          ],
          "scattergl": [
           {
            "marker": {
             "colorbar": {
              "outlinewidth": 0,
              "ticks": ""
             }
            },
            "type": "scattergl"
           }
          ],
          "scattermapbox": [
           {
            "marker": {
             "colorbar": {
              "outlinewidth": 0,
              "ticks": ""
             }
            },
            "type": "scattermapbox"
           }
          ],
          "scatterpolar": [
           {
            "marker": {
             "colorbar": {
              "outlinewidth": 0,
              "ticks": ""
             }
            },
            "type": "scatterpolar"
           }
          ],
          "scatterpolargl": [
           {
            "marker": {
             "colorbar": {
              "outlinewidth": 0,
              "ticks": ""
             }
            },
            "type": "scatterpolargl"
           }
          ],
          "scatterternary": [
           {
            "marker": {
             "colorbar": {
              "outlinewidth": 0,
              "ticks": ""
             }
            },
            "type": "scatterternary"
           }
          ],
          "surface": [
           {
            "colorbar": {
             "outlinewidth": 0,
             "ticks": ""
            },
            "colorscale": [
             [
              0,
              "#0d0887"
             ],
             [
              0.1111111111111111,
              "#46039f"
             ],
             [
              0.2222222222222222,
              "#7201a8"
             ],
             [
              0.3333333333333333,
              "#9c179e"
             ],
             [
              0.4444444444444444,
              "#bd3786"
             ],
             [
              0.5555555555555556,
              "#d8576b"
             ],
             [
              0.6666666666666666,
              "#ed7953"
             ],
             [
              0.7777777777777778,
              "#fb9f3a"
             ],
             [
              0.8888888888888888,
              "#fdca26"
             ],
             [
              1,
              "#f0f921"
             ]
            ],
            "type": "surface"
           }
          ],
          "table": [
           {
            "cells": {
             "fill": {
              "color": "#EBF0F8"
             },
             "line": {
              "color": "white"
             }
            },
            "header": {
             "fill": {
              "color": "#C8D4E3"
             },
             "line": {
              "color": "white"
             }
            },
            "type": "table"
           }
          ]
         },
         "layout": {
          "annotationdefaults": {
           "arrowcolor": "#2a3f5f",
           "arrowhead": 0,
           "arrowwidth": 1
          },
          "autotypenumbers": "strict",
          "coloraxis": {
           "colorbar": {
            "outlinewidth": 0,
            "ticks": ""
           }
          },
          "colorscale": {
           "diverging": [
            [
             0,
             "#8e0152"
            ],
            [
             0.1,
             "#c51b7d"
            ],
            [
             0.2,
             "#de77ae"
            ],
            [
             0.3,
             "#f1b6da"
            ],
            [
             0.4,
             "#fde0ef"
            ],
            [
             0.5,
             "#f7f7f7"
            ],
            [
             0.6,
             "#e6f5d0"
            ],
            [
             0.7,
             "#b8e186"
            ],
            [
             0.8,
             "#7fbc41"
            ],
            [
             0.9,
             "#4d9221"
            ],
            [
             1,
             "#276419"
            ]
           ],
           "sequential": [
            [
             0,
             "#0d0887"
            ],
            [
             0.1111111111111111,
             "#46039f"
            ],
            [
             0.2222222222222222,
             "#7201a8"
            ],
            [
             0.3333333333333333,
             "#9c179e"
            ],
            [
             0.4444444444444444,
             "#bd3786"
            ],
            [
             0.5555555555555556,
             "#d8576b"
            ],
            [
             0.6666666666666666,
             "#ed7953"
            ],
            [
             0.7777777777777778,
             "#fb9f3a"
            ],
            [
             0.8888888888888888,
             "#fdca26"
            ],
            [
             1,
             "#f0f921"
            ]
           ],
           "sequentialminus": [
            [
             0,
             "#0d0887"
            ],
            [
             0.1111111111111111,
             "#46039f"
            ],
            [
             0.2222222222222222,
             "#7201a8"
            ],
            [
             0.3333333333333333,
             "#9c179e"
            ],
            [
             0.4444444444444444,
             "#bd3786"
            ],
            [
             0.5555555555555556,
             "#d8576b"
            ],
            [
             0.6666666666666666,
             "#ed7953"
            ],
            [
             0.7777777777777778,
             "#fb9f3a"
            ],
            [
             0.8888888888888888,
             "#fdca26"
            ],
            [
             1,
             "#f0f921"
            ]
           ]
          },
          "colorway": [
           "#636efa",
           "#EF553B",
           "#00cc96",
           "#ab63fa",
           "#FFA15A",
           "#19d3f3",
           "#FF6692",
           "#B6E880",
           "#FF97FF",
           "#FECB52"
          ],
          "font": {
           "color": "#2a3f5f"
          },
          "geo": {
           "bgcolor": "white",
           "lakecolor": "white",
           "landcolor": "#E5ECF6",
           "showlakes": true,
           "showland": true,
           "subunitcolor": "white"
          },
          "hoverlabel": {
           "align": "left"
          },
          "hovermode": "closest",
          "mapbox": {
           "style": "light"
          },
          "paper_bgcolor": "white",
          "plot_bgcolor": "#E5ECF6",
          "polar": {
           "angularaxis": {
            "gridcolor": "white",
            "linecolor": "white",
            "ticks": ""
           },
           "bgcolor": "#E5ECF6",
           "radialaxis": {
            "gridcolor": "white",
            "linecolor": "white",
            "ticks": ""
           }
          },
          "scene": {
           "xaxis": {
            "backgroundcolor": "#E5ECF6",
            "gridcolor": "white",
            "gridwidth": 2,
            "linecolor": "white",
            "showbackground": true,
            "ticks": "",
            "zerolinecolor": "white"
           },
           "yaxis": {
            "backgroundcolor": "#E5ECF6",
            "gridcolor": "white",
            "gridwidth": 2,
            "linecolor": "white",
            "showbackground": true,
            "ticks": "",
            "zerolinecolor": "white"
           },
           "zaxis": {
            "backgroundcolor": "#E5ECF6",
            "gridcolor": "white",
            "gridwidth": 2,
            "linecolor": "white",
            "showbackground": true,
            "ticks": "",
            "zerolinecolor": "white"
           }
          },
          "shapedefaults": {
           "line": {
            "color": "#2a3f5f"
           }
          },
          "ternary": {
           "aaxis": {
            "gridcolor": "white",
            "linecolor": "white",
            "ticks": ""
           },
           "baxis": {
            "gridcolor": "white",
            "linecolor": "white",
            "ticks": ""
           },
           "bgcolor": "#E5ECF6",
           "caxis": {
            "gridcolor": "white",
            "linecolor": "white",
            "ticks": ""
           }
          },
          "title": {
           "x": 0.05
          },
          "xaxis": {
           "automargin": true,
           "gridcolor": "white",
           "linecolor": "white",
           "ticks": "",
           "title": {
            "standoff": 15
           },
           "zerolinecolor": "white",
           "zerolinewidth": 2
          },
          "yaxis": {
           "automargin": true,
           "gridcolor": "white",
           "linecolor": "white",
           "ticks": "",
           "title": {
            "standoff": 15
           },
           "zerolinecolor": "white",
           "zerolinewidth": 2
          }
         }
        }
       }
      }
     },
     "metadata": {},
     "output_type": "display_data"
    }
   ],
   "source": [
    "album = summaryDF['album']\n",
    "fig = go.Figure()\n",
    "fig.add_trace(go.Scatter(x=album, y=DF1['danceability'],\n",
    "                         mode='lines+markers', name='Avg. Danceability',))\n",
    "fig.add_trace(go.Scatter(x=album, y=DF1['energy'],\n",
    "                         mode='lines+markers', name='Avg. Energy'))\n",
    "fig.add_trace(go.Scatter(x=album, y=DF1['liveness'],\n",
    "                         mode='lines+markers', name='Avg. Liveness'))\n",
    "fig.add_trace(go.Scatter(x=album, y=DF1['valence'],\n",
    "                         mode='lines+markers', name='Avg. Valence'))\n",
    "fig.add_trace(go.Scatter(x=album, y=DF1['acousticness'],\n",
    "                         mode='lines+markers', name='Avg. Acousticness'))\n",
    "fig.add_trace(go.Scatter(x=album, y=DF1['speechiness'],\n",
    "                         mode='lines+markers', name='Avg. Speechiness'))\n"
   ]
  },
  {
   "cell_type": "code",
   "execution_count": 14,
   "metadata": {},
   "outputs": [
    {
     "data": {
      "text/plain": [
       "0                   Baaraat\n",
       "1                   No Name\n",
       "2            Scars & Screws\n",
       "3            The Civil Wars\n",
       "4    The Way That Lovers Do\n",
       "5                  rapunzel\n",
       "Name: album, dtype: object"
      ]
     },
     "execution_count": 14,
     "metadata": {},
     "output_type": "execute_result"
    }
   ],
   "source": [
    "summaryDF['album']\n"
   ]
  },
  {
   "cell_type": "markdown",
   "metadata": {},
   "source": [
    "Finally, the plots below compares the different songs of an album in the form of a Radar Graph.\n",
    "\n",
    "As averages are easily affected by outliers, a more comprehensive breakdown by each album is done to identify the overall signature/characteristics of each song in an album."
   ]
  },
  {
   "cell_type": "markdown",
   "metadata": {},
   "source": [
    "### Polar charts between features using plotly library album wise"
   ]
  },
  {
   "cell_type": "code",
   "execution_count": 15,
   "metadata": {},
   "outputs": [
    {
     "data": {
      "application/vnd.plotly.v1+json": {
       "config": {
        "plotlyServerURL": "https://plot.ly"
       },
       "data": [
        {
         "fill": "toself",
         "name": "Ari Ari",
         "r": [
          0.721,
          0.676,
          0.045,
          0.0052,
          0.205,
          0.394
         ],
         "theta": [
          "danceability",
          "energy",
          "speechiness",
          "acousticness",
          "liveness",
          "valence"
         ],
         "type": "scatterpolar"
        },
        {
         "fill": "toself",
         "name": "Baaraat",
         "r": [
          0.678,
          0.449,
          0.0869,
          0.477,
          0.536,
          0.606
         ],
         "theta": [
          "danceability",
          "energy",
          "speechiness",
          "acousticness",
          "liveness",
          "valence"
         ],
         "type": "scatterpolar"
        },
        {
         "fill": "toself",
         "name": "Roz",
         "r": [
          0.833,
          0.639,
          0.0676,
          0.152,
          0.101,
          0.448
         ],
         "theta": [
          "danceability",
          "energy",
          "speechiness",
          "acousticness",
          "liveness",
          "valence"
         ],
         "type": "scatterpolar"
        },
        {
         "fill": "toself",
         "name": "Sathi",
         "r": [
          0.585,
          0.625,
          0.0765,
          0.0444,
          0.0376,
          0.666
         ],
         "theta": [
          "danceability",
          "energy",
          "speechiness",
          "acousticness",
          "liveness",
          "valence"
         ],
         "type": "scatterpolar"
        }
       ],
       "layout": {
        "template": {
         "data": {
          "bar": [
           {
            "error_x": {
             "color": "#2a3f5f"
            },
            "error_y": {
             "color": "#2a3f5f"
            },
            "marker": {
             "line": {
              "color": "#E5ECF6",
              "width": 0.5
             },
             "pattern": {
              "fillmode": "overlay",
              "size": 10,
              "solidity": 0.2
             }
            },
            "type": "bar"
           }
          ],
          "barpolar": [
           {
            "marker": {
             "line": {
              "color": "#E5ECF6",
              "width": 0.5
             },
             "pattern": {
              "fillmode": "overlay",
              "size": 10,
              "solidity": 0.2
             }
            },
            "type": "barpolar"
           }
          ],
          "carpet": [
           {
            "aaxis": {
             "endlinecolor": "#2a3f5f",
             "gridcolor": "white",
             "linecolor": "white",
             "minorgridcolor": "white",
             "startlinecolor": "#2a3f5f"
            },
            "baxis": {
             "endlinecolor": "#2a3f5f",
             "gridcolor": "white",
             "linecolor": "white",
             "minorgridcolor": "white",
             "startlinecolor": "#2a3f5f"
            },
            "type": "carpet"
           }
          ],
          "choropleth": [
           {
            "colorbar": {
             "outlinewidth": 0,
             "ticks": ""
            },
            "type": "choropleth"
           }
          ],
          "contour": [
           {
            "colorbar": {
             "outlinewidth": 0,
             "ticks": ""
            },
            "colorscale": [
             [
              0,
              "#0d0887"
             ],
             [
              0.1111111111111111,
              "#46039f"
             ],
             [
              0.2222222222222222,
              "#7201a8"
             ],
             [
              0.3333333333333333,
              "#9c179e"
             ],
             [
              0.4444444444444444,
              "#bd3786"
             ],
             [
              0.5555555555555556,
              "#d8576b"
             ],
             [
              0.6666666666666666,
              "#ed7953"
             ],
             [
              0.7777777777777778,
              "#fb9f3a"
             ],
             [
              0.8888888888888888,
              "#fdca26"
             ],
             [
              1,
              "#f0f921"
             ]
            ],
            "type": "contour"
           }
          ],
          "contourcarpet": [
           {
            "colorbar": {
             "outlinewidth": 0,
             "ticks": ""
            },
            "type": "contourcarpet"
           }
          ],
          "heatmap": [
           {
            "colorbar": {
             "outlinewidth": 0,
             "ticks": ""
            },
            "colorscale": [
             [
              0,
              "#0d0887"
             ],
             [
              0.1111111111111111,
              "#46039f"
             ],
             [
              0.2222222222222222,
              "#7201a8"
             ],
             [
              0.3333333333333333,
              "#9c179e"
             ],
             [
              0.4444444444444444,
              "#bd3786"
             ],
             [
              0.5555555555555556,
              "#d8576b"
             ],
             [
              0.6666666666666666,
              "#ed7953"
             ],
             [
              0.7777777777777778,
              "#fb9f3a"
             ],
             [
              0.8888888888888888,
              "#fdca26"
             ],
             [
              1,
              "#f0f921"
             ]
            ],
            "type": "heatmap"
           }
          ],
          "heatmapgl": [
           {
            "colorbar": {
             "outlinewidth": 0,
             "ticks": ""
            },
            "colorscale": [
             [
              0,
              "#0d0887"
             ],
             [
              0.1111111111111111,
              "#46039f"
             ],
             [
              0.2222222222222222,
              "#7201a8"
             ],
             [
              0.3333333333333333,
              "#9c179e"
             ],
             [
              0.4444444444444444,
              "#bd3786"
             ],
             [
              0.5555555555555556,
              "#d8576b"
             ],
             [
              0.6666666666666666,
              "#ed7953"
             ],
             [
              0.7777777777777778,
              "#fb9f3a"
             ],
             [
              0.8888888888888888,
              "#fdca26"
             ],
             [
              1,
              "#f0f921"
             ]
            ],
            "type": "heatmapgl"
           }
          ],
          "histogram": [
           {
            "marker": {
             "pattern": {
              "fillmode": "overlay",
              "size": 10,
              "solidity": 0.2
             }
            },
            "type": "histogram"
           }
          ],
          "histogram2d": [
           {
            "colorbar": {
             "outlinewidth": 0,
             "ticks": ""
            },
            "colorscale": [
             [
              0,
              "#0d0887"
             ],
             [
              0.1111111111111111,
              "#46039f"
             ],
             [
              0.2222222222222222,
              "#7201a8"
             ],
             [
              0.3333333333333333,
              "#9c179e"
             ],
             [
              0.4444444444444444,
              "#bd3786"
             ],
             [
              0.5555555555555556,
              "#d8576b"
             ],
             [
              0.6666666666666666,
              "#ed7953"
             ],
             [
              0.7777777777777778,
              "#fb9f3a"
             ],
             [
              0.8888888888888888,
              "#fdca26"
             ],
             [
              1,
              "#f0f921"
             ]
            ],
            "type": "histogram2d"
           }
          ],
          "histogram2dcontour": [
           {
            "colorbar": {
             "outlinewidth": 0,
             "ticks": ""
            },
            "colorscale": [
             [
              0,
              "#0d0887"
             ],
             [
              0.1111111111111111,
              "#46039f"
             ],
             [
              0.2222222222222222,
              "#7201a8"
             ],
             [
              0.3333333333333333,
              "#9c179e"
             ],
             [
              0.4444444444444444,
              "#bd3786"
             ],
             [
              0.5555555555555556,
              "#d8576b"
             ],
             [
              0.6666666666666666,
              "#ed7953"
             ],
             [
              0.7777777777777778,
              "#fb9f3a"
             ],
             [
              0.8888888888888888,
              "#fdca26"
             ],
             [
              1,
              "#f0f921"
             ]
            ],
            "type": "histogram2dcontour"
           }
          ],
          "mesh3d": [
           {
            "colorbar": {
             "outlinewidth": 0,
             "ticks": ""
            },
            "type": "mesh3d"
           }
          ],
          "parcoords": [
           {
            "line": {
             "colorbar": {
              "outlinewidth": 0,
              "ticks": ""
             }
            },
            "type": "parcoords"
           }
          ],
          "pie": [
           {
            "automargin": true,
            "type": "pie"
           }
          ],
          "scatter": [
           {
            "fillpattern": {
             "fillmode": "overlay",
             "size": 10,
             "solidity": 0.2
            },
            "type": "scatter"
           }
          ],
          "scatter3d": [
           {
            "line": {
             "colorbar": {
              "outlinewidth": 0,
              "ticks": ""
             }
            },
            "marker": {
             "colorbar": {
              "outlinewidth": 0,
              "ticks": ""
             }
            },
            "type": "scatter3d"
           }
          ],
          "scattercarpet": [
           {
            "marker": {
             "colorbar": {
              "outlinewidth": 0,
              "ticks": ""
             }
            },
            "type": "scattercarpet"
           }
          ],
          "scattergeo": [
           {
            "marker": {
             "colorbar": {
              "outlinewidth": 0,
              "ticks": ""
             }
            },
            "type": "scattergeo"
           }
          ],
          "scattergl": [
           {
            "marker": {
             "colorbar": {
              "outlinewidth": 0,
              "ticks": ""
             }
            },
            "type": "scattergl"
           }
          ],
          "scattermapbox": [
           {
            "marker": {
             "colorbar": {
              "outlinewidth": 0,
              "ticks": ""
             }
            },
            "type": "scattermapbox"
           }
          ],
          "scatterpolar": [
           {
            "marker": {
             "colorbar": {
              "outlinewidth": 0,
              "ticks": ""
             }
            },
            "type": "scatterpolar"
           }
          ],
          "scatterpolargl": [
           {
            "marker": {
             "colorbar": {
              "outlinewidth": 0,
              "ticks": ""
             }
            },
            "type": "scatterpolargl"
           }
          ],
          "scatterternary": [
           {
            "marker": {
             "colorbar": {
              "outlinewidth": 0,
              "ticks": ""
             }
            },
            "type": "scatterternary"
           }
          ],
          "surface": [
           {
            "colorbar": {
             "outlinewidth": 0,
             "ticks": ""
            },
            "colorscale": [
             [
              0,
              "#0d0887"
             ],
             [
              0.1111111111111111,
              "#46039f"
             ],
             [
              0.2222222222222222,
              "#7201a8"
             ],
             [
              0.3333333333333333,
              "#9c179e"
             ],
             [
              0.4444444444444444,
              "#bd3786"
             ],
             [
              0.5555555555555556,
              "#d8576b"
             ],
             [
              0.6666666666666666,
              "#ed7953"
             ],
             [
              0.7777777777777778,
              "#fb9f3a"
             ],
             [
              0.8888888888888888,
              "#fdca26"
             ],
             [
              1,
              "#f0f921"
             ]
            ],
            "type": "surface"
           }
          ],
          "table": [
           {
            "cells": {
             "fill": {
              "color": "#EBF0F8"
             },
             "line": {
              "color": "white"
             }
            },
            "header": {
             "fill": {
              "color": "#C8D4E3"
             },
             "line": {
              "color": "white"
             }
            },
            "type": "table"
           }
          ]
         },
         "layout": {
          "annotationdefaults": {
           "arrowcolor": "#2a3f5f",
           "arrowhead": 0,
           "arrowwidth": 1
          },
          "autotypenumbers": "strict",
          "coloraxis": {
           "colorbar": {
            "outlinewidth": 0,
            "ticks": ""
           }
          },
          "colorscale": {
           "diverging": [
            [
             0,
             "#8e0152"
            ],
            [
             0.1,
             "#c51b7d"
            ],
            [
             0.2,
             "#de77ae"
            ],
            [
             0.3,
             "#f1b6da"
            ],
            [
             0.4,
             "#fde0ef"
            ],
            [
             0.5,
             "#f7f7f7"
            ],
            [
             0.6,
             "#e6f5d0"
            ],
            [
             0.7,
             "#b8e186"
            ],
            [
             0.8,
             "#7fbc41"
            ],
            [
             0.9,
             "#4d9221"
            ],
            [
             1,
             "#276419"
            ]
           ],
           "sequential": [
            [
             0,
             "#0d0887"
            ],
            [
             0.1111111111111111,
             "#46039f"
            ],
            [
             0.2222222222222222,
             "#7201a8"
            ],
            [
             0.3333333333333333,
             "#9c179e"
            ],
            [
             0.4444444444444444,
             "#bd3786"
            ],
            [
             0.5555555555555556,
             "#d8576b"
            ],
            [
             0.6666666666666666,
             "#ed7953"
            ],
            [
             0.7777777777777778,
             "#fb9f3a"
            ],
            [
             0.8888888888888888,
             "#fdca26"
            ],
            [
             1,
             "#f0f921"
            ]
           ],
           "sequentialminus": [
            [
             0,
             "#0d0887"
            ],
            [
             0.1111111111111111,
             "#46039f"
            ],
            [
             0.2222222222222222,
             "#7201a8"
            ],
            [
             0.3333333333333333,
             "#9c179e"
            ],
            [
             0.4444444444444444,
             "#bd3786"
            ],
            [
             0.5555555555555556,
             "#d8576b"
            ],
            [
             0.6666666666666666,
             "#ed7953"
            ],
            [
             0.7777777777777778,
             "#fb9f3a"
            ],
            [
             0.8888888888888888,
             "#fdca26"
            ],
            [
             1,
             "#f0f921"
            ]
           ]
          },
          "colorway": [
           "#636efa",
           "#EF553B",
           "#00cc96",
           "#ab63fa",
           "#FFA15A",
           "#19d3f3",
           "#FF6692",
           "#B6E880",
           "#FF97FF",
           "#FECB52"
          ],
          "font": {
           "color": "#2a3f5f"
          },
          "geo": {
           "bgcolor": "white",
           "lakecolor": "white",
           "landcolor": "#E5ECF6",
           "showlakes": true,
           "showland": true,
           "subunitcolor": "white"
          },
          "hoverlabel": {
           "align": "left"
          },
          "hovermode": "closest",
          "mapbox": {
           "style": "light"
          },
          "paper_bgcolor": "white",
          "plot_bgcolor": "#E5ECF6",
          "polar": {
           "angularaxis": {
            "gridcolor": "white",
            "linecolor": "white",
            "ticks": ""
           },
           "bgcolor": "#E5ECF6",
           "radialaxis": {
            "gridcolor": "white",
            "linecolor": "white",
            "ticks": ""
           }
          },
          "scene": {
           "xaxis": {
            "backgroundcolor": "#E5ECF6",
            "gridcolor": "white",
            "gridwidth": 2,
            "linecolor": "white",
            "showbackground": true,
            "ticks": "",
            "zerolinecolor": "white"
           },
           "yaxis": {
            "backgroundcolor": "#E5ECF6",
            "gridcolor": "white",
            "gridwidth": 2,
            "linecolor": "white",
            "showbackground": true,
            "ticks": "",
            "zerolinecolor": "white"
           },
           "zaxis": {
            "backgroundcolor": "#E5ECF6",
            "gridcolor": "white",
            "gridwidth": 2,
            "linecolor": "white",
            "showbackground": true,
            "ticks": "",
            "zerolinecolor": "white"
           }
          },
          "shapedefaults": {
           "line": {
            "color": "#2a3f5f"
           }
          },
          "ternary": {
           "aaxis": {
            "gridcolor": "white",
            "linecolor": "white",
            "ticks": ""
           },
           "baxis": {
            "gridcolor": "white",
            "linecolor": "white",
            "ticks": ""
           },
           "bgcolor": "#E5ECF6",
           "caxis": {
            "gridcolor": "white",
            "linecolor": "white",
            "ticks": ""
           }
          },
          "title": {
           "x": 0.05
          },
          "xaxis": {
           "automargin": true,
           "gridcolor": "white",
           "linecolor": "white",
           "ticks": "",
           "title": {
            "standoff": 15
           },
           "zerolinecolor": "white",
           "zerolinewidth": 2
          },
          "yaxis": {
           "automargin": true,
           "gridcolor": "white",
           "linecolor": "white",
           "ticks": "",
           "title": {
            "standoff": 15
           },
           "zerolinecolor": "white",
           "zerolinewidth": 2
          }
         }
        },
        "title": {
         "text": "Album: Baaraat"
        }
       }
      }
     },
     "metadata": {},
     "output_type": "display_data"
    },
    {
     "data": {
      "application/vnd.plotly.v1+json": {
       "config": {
        "plotlyServerURL": "https://plot.ly"
       },
       "data": [
        {
         "fill": "toself",
         "name": "0 to 100",
         "r": [
          0.742,
          0.675,
          0.0907,
          0.139,
          0.167,
          0.679
         ],
         "theta": [
          "danceability",
          "energy",
          "speechiness",
          "acousticness",
          "liveness",
          "valence"
         ],
         "type": "scatterpolar"
        },
        {
         "fill": "toself",
         "name": "Bloodlust (feat. Mr. Capone-E)",
         "r": [
          0.552,
          0.667,
          0.333,
          0.0381,
          0.0777,
          0.348
         ],
         "theta": [
          "danceability",
          "energy",
          "speechiness",
          "acousticness",
          "liveness",
          "valence"
         ],
         "type": "scatterpolar"
        },
        {
         "fill": "toself",
         "name": "Everybody Hurts",
         "r": [
          0.738,
          0.599,
          0.0393,
          0.434,
          0.13,
          0.575
         ],
         "theta": [
          "danceability",
          "energy",
          "speechiness",
          "acousticness",
          "liveness",
          "valence"
         ],
         "type": "scatterpolar"
        },
        {
         "fill": "toself",
         "name": "Love Sick",
         "r": [
          0.824,
          0.543,
          0.209,
          0.101,
          0.178,
          0.548
         ],
         "theta": [
          "danceability",
          "energy",
          "speechiness",
          "acousticness",
          "liveness",
          "valence"
         ],
         "type": "scatterpolar"
        },
        {
         "fill": "toself",
         "name": "Never Fold",
         "r": [
          0.814,
          0.786,
          0.232,
          0.069,
          0.0976,
          0.797
         ],
         "theta": [
          "danceability",
          "energy",
          "speechiness",
          "acousticness",
          "liveness",
          "valence"
         ],
         "type": "scatterpolar"
        }
       ],
       "layout": {
        "template": {
         "data": {
          "bar": [
           {
            "error_x": {
             "color": "#2a3f5f"
            },
            "error_y": {
             "color": "#2a3f5f"
            },
            "marker": {
             "line": {
              "color": "#E5ECF6",
              "width": 0.5
             },
             "pattern": {
              "fillmode": "overlay",
              "size": 10,
              "solidity": 0.2
             }
            },
            "type": "bar"
           }
          ],
          "barpolar": [
           {
            "marker": {
             "line": {
              "color": "#E5ECF6",
              "width": 0.5
             },
             "pattern": {
              "fillmode": "overlay",
              "size": 10,
              "solidity": 0.2
             }
            },
            "type": "barpolar"
           }
          ],
          "carpet": [
           {
            "aaxis": {
             "endlinecolor": "#2a3f5f",
             "gridcolor": "white",
             "linecolor": "white",
             "minorgridcolor": "white",
             "startlinecolor": "#2a3f5f"
            },
            "baxis": {
             "endlinecolor": "#2a3f5f",
             "gridcolor": "white",
             "linecolor": "white",
             "minorgridcolor": "white",
             "startlinecolor": "#2a3f5f"
            },
            "type": "carpet"
           }
          ],
          "choropleth": [
           {
            "colorbar": {
             "outlinewidth": 0,
             "ticks": ""
            },
            "type": "choropleth"
           }
          ],
          "contour": [
           {
            "colorbar": {
             "outlinewidth": 0,
             "ticks": ""
            },
            "colorscale": [
             [
              0,
              "#0d0887"
             ],
             [
              0.1111111111111111,
              "#46039f"
             ],
             [
              0.2222222222222222,
              "#7201a8"
             ],
             [
              0.3333333333333333,
              "#9c179e"
             ],
             [
              0.4444444444444444,
              "#bd3786"
             ],
             [
              0.5555555555555556,
              "#d8576b"
             ],
             [
              0.6666666666666666,
              "#ed7953"
             ],
             [
              0.7777777777777778,
              "#fb9f3a"
             ],
             [
              0.8888888888888888,
              "#fdca26"
             ],
             [
              1,
              "#f0f921"
             ]
            ],
            "type": "contour"
           }
          ],
          "contourcarpet": [
           {
            "colorbar": {
             "outlinewidth": 0,
             "ticks": ""
            },
            "type": "contourcarpet"
           }
          ],
          "heatmap": [
           {
            "colorbar": {
             "outlinewidth": 0,
             "ticks": ""
            },
            "colorscale": [
             [
              0,
              "#0d0887"
             ],
             [
              0.1111111111111111,
              "#46039f"
             ],
             [
              0.2222222222222222,
              "#7201a8"
             ],
             [
              0.3333333333333333,
              "#9c179e"
             ],
             [
              0.4444444444444444,
              "#bd3786"
             ],
             [
              0.5555555555555556,
              "#d8576b"
             ],
             [
              0.6666666666666666,
              "#ed7953"
             ],
             [
              0.7777777777777778,
              "#fb9f3a"
             ],
             [
              0.8888888888888888,
              "#fdca26"
             ],
             [
              1,
              "#f0f921"
             ]
            ],
            "type": "heatmap"
           }
          ],
          "heatmapgl": [
           {
            "colorbar": {
             "outlinewidth": 0,
             "ticks": ""
            },
            "colorscale": [
             [
              0,
              "#0d0887"
             ],
             [
              0.1111111111111111,
              "#46039f"
             ],
             [
              0.2222222222222222,
              "#7201a8"
             ],
             [
              0.3333333333333333,
              "#9c179e"
             ],
             [
              0.4444444444444444,
              "#bd3786"
             ],
             [
              0.5555555555555556,
              "#d8576b"
             ],
             [
              0.6666666666666666,
              "#ed7953"
             ],
             [
              0.7777777777777778,
              "#fb9f3a"
             ],
             [
              0.8888888888888888,
              "#fdca26"
             ],
             [
              1,
              "#f0f921"
             ]
            ],
            "type": "heatmapgl"
           }
          ],
          "histogram": [
           {
            "marker": {
             "pattern": {
              "fillmode": "overlay",
              "size": 10,
              "solidity": 0.2
             }
            },
            "type": "histogram"
           }
          ],
          "histogram2d": [
           {
            "colorbar": {
             "outlinewidth": 0,
             "ticks": ""
            },
            "colorscale": [
             [
              0,
              "#0d0887"
             ],
             [
              0.1111111111111111,
              "#46039f"
             ],
             [
              0.2222222222222222,
              "#7201a8"
             ],
             [
              0.3333333333333333,
              "#9c179e"
             ],
             [
              0.4444444444444444,
              "#bd3786"
             ],
             [
              0.5555555555555556,
              "#d8576b"
             ],
             [
              0.6666666666666666,
              "#ed7953"
             ],
             [
              0.7777777777777778,
              "#fb9f3a"
             ],
             [
              0.8888888888888888,
              "#fdca26"
             ],
             [
              1,
              "#f0f921"
             ]
            ],
            "type": "histogram2d"
           }
          ],
          "histogram2dcontour": [
           {
            "colorbar": {
             "outlinewidth": 0,
             "ticks": ""
            },
            "colorscale": [
             [
              0,
              "#0d0887"
             ],
             [
              0.1111111111111111,
              "#46039f"
             ],
             [
              0.2222222222222222,
              "#7201a8"
             ],
             [
              0.3333333333333333,
              "#9c179e"
             ],
             [
              0.4444444444444444,
              "#bd3786"
             ],
             [
              0.5555555555555556,
              "#d8576b"
             ],
             [
              0.6666666666666666,
              "#ed7953"
             ],
             [
              0.7777777777777778,
              "#fb9f3a"
             ],
             [
              0.8888888888888888,
              "#fdca26"
             ],
             [
              1,
              "#f0f921"
             ]
            ],
            "type": "histogram2dcontour"
           }
          ],
          "mesh3d": [
           {
            "colorbar": {
             "outlinewidth": 0,
             "ticks": ""
            },
            "type": "mesh3d"
           }
          ],
          "parcoords": [
           {
            "line": {
             "colorbar": {
              "outlinewidth": 0,
              "ticks": ""
             }
            },
            "type": "parcoords"
           }
          ],
          "pie": [
           {
            "automargin": true,
            "type": "pie"
           }
          ],
          "scatter": [
           {
            "fillpattern": {
             "fillmode": "overlay",
             "size": 10,
             "solidity": 0.2
            },
            "type": "scatter"
           }
          ],
          "scatter3d": [
           {
            "line": {
             "colorbar": {
              "outlinewidth": 0,
              "ticks": ""
             }
            },
            "marker": {
             "colorbar": {
              "outlinewidth": 0,
              "ticks": ""
             }
            },
            "type": "scatter3d"
           }
          ],
          "scattercarpet": [
           {
            "marker": {
             "colorbar": {
              "outlinewidth": 0,
              "ticks": ""
             }
            },
            "type": "scattercarpet"
           }
          ],
          "scattergeo": [
           {
            "marker": {
             "colorbar": {
              "outlinewidth": 0,
              "ticks": ""
             }
            },
            "type": "scattergeo"
           }
          ],
          "scattergl": [
           {
            "marker": {
             "colorbar": {
              "outlinewidth": 0,
              "ticks": ""
             }
            },
            "type": "scattergl"
           }
          ],
          "scattermapbox": [
           {
            "marker": {
             "colorbar": {
              "outlinewidth": 0,
              "ticks": ""
             }
            },
            "type": "scattermapbox"
           }
          ],
          "scatterpolar": [
           {
            "marker": {
             "colorbar": {
              "outlinewidth": 0,
              "ticks": ""
             }
            },
            "type": "scatterpolar"
           }
          ],
          "scatterpolargl": [
           {
            "marker": {
             "colorbar": {
              "outlinewidth": 0,
              "ticks": ""
             }
            },
            "type": "scatterpolargl"
           }
          ],
          "scatterternary": [
           {
            "marker": {
             "colorbar": {
              "outlinewidth": 0,
              "ticks": ""
             }
            },
            "type": "scatterternary"
           }
          ],
          "surface": [
           {
            "colorbar": {
             "outlinewidth": 0,
             "ticks": ""
            },
            "colorscale": [
             [
              0,
              "#0d0887"
             ],
             [
              0.1111111111111111,
              "#46039f"
             ],
             [
              0.2222222222222222,
              "#7201a8"
             ],
             [
              0.3333333333333333,
              "#9c179e"
             ],
             [
              0.4444444444444444,
              "#bd3786"
             ],
             [
              0.5555555555555556,
              "#d8576b"
             ],
             [
              0.6666666666666666,
              "#ed7953"
             ],
             [
              0.7777777777777778,
              "#fb9f3a"
             ],
             [
              0.8888888888888888,
              "#fdca26"
             ],
             [
              1,
              "#f0f921"
             ]
            ],
            "type": "surface"
           }
          ],
          "table": [
           {
            "cells": {
             "fill": {
              "color": "#EBF0F8"
             },
             "line": {
              "color": "white"
             }
            },
            "header": {
             "fill": {
              "color": "#C8D4E3"
             },
             "line": {
              "color": "white"
             }
            },
            "type": "table"
           }
          ]
         },
         "layout": {
          "annotationdefaults": {
           "arrowcolor": "#2a3f5f",
           "arrowhead": 0,
           "arrowwidth": 1
          },
          "autotypenumbers": "strict",
          "coloraxis": {
           "colorbar": {
            "outlinewidth": 0,
            "ticks": ""
           }
          },
          "colorscale": {
           "diverging": [
            [
             0,
             "#8e0152"
            ],
            [
             0.1,
             "#c51b7d"
            ],
            [
             0.2,
             "#de77ae"
            ],
            [
             0.3,
             "#f1b6da"
            ],
            [
             0.4,
             "#fde0ef"
            ],
            [
             0.5,
             "#f7f7f7"
            ],
            [
             0.6,
             "#e6f5d0"
            ],
            [
             0.7,
             "#b8e186"
            ],
            [
             0.8,
             "#7fbc41"
            ],
            [
             0.9,
             "#4d9221"
            ],
            [
             1,
             "#276419"
            ]
           ],
           "sequential": [
            [
             0,
             "#0d0887"
            ],
            [
             0.1111111111111111,
             "#46039f"
            ],
            [
             0.2222222222222222,
             "#7201a8"
            ],
            [
             0.3333333333333333,
             "#9c179e"
            ],
            [
             0.4444444444444444,
             "#bd3786"
            ],
            [
             0.5555555555555556,
             "#d8576b"
            ],
            [
             0.6666666666666666,
             "#ed7953"
            ],
            [
             0.7777777777777778,
             "#fb9f3a"
            ],
            [
             0.8888888888888888,
             "#fdca26"
            ],
            [
             1,
             "#f0f921"
            ]
           ],
           "sequentialminus": [
            [
             0,
             "#0d0887"
            ],
            [
             0.1111111111111111,
             "#46039f"
            ],
            [
             0.2222222222222222,
             "#7201a8"
            ],
            [
             0.3333333333333333,
             "#9c179e"
            ],
            [
             0.4444444444444444,
             "#bd3786"
            ],
            [
             0.5555555555555556,
             "#d8576b"
            ],
            [
             0.6666666666666666,
             "#ed7953"
            ],
            [
             0.7777777777777778,
             "#fb9f3a"
            ],
            [
             0.8888888888888888,
             "#fdca26"
            ],
            [
             1,
             "#f0f921"
            ]
           ]
          },
          "colorway": [
           "#636efa",
           "#EF553B",
           "#00cc96",
           "#ab63fa",
           "#FFA15A",
           "#19d3f3",
           "#FF6692",
           "#B6E880",
           "#FF97FF",
           "#FECB52"
          ],
          "font": {
           "color": "#2a3f5f"
          },
          "geo": {
           "bgcolor": "white",
           "lakecolor": "white",
           "landcolor": "#E5ECF6",
           "showlakes": true,
           "showland": true,
           "subunitcolor": "white"
          },
          "hoverlabel": {
           "align": "left"
          },
          "hovermode": "closest",
          "mapbox": {
           "style": "light"
          },
          "paper_bgcolor": "white",
          "plot_bgcolor": "#E5ECF6",
          "polar": {
           "angularaxis": {
            "gridcolor": "white",
            "linecolor": "white",
            "ticks": ""
           },
           "bgcolor": "#E5ECF6",
           "radialaxis": {
            "gridcolor": "white",
            "linecolor": "white",
            "ticks": ""
           }
          },
          "scene": {
           "xaxis": {
            "backgroundcolor": "#E5ECF6",
            "gridcolor": "white",
            "gridwidth": 2,
            "linecolor": "white",
            "showbackground": true,
            "ticks": "",
            "zerolinecolor": "white"
           },
           "yaxis": {
            "backgroundcolor": "#E5ECF6",
            "gridcolor": "white",
            "gridwidth": 2,
            "linecolor": "white",
            "showbackground": true,
            "ticks": "",
            "zerolinecolor": "white"
           },
           "zaxis": {
            "backgroundcolor": "#E5ECF6",
            "gridcolor": "white",
            "gridwidth": 2,
            "linecolor": "white",
            "showbackground": true,
            "ticks": "",
            "zerolinecolor": "white"
           }
          },
          "shapedefaults": {
           "line": {
            "color": "#2a3f5f"
           }
          },
          "ternary": {
           "aaxis": {
            "gridcolor": "white",
            "linecolor": "white",
            "ticks": ""
           },
           "baxis": {
            "gridcolor": "white",
            "linecolor": "white",
            "ticks": ""
           },
           "bgcolor": "#E5ECF6",
           "caxis": {
            "gridcolor": "white",
            "linecolor": "white",
            "ticks": ""
           }
          },
          "title": {
           "x": 0.05
          },
          "xaxis": {
           "automargin": true,
           "gridcolor": "white",
           "linecolor": "white",
           "ticks": "",
           "title": {
            "standoff": 15
           },
           "zerolinecolor": "white",
           "zerolinewidth": 2
          },
          "yaxis": {
           "automargin": true,
           "gridcolor": "white",
           "linecolor": "white",
           "ticks": "",
           "title": {
            "standoff": 15
           },
           "zerolinecolor": "white",
           "zerolinewidth": 2
          }
         }
        },
        "title": {
         "text": "Album: No Name"
        }
       }
      }
     },
     "metadata": {},
     "output_type": "display_data"
    },
    {
     "data": {
      "application/vnd.plotly.v1+json": {
       "config": {
        "plotlyServerURL": "https://plot.ly"
       },
       "data": [
        {
         "fill": "toself",
         "name": "051021",
         "r": [
          0.679,
          0.661,
          0.124,
          0.0641,
          0.0976,
          0.388
         ],
         "theta": [
          "danceability",
          "energy",
          "speechiness",
          "acousticness",
          "liveness",
          "valence"
         ],
         "type": "scatterpolar"
        },
        {
         "fill": "toself",
         "name": "All Night Long",
         "r": [
          0.756,
          0.436,
          0.0457,
          0.0554,
          0.309,
          0.228
         ],
         "theta": [
          "danceability",
          "energy",
          "speechiness",
          "acousticness",
          "liveness",
          "valence"
         ],
         "type": "scatterpolar"
        },
        {
         "fill": "toself",
         "name": "Chaunde Ne Pharna",
         "r": [
          0.661,
          0.415,
          0.183,
          0.0202,
          0.31,
          0.286
         ],
         "theta": [
          "danceability",
          "energy",
          "speechiness",
          "acousticness",
          "liveness",
          "valence"
         ],
         "type": "scatterpolar"
        },
        {
         "fill": "toself",
         "name": "Cocaine",
         "r": [
          0.659,
          0.277,
          0.119,
          0.443,
          0.128,
          0.24
         ],
         "theta": [
          "danceability",
          "energy",
          "speechiness",
          "acousticness",
          "liveness",
          "valence"
         ],
         "type": "scatterpolar"
        },
        {
         "fill": "toself",
         "name": "Faasla",
         "r": [
          0.739,
          0.39,
          0.0918,
          0.0475,
          0.0732,
          0.285
         ],
         "theta": [
          "danceability",
          "energy",
          "speechiness",
          "acousticness",
          "liveness",
          "valence"
         ],
         "type": "scatterpolar"
        },
        {
         "fill": "toself",
         "name": "Into The Sunset",
         "r": [
          0.534,
          0.458,
          0.233,
          0.299,
          0.095,
          0.275
         ],
         "theta": [
          "danceability",
          "energy",
          "speechiness",
          "acousticness",
          "liveness",
          "valence"
         ],
         "type": "scatterpolar"
        },
        {
         "fill": "toself",
         "name": "Load Out",
         "r": [
          0.784,
          0.39,
          0.0615,
          0.286,
          0.139,
          0.316
         ],
         "theta": [
          "danceability",
          "energy",
          "speechiness",
          "acousticness",
          "liveness",
          "valence"
         ],
         "type": "scatterpolar"
        },
        {
         "fill": "toself",
         "name": "Location",
         "r": [
          0.831,
          0.364,
          0.124,
          0.0268,
          0.0736,
          0.649
         ],
         "theta": [
          "danceability",
          "energy",
          "speechiness",
          "acousticness",
          "liveness",
          "valence"
         ],
         "type": "scatterpolar"
        },
        {
         "fill": "toself",
         "name": "Lockdown Freestyle",
         "r": [
          0.601,
          0.459,
          0.44,
          0.195,
          0.144,
          0.231
         ],
         "theta": [
          "danceability",
          "energy",
          "speechiness",
          "acousticness",
          "liveness",
          "valence"
         ],
         "type": "scatterpolar"
        },
        {
         "fill": "toself",
         "name": "Promises",
         "r": [
          0.666,
          0.35,
          0.0389,
          0.204,
          0.238,
          0.272
         ],
         "theta": [
          "danceability",
          "energy",
          "speechiness",
          "acousticness",
          "liveness",
          "valence"
         ],
         "type": "scatterpolar"
        },
        {
         "fill": "toself",
         "name": "Promises (Rovalio Mix)",
         "r": [
          0.432,
          0.429,
          0.0293,
          0.0095,
          0.136,
          0.205
         ],
         "theta": [
          "danceability",
          "energy",
          "speechiness",
          "acousticness",
          "liveness",
          "valence"
         ],
         "type": "scatterpolar"
        },
        {
         "fill": "toself",
         "name": "Scars & Screws",
         "r": [
          0.58,
          0.589,
          0.327,
          0.343,
          0.121,
          0.363
         ],
         "theta": [
          "danceability",
          "energy",
          "speechiness",
          "acousticness",
          "liveness",
          "valence"
         ],
         "type": "scatterpolar"
        }
       ],
       "layout": {
        "template": {
         "data": {
          "bar": [
           {
            "error_x": {
             "color": "#2a3f5f"
            },
            "error_y": {
             "color": "#2a3f5f"
            },
            "marker": {
             "line": {
              "color": "#E5ECF6",
              "width": 0.5
             },
             "pattern": {
              "fillmode": "overlay",
              "size": 10,
              "solidity": 0.2
             }
            },
            "type": "bar"
           }
          ],
          "barpolar": [
           {
            "marker": {
             "line": {
              "color": "#E5ECF6",
              "width": 0.5
             },
             "pattern": {
              "fillmode": "overlay",
              "size": 10,
              "solidity": 0.2
             }
            },
            "type": "barpolar"
           }
          ],
          "carpet": [
           {
            "aaxis": {
             "endlinecolor": "#2a3f5f",
             "gridcolor": "white",
             "linecolor": "white",
             "minorgridcolor": "white",
             "startlinecolor": "#2a3f5f"
            },
            "baxis": {
             "endlinecolor": "#2a3f5f",
             "gridcolor": "white",
             "linecolor": "white",
             "minorgridcolor": "white",
             "startlinecolor": "#2a3f5f"
            },
            "type": "carpet"
           }
          ],
          "choropleth": [
           {
            "colorbar": {
             "outlinewidth": 0,
             "ticks": ""
            },
            "type": "choropleth"
           }
          ],
          "contour": [
           {
            "colorbar": {
             "outlinewidth": 0,
             "ticks": ""
            },
            "colorscale": [
             [
              0,
              "#0d0887"
             ],
             [
              0.1111111111111111,
              "#46039f"
             ],
             [
              0.2222222222222222,
              "#7201a8"
             ],
             [
              0.3333333333333333,
              "#9c179e"
             ],
             [
              0.4444444444444444,
              "#bd3786"
             ],
             [
              0.5555555555555556,
              "#d8576b"
             ],
             [
              0.6666666666666666,
              "#ed7953"
             ],
             [
              0.7777777777777778,
              "#fb9f3a"
             ],
             [
              0.8888888888888888,
              "#fdca26"
             ],
             [
              1,
              "#f0f921"
             ]
            ],
            "type": "contour"
           }
          ],
          "contourcarpet": [
           {
            "colorbar": {
             "outlinewidth": 0,
             "ticks": ""
            },
            "type": "contourcarpet"
           }
          ],
          "heatmap": [
           {
            "colorbar": {
             "outlinewidth": 0,
             "ticks": ""
            },
            "colorscale": [
             [
              0,
              "#0d0887"
             ],
             [
              0.1111111111111111,
              "#46039f"
             ],
             [
              0.2222222222222222,
              "#7201a8"
             ],
             [
              0.3333333333333333,
              "#9c179e"
             ],
             [
              0.4444444444444444,
              "#bd3786"
             ],
             [
              0.5555555555555556,
              "#d8576b"
             ],
             [
              0.6666666666666666,
              "#ed7953"
             ],
             [
              0.7777777777777778,
              "#fb9f3a"
             ],
             [
              0.8888888888888888,
              "#fdca26"
             ],
             [
              1,
              "#f0f921"
             ]
            ],
            "type": "heatmap"
           }
          ],
          "heatmapgl": [
           {
            "colorbar": {
             "outlinewidth": 0,
             "ticks": ""
            },
            "colorscale": [
             [
              0,
              "#0d0887"
             ],
             [
              0.1111111111111111,
              "#46039f"
             ],
             [
              0.2222222222222222,
              "#7201a8"
             ],
             [
              0.3333333333333333,
              "#9c179e"
             ],
             [
              0.4444444444444444,
              "#bd3786"
             ],
             [
              0.5555555555555556,
              "#d8576b"
             ],
             [
              0.6666666666666666,
              "#ed7953"
             ],
             [
              0.7777777777777778,
              "#fb9f3a"
             ],
             [
              0.8888888888888888,
              "#fdca26"
             ],
             [
              1,
              "#f0f921"
             ]
            ],
            "type": "heatmapgl"
           }
          ],
          "histogram": [
           {
            "marker": {
             "pattern": {
              "fillmode": "overlay",
              "size": 10,
              "solidity": 0.2
             }
            },
            "type": "histogram"
           }
          ],
          "histogram2d": [
           {
            "colorbar": {
             "outlinewidth": 0,
             "ticks": ""
            },
            "colorscale": [
             [
              0,
              "#0d0887"
             ],
             [
              0.1111111111111111,
              "#46039f"
             ],
             [
              0.2222222222222222,
              "#7201a8"
             ],
             [
              0.3333333333333333,
              "#9c179e"
             ],
             [
              0.4444444444444444,
              "#bd3786"
             ],
             [
              0.5555555555555556,
              "#d8576b"
             ],
             [
              0.6666666666666666,
              "#ed7953"
             ],
             [
              0.7777777777777778,
              "#fb9f3a"
             ],
             [
              0.8888888888888888,
              "#fdca26"
             ],
             [
              1,
              "#f0f921"
             ]
            ],
            "type": "histogram2d"
           }
          ],
          "histogram2dcontour": [
           {
            "colorbar": {
             "outlinewidth": 0,
             "ticks": ""
            },
            "colorscale": [
             [
              0,
              "#0d0887"
             ],
             [
              0.1111111111111111,
              "#46039f"
             ],
             [
              0.2222222222222222,
              "#7201a8"
             ],
             [
              0.3333333333333333,
              "#9c179e"
             ],
             [
              0.4444444444444444,
              "#bd3786"
             ],
             [
              0.5555555555555556,
              "#d8576b"
             ],
             [
              0.6666666666666666,
              "#ed7953"
             ],
             [
              0.7777777777777778,
              "#fb9f3a"
             ],
             [
              0.8888888888888888,
              "#fdca26"
             ],
             [
              1,
              "#f0f921"
             ]
            ],
            "type": "histogram2dcontour"
           }
          ],
          "mesh3d": [
           {
            "colorbar": {
             "outlinewidth": 0,
             "ticks": ""
            },
            "type": "mesh3d"
           }
          ],
          "parcoords": [
           {
            "line": {
             "colorbar": {
              "outlinewidth": 0,
              "ticks": ""
             }
            },
            "type": "parcoords"
           }
          ],
          "pie": [
           {
            "automargin": true,
            "type": "pie"
           }
          ],
          "scatter": [
           {
            "fillpattern": {
             "fillmode": "overlay",
             "size": 10,
             "solidity": 0.2
            },
            "type": "scatter"
           }
          ],
          "scatter3d": [
           {
            "line": {
             "colorbar": {
              "outlinewidth": 0,
              "ticks": ""
             }
            },
            "marker": {
             "colorbar": {
              "outlinewidth": 0,
              "ticks": ""
             }
            },
            "type": "scatter3d"
           }
          ],
          "scattercarpet": [
           {
            "marker": {
             "colorbar": {
              "outlinewidth": 0,
              "ticks": ""
             }
            },
            "type": "scattercarpet"
           }
          ],
          "scattergeo": [
           {
            "marker": {
             "colorbar": {
              "outlinewidth": 0,
              "ticks": ""
             }
            },
            "type": "scattergeo"
           }
          ],
          "scattergl": [
           {
            "marker": {
             "colorbar": {
              "outlinewidth": 0,
              "ticks": ""
             }
            },
            "type": "scattergl"
           }
          ],
          "scattermapbox": [
           {
            "marker": {
             "colorbar": {
              "outlinewidth": 0,
              "ticks": ""
             }
            },
            "type": "scattermapbox"
           }
          ],
          "scatterpolar": [
           {
            "marker": {
             "colorbar": {
              "outlinewidth": 0,
              "ticks": ""
             }
            },
            "type": "scatterpolar"
           }
          ],
          "scatterpolargl": [
           {
            "marker": {
             "colorbar": {
              "outlinewidth": 0,
              "ticks": ""
             }
            },
            "type": "scatterpolargl"
           }
          ],
          "scatterternary": [
           {
            "marker": {
             "colorbar": {
              "outlinewidth": 0,
              "ticks": ""
             }
            },
            "type": "scatterternary"
           }
          ],
          "surface": [
           {
            "colorbar": {
             "outlinewidth": 0,
             "ticks": ""
            },
            "colorscale": [
             [
              0,
              "#0d0887"
             ],
             [
              0.1111111111111111,
              "#46039f"
             ],
             [
              0.2222222222222222,
              "#7201a8"
             ],
             [
              0.3333333333333333,
              "#9c179e"
             ],
             [
              0.4444444444444444,
              "#bd3786"
             ],
             [
              0.5555555555555556,
              "#d8576b"
             ],
             [
              0.6666666666666666,
              "#ed7953"
             ],
             [
              0.7777777777777778,
              "#fb9f3a"
             ],
             [
              0.8888888888888888,
              "#fdca26"
             ],
             [
              1,
              "#f0f921"
             ]
            ],
            "type": "surface"
           }
          ],
          "table": [
           {
            "cells": {
             "fill": {
              "color": "#EBF0F8"
             },
             "line": {
              "color": "white"
             }
            },
            "header": {
             "fill": {
              "color": "#C8D4E3"
             },
             "line": {
              "color": "white"
             }
            },
            "type": "table"
           }
          ]
         },
         "layout": {
          "annotationdefaults": {
           "arrowcolor": "#2a3f5f",
           "arrowhead": 0,
           "arrowwidth": 1
          },
          "autotypenumbers": "strict",
          "coloraxis": {
           "colorbar": {
            "outlinewidth": 0,
            "ticks": ""
           }
          },
          "colorscale": {
           "diverging": [
            [
             0,
             "#8e0152"
            ],
            [
             0.1,
             "#c51b7d"
            ],
            [
             0.2,
             "#de77ae"
            ],
            [
             0.3,
             "#f1b6da"
            ],
            [
             0.4,
             "#fde0ef"
            ],
            [
             0.5,
             "#f7f7f7"
            ],
            [
             0.6,
             "#e6f5d0"
            ],
            [
             0.7,
             "#b8e186"
            ],
            [
             0.8,
             "#7fbc41"
            ],
            [
             0.9,
             "#4d9221"
            ],
            [
             1,
             "#276419"
            ]
           ],
           "sequential": [
            [
             0,
             "#0d0887"
            ],
            [
             0.1111111111111111,
             "#46039f"
            ],
            [
             0.2222222222222222,
             "#7201a8"
            ],
            [
             0.3333333333333333,
             "#9c179e"
            ],
            [
             0.4444444444444444,
             "#bd3786"
            ],
            [
             0.5555555555555556,
             "#d8576b"
            ],
            [
             0.6666666666666666,
             "#ed7953"
            ],
            [
             0.7777777777777778,
             "#fb9f3a"
            ],
            [
             0.8888888888888888,
             "#fdca26"
            ],
            [
             1,
             "#f0f921"
            ]
           ],
           "sequentialminus": [
            [
             0,
             "#0d0887"
            ],
            [
             0.1111111111111111,
             "#46039f"
            ],
            [
             0.2222222222222222,
             "#7201a8"
            ],
            [
             0.3333333333333333,
             "#9c179e"
            ],
            [
             0.4444444444444444,
             "#bd3786"
            ],
            [
             0.5555555555555556,
             "#d8576b"
            ],
            [
             0.6666666666666666,
             "#ed7953"
            ],
            [
             0.7777777777777778,
             "#fb9f3a"
            ],
            [
             0.8888888888888888,
             "#fdca26"
            ],
            [
             1,
             "#f0f921"
            ]
           ]
          },
          "colorway": [
           "#636efa",
           "#EF553B",
           "#00cc96",
           "#ab63fa",
           "#FFA15A",
           "#19d3f3",
           "#FF6692",
           "#B6E880",
           "#FF97FF",
           "#FECB52"
          ],
          "font": {
           "color": "#2a3f5f"
          },
          "geo": {
           "bgcolor": "white",
           "lakecolor": "white",
           "landcolor": "#E5ECF6",
           "showlakes": true,
           "showland": true,
           "subunitcolor": "white"
          },
          "hoverlabel": {
           "align": "left"
          },
          "hovermode": "closest",
          "mapbox": {
           "style": "light"
          },
          "paper_bgcolor": "white",
          "plot_bgcolor": "#E5ECF6",
          "polar": {
           "angularaxis": {
            "gridcolor": "white",
            "linecolor": "white",
            "ticks": ""
           },
           "bgcolor": "#E5ECF6",
           "radialaxis": {
            "gridcolor": "white",
            "linecolor": "white",
            "ticks": ""
           }
          },
          "scene": {
           "xaxis": {
            "backgroundcolor": "#E5ECF6",
            "gridcolor": "white",
            "gridwidth": 2,
            "linecolor": "white",
            "showbackground": true,
            "ticks": "",
            "zerolinecolor": "white"
           },
           "yaxis": {
            "backgroundcolor": "#E5ECF6",
            "gridcolor": "white",
            "gridwidth": 2,
            "linecolor": "white",
            "showbackground": true,
            "ticks": "",
            "zerolinecolor": "white"
           },
           "zaxis": {
            "backgroundcolor": "#E5ECF6",
            "gridcolor": "white",
            "gridwidth": 2,
            "linecolor": "white",
            "showbackground": true,
            "ticks": "",
            "zerolinecolor": "white"
           }
          },
          "shapedefaults": {
           "line": {
            "color": "#2a3f5f"
           }
          },
          "ternary": {
           "aaxis": {
            "gridcolor": "white",
            "linecolor": "white",
            "ticks": ""
           },
           "baxis": {
            "gridcolor": "white",
            "linecolor": "white",
            "ticks": ""
           },
           "bgcolor": "#E5ECF6",
           "caxis": {
            "gridcolor": "white",
            "linecolor": "white",
            "ticks": ""
           }
          },
          "title": {
           "x": 0.05
          },
          "xaxis": {
           "automargin": true,
           "gridcolor": "white",
           "linecolor": "white",
           "ticks": "",
           "title": {
            "standoff": 15
           },
           "zerolinecolor": "white",
           "zerolinewidth": 2
          },
          "yaxis": {
           "automargin": true,
           "gridcolor": "white",
           "linecolor": "white",
           "ticks": "",
           "title": {
            "standoff": 15
           },
           "zerolinecolor": "white",
           "zerolinewidth": 2
          }
         }
        },
        "title": {
         "text": "Album: Scars & Screws"
        }
       }
      }
     },
     "metadata": {},
     "output_type": "display_data"
    },
    {
     "data": {
      "application/vnd.plotly.v1+json": {
       "config": {
        "plotlyServerURL": "https://plot.ly"
       },
       "data": [
        {
         "fill": "toself",
         "name": "D'Arline",
         "r": [
          0.43,
          0.199,
          0.0348,
          0.906,
          0.145,
          0.477
         ],
         "theta": [
          "danceability",
          "energy",
          "speechiness",
          "acousticness",
          "liveness",
          "valence"
         ],
         "type": "scatterpolar"
        },
        {
         "fill": "toself",
         "name": "Devil's Backbone",
         "r": [
          0.254,
          0.349,
          0.0379,
          0.85,
          0.234,
          0.303
         ],
         "theta": [
          "danceability",
          "energy",
          "speechiness",
          "acousticness",
          "liveness",
          "valence"
         ],
         "type": "scatterpolar"
        },
        {
         "fill": "toself",
         "name": "Disarm",
         "r": [
          0.364,
          0.172,
          0.0335,
          0.92,
          0.0916,
          0.105
         ],
         "theta": [
          "danceability",
          "energy",
          "speechiness",
          "acousticness",
          "liveness",
          "valence"
         ],
         "type": "scatterpolar"
        },
        {
         "fill": "toself",
         "name": "Dust to Dust",
         "r": [
          0.747,
          0.265,
          0.0354,
          0.745,
          0.11,
          0.2
         ],
         "theta": [
          "danceability",
          "energy",
          "speechiness",
          "acousticness",
          "liveness",
          "valence"
         ],
         "type": "scatterpolar"
        },
        {
         "fill": "toself",
         "name": "Eavesdrop",
         "r": [
          0.512,
          0.381,
          0.0258,
          0.784,
          0.109,
          0.114
         ],
         "theta": [
          "danceability",
          "energy",
          "speechiness",
          "acousticness",
          "liveness",
          "valence"
         ],
         "type": "scatterpolar"
        },
        {
         "fill": "toself",
         "name": "From This Valley",
         "r": [
          0.317,
          0.451,
          0.0347,
          0.537,
          0.0898,
          0.459
         ],
         "theta": [
          "danceability",
          "energy",
          "speechiness",
          "acousticness",
          "liveness",
          "valence"
         ],
         "type": "scatterpolar"
        },
        {
         "fill": "toself",
         "name": "I Had Me a Girl",
         "r": [
          0.338,
          0.56,
          0.0298,
          0.204,
          0.108,
          0.576
         ],
         "theta": [
          "danceability",
          "energy",
          "speechiness",
          "acousticness",
          "liveness",
          "valence"
         ],
         "type": "scatterpolar"
        },
        {
         "fill": "toself",
         "name": "Oh Henry",
         "r": [
          0.435,
          0.588,
          0.0336,
          0.735,
          0.156,
          0.516
         ],
         "theta": [
          "danceability",
          "energy",
          "speechiness",
          "acousticness",
          "liveness",
          "valence"
         ],
         "type": "scatterpolar"
        },
        {
         "fill": "toself",
         "name": "Sacred Heart",
         "r": [
          0.338,
          0.0948,
          0.0434,
          0.884,
          0.1,
          0.237
         ],
         "theta": [
          "danceability",
          "energy",
          "speechiness",
          "acousticness",
          "liveness",
          "valence"
         ],
         "type": "scatterpolar"
        },
        {
         "fill": "toself",
         "name": "Same Old Same Old",
         "r": [
          0.401,
          0.161,
          0.0372,
          0.781,
          0.118,
          0.112
         ],
         "theta": [
          "danceability",
          "energy",
          "speechiness",
          "acousticness",
          "liveness",
          "valence"
         ],
         "type": "scatterpolar"
        },
        {
         "fill": "toself",
         "name": "Tell Mama",
         "r": [
          0.37,
          0.301,
          0.0322,
          0.845,
          0.113,
          0.149
         ],
         "theta": [
          "danceability",
          "energy",
          "speechiness",
          "acousticness",
          "liveness",
          "valence"
         ],
         "type": "scatterpolar"
        },
        {
         "fill": "toself",
         "name": "The One That Got Away",
         "r": [
          0.439,
          0.313,
          0.0291,
          0.692,
          0.0464,
          0.243
         ],
         "theta": [
          "danceability",
          "energy",
          "speechiness",
          "acousticness",
          "liveness",
          "valence"
         ],
         "type": "scatterpolar"
        }
       ],
       "layout": {
        "template": {
         "data": {
          "bar": [
           {
            "error_x": {
             "color": "#2a3f5f"
            },
            "error_y": {
             "color": "#2a3f5f"
            },
            "marker": {
             "line": {
              "color": "#E5ECF6",
              "width": 0.5
             },
             "pattern": {
              "fillmode": "overlay",
              "size": 10,
              "solidity": 0.2
             }
            },
            "type": "bar"
           }
          ],
          "barpolar": [
           {
            "marker": {
             "line": {
              "color": "#E5ECF6",
              "width": 0.5
             },
             "pattern": {
              "fillmode": "overlay",
              "size": 10,
              "solidity": 0.2
             }
            },
            "type": "barpolar"
           }
          ],
          "carpet": [
           {
            "aaxis": {
             "endlinecolor": "#2a3f5f",
             "gridcolor": "white",
             "linecolor": "white",
             "minorgridcolor": "white",
             "startlinecolor": "#2a3f5f"
            },
            "baxis": {
             "endlinecolor": "#2a3f5f",
             "gridcolor": "white",
             "linecolor": "white",
             "minorgridcolor": "white",
             "startlinecolor": "#2a3f5f"
            },
            "type": "carpet"
           }
          ],
          "choropleth": [
           {
            "colorbar": {
             "outlinewidth": 0,
             "ticks": ""
            },
            "type": "choropleth"
           }
          ],
          "contour": [
           {
            "colorbar": {
             "outlinewidth": 0,
             "ticks": ""
            },
            "colorscale": [
             [
              0,
              "#0d0887"
             ],
             [
              0.1111111111111111,
              "#46039f"
             ],
             [
              0.2222222222222222,
              "#7201a8"
             ],
             [
              0.3333333333333333,
              "#9c179e"
             ],
             [
              0.4444444444444444,
              "#bd3786"
             ],
             [
              0.5555555555555556,
              "#d8576b"
             ],
             [
              0.6666666666666666,
              "#ed7953"
             ],
             [
              0.7777777777777778,
              "#fb9f3a"
             ],
             [
              0.8888888888888888,
              "#fdca26"
             ],
             [
              1,
              "#f0f921"
             ]
            ],
            "type": "contour"
           }
          ],
          "contourcarpet": [
           {
            "colorbar": {
             "outlinewidth": 0,
             "ticks": ""
            },
            "type": "contourcarpet"
           }
          ],
          "heatmap": [
           {
            "colorbar": {
             "outlinewidth": 0,
             "ticks": ""
            },
            "colorscale": [
             [
              0,
              "#0d0887"
             ],
             [
              0.1111111111111111,
              "#46039f"
             ],
             [
              0.2222222222222222,
              "#7201a8"
             ],
             [
              0.3333333333333333,
              "#9c179e"
             ],
             [
              0.4444444444444444,
              "#bd3786"
             ],
             [
              0.5555555555555556,
              "#d8576b"
             ],
             [
              0.6666666666666666,
              "#ed7953"
             ],
             [
              0.7777777777777778,
              "#fb9f3a"
             ],
             [
              0.8888888888888888,
              "#fdca26"
             ],
             [
              1,
              "#f0f921"
             ]
            ],
            "type": "heatmap"
           }
          ],
          "heatmapgl": [
           {
            "colorbar": {
             "outlinewidth": 0,
             "ticks": ""
            },
            "colorscale": [
             [
              0,
              "#0d0887"
             ],
             [
              0.1111111111111111,
              "#46039f"
             ],
             [
              0.2222222222222222,
              "#7201a8"
             ],
             [
              0.3333333333333333,
              "#9c179e"
             ],
             [
              0.4444444444444444,
              "#bd3786"
             ],
             [
              0.5555555555555556,
              "#d8576b"
             ],
             [
              0.6666666666666666,
              "#ed7953"
             ],
             [
              0.7777777777777778,
              "#fb9f3a"
             ],
             [
              0.8888888888888888,
              "#fdca26"
             ],
             [
              1,
              "#f0f921"
             ]
            ],
            "type": "heatmapgl"
           }
          ],
          "histogram": [
           {
            "marker": {
             "pattern": {
              "fillmode": "overlay",
              "size": 10,
              "solidity": 0.2
             }
            },
            "type": "histogram"
           }
          ],
          "histogram2d": [
           {
            "colorbar": {
             "outlinewidth": 0,
             "ticks": ""
            },
            "colorscale": [
             [
              0,
              "#0d0887"
             ],
             [
              0.1111111111111111,
              "#46039f"
             ],
             [
              0.2222222222222222,
              "#7201a8"
             ],
             [
              0.3333333333333333,
              "#9c179e"
             ],
             [
              0.4444444444444444,
              "#bd3786"
             ],
             [
              0.5555555555555556,
              "#d8576b"
             ],
             [
              0.6666666666666666,
              "#ed7953"
             ],
             [
              0.7777777777777778,
              "#fb9f3a"
             ],
             [
              0.8888888888888888,
              "#fdca26"
             ],
             [
              1,
              "#f0f921"
             ]
            ],
            "type": "histogram2d"
           }
          ],
          "histogram2dcontour": [
           {
            "colorbar": {
             "outlinewidth": 0,
             "ticks": ""
            },
            "colorscale": [
             [
              0,
              "#0d0887"
             ],
             [
              0.1111111111111111,
              "#46039f"
             ],
             [
              0.2222222222222222,
              "#7201a8"
             ],
             [
              0.3333333333333333,
              "#9c179e"
             ],
             [
              0.4444444444444444,
              "#bd3786"
             ],
             [
              0.5555555555555556,
              "#d8576b"
             ],
             [
              0.6666666666666666,
              "#ed7953"
             ],
             [
              0.7777777777777778,
              "#fb9f3a"
             ],
             [
              0.8888888888888888,
              "#fdca26"
             ],
             [
              1,
              "#f0f921"
             ]
            ],
            "type": "histogram2dcontour"
           }
          ],
          "mesh3d": [
           {
            "colorbar": {
             "outlinewidth": 0,
             "ticks": ""
            },
            "type": "mesh3d"
           }
          ],
          "parcoords": [
           {
            "line": {
             "colorbar": {
              "outlinewidth": 0,
              "ticks": ""
             }
            },
            "type": "parcoords"
           }
          ],
          "pie": [
           {
            "automargin": true,
            "type": "pie"
           }
          ],
          "scatter": [
           {
            "fillpattern": {
             "fillmode": "overlay",
             "size": 10,
             "solidity": 0.2
            },
            "type": "scatter"
           }
          ],
          "scatter3d": [
           {
            "line": {
             "colorbar": {
              "outlinewidth": 0,
              "ticks": ""
             }
            },
            "marker": {
             "colorbar": {
              "outlinewidth": 0,
              "ticks": ""
             }
            },
            "type": "scatter3d"
           }
          ],
          "scattercarpet": [
           {
            "marker": {
             "colorbar": {
              "outlinewidth": 0,
              "ticks": ""
             }
            },
            "type": "scattercarpet"
           }
          ],
          "scattergeo": [
           {
            "marker": {
             "colorbar": {
              "outlinewidth": 0,
              "ticks": ""
             }
            },
            "type": "scattergeo"
           }
          ],
          "scattergl": [
           {
            "marker": {
             "colorbar": {
              "outlinewidth": 0,
              "ticks": ""
             }
            },
            "type": "scattergl"
           }
          ],
          "scattermapbox": [
           {
            "marker": {
             "colorbar": {
              "outlinewidth": 0,
              "ticks": ""
             }
            },
            "type": "scattermapbox"
           }
          ],
          "scatterpolar": [
           {
            "marker": {
             "colorbar": {
              "outlinewidth": 0,
              "ticks": ""
             }
            },
            "type": "scatterpolar"
           }
          ],
          "scatterpolargl": [
           {
            "marker": {
             "colorbar": {
              "outlinewidth": 0,
              "ticks": ""
             }
            },
            "type": "scatterpolargl"
           }
          ],
          "scatterternary": [
           {
            "marker": {
             "colorbar": {
              "outlinewidth": 0,
              "ticks": ""
             }
            },
            "type": "scatterternary"
           }
          ],
          "surface": [
           {
            "colorbar": {
             "outlinewidth": 0,
             "ticks": ""
            },
            "colorscale": [
             [
              0,
              "#0d0887"
             ],
             [
              0.1111111111111111,
              "#46039f"
             ],
             [
              0.2222222222222222,
              "#7201a8"
             ],
             [
              0.3333333333333333,
              "#9c179e"
             ],
             [
              0.4444444444444444,
              "#bd3786"
             ],
             [
              0.5555555555555556,
              "#d8576b"
             ],
             [
              0.6666666666666666,
              "#ed7953"
             ],
             [
              0.7777777777777778,
              "#fb9f3a"
             ],
             [
              0.8888888888888888,
              "#fdca26"
             ],
             [
              1,
              "#f0f921"
             ]
            ],
            "type": "surface"
           }
          ],
          "table": [
           {
            "cells": {
             "fill": {
              "color": "#EBF0F8"
             },
             "line": {
              "color": "white"
             }
            },
            "header": {
             "fill": {
              "color": "#C8D4E3"
             },
             "line": {
              "color": "white"
             }
            },
            "type": "table"
           }
          ]
         },
         "layout": {
          "annotationdefaults": {
           "arrowcolor": "#2a3f5f",
           "arrowhead": 0,
           "arrowwidth": 1
          },
          "autotypenumbers": "strict",
          "coloraxis": {
           "colorbar": {
            "outlinewidth": 0,
            "ticks": ""
           }
          },
          "colorscale": {
           "diverging": [
            [
             0,
             "#8e0152"
            ],
            [
             0.1,
             "#c51b7d"
            ],
            [
             0.2,
             "#de77ae"
            ],
            [
             0.3,
             "#f1b6da"
            ],
            [
             0.4,
             "#fde0ef"
            ],
            [
             0.5,
             "#f7f7f7"
            ],
            [
             0.6,
             "#e6f5d0"
            ],
            [
             0.7,
             "#b8e186"
            ],
            [
             0.8,
             "#7fbc41"
            ],
            [
             0.9,
             "#4d9221"
            ],
            [
             1,
             "#276419"
            ]
           ],
           "sequential": [
            [
             0,
             "#0d0887"
            ],
            [
             0.1111111111111111,
             "#46039f"
            ],
            [
             0.2222222222222222,
             "#7201a8"
            ],
            [
             0.3333333333333333,
             "#9c179e"
            ],
            [
             0.4444444444444444,
             "#bd3786"
            ],
            [
             0.5555555555555556,
             "#d8576b"
            ],
            [
             0.6666666666666666,
             "#ed7953"
            ],
            [
             0.7777777777777778,
             "#fb9f3a"
            ],
            [
             0.8888888888888888,
             "#fdca26"
            ],
            [
             1,
             "#f0f921"
            ]
           ],
           "sequentialminus": [
            [
             0,
             "#0d0887"
            ],
            [
             0.1111111111111111,
             "#46039f"
            ],
            [
             0.2222222222222222,
             "#7201a8"
            ],
            [
             0.3333333333333333,
             "#9c179e"
            ],
            [
             0.4444444444444444,
             "#bd3786"
            ],
            [
             0.5555555555555556,
             "#d8576b"
            ],
            [
             0.6666666666666666,
             "#ed7953"
            ],
            [
             0.7777777777777778,
             "#fb9f3a"
            ],
            [
             0.8888888888888888,
             "#fdca26"
            ],
            [
             1,
             "#f0f921"
            ]
           ]
          },
          "colorway": [
           "#636efa",
           "#EF553B",
           "#00cc96",
           "#ab63fa",
           "#FFA15A",
           "#19d3f3",
           "#FF6692",
           "#B6E880",
           "#FF97FF",
           "#FECB52"
          ],
          "font": {
           "color": "#2a3f5f"
          },
          "geo": {
           "bgcolor": "white",
           "lakecolor": "white",
           "landcolor": "#E5ECF6",
           "showlakes": true,
           "showland": true,
           "subunitcolor": "white"
          },
          "hoverlabel": {
           "align": "left"
          },
          "hovermode": "closest",
          "mapbox": {
           "style": "light"
          },
          "paper_bgcolor": "white",
          "plot_bgcolor": "#E5ECF6",
          "polar": {
           "angularaxis": {
            "gridcolor": "white",
            "linecolor": "white",
            "ticks": ""
           },
           "bgcolor": "#E5ECF6",
           "radialaxis": {
            "gridcolor": "white",
            "linecolor": "white",
            "ticks": ""
           }
          },
          "scene": {
           "xaxis": {
            "backgroundcolor": "#E5ECF6",
            "gridcolor": "white",
            "gridwidth": 2,
            "linecolor": "white",
            "showbackground": true,
            "ticks": "",
            "zerolinecolor": "white"
           },
           "yaxis": {
            "backgroundcolor": "#E5ECF6",
            "gridcolor": "white",
            "gridwidth": 2,
            "linecolor": "white",
            "showbackground": true,
            "ticks": "",
            "zerolinecolor": "white"
           },
           "zaxis": {
            "backgroundcolor": "#E5ECF6",
            "gridcolor": "white",
            "gridwidth": 2,
            "linecolor": "white",
            "showbackground": true,
            "ticks": "",
            "zerolinecolor": "white"
           }
          },
          "shapedefaults": {
           "line": {
            "color": "#2a3f5f"
           }
          },
          "ternary": {
           "aaxis": {
            "gridcolor": "white",
            "linecolor": "white",
            "ticks": ""
           },
           "baxis": {
            "gridcolor": "white",
            "linecolor": "white",
            "ticks": ""
           },
           "bgcolor": "#E5ECF6",
           "caxis": {
            "gridcolor": "white",
            "linecolor": "white",
            "ticks": ""
           }
          },
          "title": {
           "x": 0.05
          },
          "xaxis": {
           "automargin": true,
           "gridcolor": "white",
           "linecolor": "white",
           "ticks": "",
           "title": {
            "standoff": 15
           },
           "zerolinecolor": "white",
           "zerolinewidth": 2
          },
          "yaxis": {
           "automargin": true,
           "gridcolor": "white",
           "linecolor": "white",
           "ticks": "",
           "title": {
            "standoff": 15
           },
           "zerolinecolor": "white",
           "zerolinewidth": 2
          }
         }
        },
        "title": {
         "text": "Album: The Civil Wars"
        }
       }
      }
     },
     "metadata": {},
     "output_type": "display_data"
    },
    {
     "data": {
      "application/vnd.plotly.v1+json": {
       "config": {
        "plotlyServerURL": "https://plot.ly"
       },
       "data": [
        {
         "fill": "toself",
         "name": "All I Need",
         "r": [
          0.786,
          0.356,
          0.0462,
          0.771,
          0.1,
          0.519
         ],
         "theta": [
          "danceability",
          "energy",
          "speechiness",
          "acousticness",
          "liveness",
          "valence"
         ],
         "type": "scatterpolar"
        },
        {
         "fill": "toself",
         "name": "Bloom",
         "r": [
          0.606,
          0.488,
          0.0255,
          0.597,
          0.184,
          0.468
         ],
         "theta": [
          "danceability",
          "energy",
          "speechiness",
          "acousticness",
          "liveness",
          "valence"
         ],
         "type": "scatterpolar"
        },
        {
         "fill": "toself",
         "name": "Co2",
         "r": [
          0.533,
          0.678,
          0.0256,
          0.663,
          0.145,
          0.683
         ],
         "theta": [
          "danceability",
          "energy",
          "speechiness",
          "acousticness",
          "liveness",
          "valence"
         ],
         "type": "scatterpolar"
        },
        {
         "fill": "toself",
         "name": "Drown",
         "r": [
          0.358,
          0.58,
          0.045,
          0.768,
          0.127,
          0.352
         ],
         "theta": [
          "danceability",
          "energy",
          "speechiness",
          "acousticness",
          "liveness",
          "valence"
         ],
         "type": "scatterpolar"
        },
        {
         "fill": "toself",
         "name": "Face",
         "r": [
          0.481,
          0.669,
          0.455,
          0.92,
          0.139,
          0.351
         ],
         "theta": [
          "danceability",
          "energy",
          "speechiness",
          "acousticness",
          "liveness",
          "valence"
         ],
         "type": "scatterpolar"
        },
        {
         "fill": "toself",
         "name": "Favorite Peeps",
         "r": [
          0.611,
          0.525,
          0.0354,
          0.767,
          0.112,
          0.299
         ],
         "theta": [
          "danceability",
          "energy",
          "speechiness",
          "acousticness",
          "liveness",
          "valence"
         ],
         "type": "scatterpolar"
        },
        {
         "fill": "toself",
         "name": "Full Time Lover",
         "r": [
          0.541,
          0.254,
          0.0387,
          0.929,
          0.101,
          0.251
         ],
         "theta": [
          "danceability",
          "energy",
          "speechiness",
          "acousticness",
          "liveness",
          "valence"
         ],
         "type": "scatterpolar"
        },
        {
         "fill": "toself",
         "name": "Heartbroken",
         "r": [
          0.661,
          0.481,
          0.0294,
          0.662,
          0.0789,
          0.154
         ],
         "theta": [
          "danceability",
          "energy",
          "speechiness",
          "acousticness",
          "liveness",
          "valence"
         ],
         "type": "scatterpolar"
        },
        {
         "fill": "toself",
         "name": "Hollow",
         "r": [
          0.348,
          0.31,
          0.0413,
          0.845,
          0.111,
          0.0474
         ],
         "theta": [
          "danceability",
          "energy",
          "speechiness",
          "acousticness",
          "liveness",
          "valence"
         ],
         "type": "scatterpolar"
        },
        {
         "fill": "toself",
         "name": "Just A Word",
         "r": [
          0.36,
          0.247,
          0.0396,
          0.838,
          0.104,
          0.279
         ],
         "theta": [
          "danceability",
          "energy",
          "speechiness",
          "acousticness",
          "liveness",
          "valence"
         ],
         "type": "scatterpolar"
        },
        {
         "fill": "toself",
         "name": "The Last Time",
         "r": [
          0.693,
          0.459,
          0.0407,
          0.733,
          0.12,
          0.35
         ],
         "theta": [
          "danceability",
          "energy",
          "speechiness",
          "acousticness",
          "liveness",
          "valence"
         ],
         "type": "scatterpolar"
        }
       ],
       "layout": {
        "template": {
         "data": {
          "bar": [
           {
            "error_x": {
             "color": "#2a3f5f"
            },
            "error_y": {
             "color": "#2a3f5f"
            },
            "marker": {
             "line": {
              "color": "#E5ECF6",
              "width": 0.5
             },
             "pattern": {
              "fillmode": "overlay",
              "size": 10,
              "solidity": 0.2
             }
            },
            "type": "bar"
           }
          ],
          "barpolar": [
           {
            "marker": {
             "line": {
              "color": "#E5ECF6",
              "width": 0.5
             },
             "pattern": {
              "fillmode": "overlay",
              "size": 10,
              "solidity": 0.2
             }
            },
            "type": "barpolar"
           }
          ],
          "carpet": [
           {
            "aaxis": {
             "endlinecolor": "#2a3f5f",
             "gridcolor": "white",
             "linecolor": "white",
             "minorgridcolor": "white",
             "startlinecolor": "#2a3f5f"
            },
            "baxis": {
             "endlinecolor": "#2a3f5f",
             "gridcolor": "white",
             "linecolor": "white",
             "minorgridcolor": "white",
             "startlinecolor": "#2a3f5f"
            },
            "type": "carpet"
           }
          ],
          "choropleth": [
           {
            "colorbar": {
             "outlinewidth": 0,
             "ticks": ""
            },
            "type": "choropleth"
           }
          ],
          "contour": [
           {
            "colorbar": {
             "outlinewidth": 0,
             "ticks": ""
            },
            "colorscale": [
             [
              0,
              "#0d0887"
             ],
             [
              0.1111111111111111,
              "#46039f"
             ],
             [
              0.2222222222222222,
              "#7201a8"
             ],
             [
              0.3333333333333333,
              "#9c179e"
             ],
             [
              0.4444444444444444,
              "#bd3786"
             ],
             [
              0.5555555555555556,
              "#d8576b"
             ],
             [
              0.6666666666666666,
              "#ed7953"
             ],
             [
              0.7777777777777778,
              "#fb9f3a"
             ],
             [
              0.8888888888888888,
              "#fdca26"
             ],
             [
              1,
              "#f0f921"
             ]
            ],
            "type": "contour"
           }
          ],
          "contourcarpet": [
           {
            "colorbar": {
             "outlinewidth": 0,
             "ticks": ""
            },
            "type": "contourcarpet"
           }
          ],
          "heatmap": [
           {
            "colorbar": {
             "outlinewidth": 0,
             "ticks": ""
            },
            "colorscale": [
             [
              0,
              "#0d0887"
             ],
             [
              0.1111111111111111,
              "#46039f"
             ],
             [
              0.2222222222222222,
              "#7201a8"
             ],
             [
              0.3333333333333333,
              "#9c179e"
             ],
             [
              0.4444444444444444,
              "#bd3786"
             ],
             [
              0.5555555555555556,
              "#d8576b"
             ],
             [
              0.6666666666666666,
              "#ed7953"
             ],
             [
              0.7777777777777778,
              "#fb9f3a"
             ],
             [
              0.8888888888888888,
              "#fdca26"
             ],
             [
              1,
              "#f0f921"
             ]
            ],
            "type": "heatmap"
           }
          ],
          "heatmapgl": [
           {
            "colorbar": {
             "outlinewidth": 0,
             "ticks": ""
            },
            "colorscale": [
             [
              0,
              "#0d0887"
             ],
             [
              0.1111111111111111,
              "#46039f"
             ],
             [
              0.2222222222222222,
              "#7201a8"
             ],
             [
              0.3333333333333333,
              "#9c179e"
             ],
             [
              0.4444444444444444,
              "#bd3786"
             ],
             [
              0.5555555555555556,
              "#d8576b"
             ],
             [
              0.6666666666666666,
              "#ed7953"
             ],
             [
              0.7777777777777778,
              "#fb9f3a"
             ],
             [
              0.8888888888888888,
              "#fdca26"
             ],
             [
              1,
              "#f0f921"
             ]
            ],
            "type": "heatmapgl"
           }
          ],
          "histogram": [
           {
            "marker": {
             "pattern": {
              "fillmode": "overlay",
              "size": 10,
              "solidity": 0.2
             }
            },
            "type": "histogram"
           }
          ],
          "histogram2d": [
           {
            "colorbar": {
             "outlinewidth": 0,
             "ticks": ""
            },
            "colorscale": [
             [
              0,
              "#0d0887"
             ],
             [
              0.1111111111111111,
              "#46039f"
             ],
             [
              0.2222222222222222,
              "#7201a8"
             ],
             [
              0.3333333333333333,
              "#9c179e"
             ],
             [
              0.4444444444444444,
              "#bd3786"
             ],
             [
              0.5555555555555556,
              "#d8576b"
             ],
             [
              0.6666666666666666,
              "#ed7953"
             ],
             [
              0.7777777777777778,
              "#fb9f3a"
             ],
             [
              0.8888888888888888,
              "#fdca26"
             ],
             [
              1,
              "#f0f921"
             ]
            ],
            "type": "histogram2d"
           }
          ],
          "histogram2dcontour": [
           {
            "colorbar": {
             "outlinewidth": 0,
             "ticks": ""
            },
            "colorscale": [
             [
              0,
              "#0d0887"
             ],
             [
              0.1111111111111111,
              "#46039f"
             ],
             [
              0.2222222222222222,
              "#7201a8"
             ],
             [
              0.3333333333333333,
              "#9c179e"
             ],
             [
              0.4444444444444444,
              "#bd3786"
             ],
             [
              0.5555555555555556,
              "#d8576b"
             ],
             [
              0.6666666666666666,
              "#ed7953"
             ],
             [
              0.7777777777777778,
              "#fb9f3a"
             ],
             [
              0.8888888888888888,
              "#fdca26"
             ],
             [
              1,
              "#f0f921"
             ]
            ],
            "type": "histogram2dcontour"
           }
          ],
          "mesh3d": [
           {
            "colorbar": {
             "outlinewidth": 0,
             "ticks": ""
            },
            "type": "mesh3d"
           }
          ],
          "parcoords": [
           {
            "line": {
             "colorbar": {
              "outlinewidth": 0,
              "ticks": ""
             }
            },
            "type": "parcoords"
           }
          ],
          "pie": [
           {
            "automargin": true,
            "type": "pie"
           }
          ],
          "scatter": [
           {
            "fillpattern": {
             "fillmode": "overlay",
             "size": 10,
             "solidity": 0.2
            },
            "type": "scatter"
           }
          ],
          "scatter3d": [
           {
            "line": {
             "colorbar": {
              "outlinewidth": 0,
              "ticks": ""
             }
            },
            "marker": {
             "colorbar": {
              "outlinewidth": 0,
              "ticks": ""
             }
            },
            "type": "scatter3d"
           }
          ],
          "scattercarpet": [
           {
            "marker": {
             "colorbar": {
              "outlinewidth": 0,
              "ticks": ""
             }
            },
            "type": "scattercarpet"
           }
          ],
          "scattergeo": [
           {
            "marker": {
             "colorbar": {
              "outlinewidth": 0,
              "ticks": ""
             }
            },
            "type": "scattergeo"
           }
          ],
          "scattergl": [
           {
            "marker": {
             "colorbar": {
              "outlinewidth": 0,
              "ticks": ""
             }
            },
            "type": "scattergl"
           }
          ],
          "scattermapbox": [
           {
            "marker": {
             "colorbar": {
              "outlinewidth": 0,
              "ticks": ""
             }
            },
            "type": "scattermapbox"
           }
          ],
          "scatterpolar": [
           {
            "marker": {
             "colorbar": {
              "outlinewidth": 0,
              "ticks": ""
             }
            },
            "type": "scatterpolar"
           }
          ],
          "scatterpolargl": [
           {
            "marker": {
             "colorbar": {
              "outlinewidth": 0,
              "ticks": ""
             }
            },
            "type": "scatterpolargl"
           }
          ],
          "scatterternary": [
           {
            "marker": {
             "colorbar": {
              "outlinewidth": 0,
              "ticks": ""
             }
            },
            "type": "scatterternary"
           }
          ],
          "surface": [
           {
            "colorbar": {
             "outlinewidth": 0,
             "ticks": ""
            },
            "colorscale": [
             [
              0,
              "#0d0887"
             ],
             [
              0.1111111111111111,
              "#46039f"
             ],
             [
              0.2222222222222222,
              "#7201a8"
             ],
             [
              0.3333333333333333,
              "#9c179e"
             ],
             [
              0.4444444444444444,
              "#bd3786"
             ],
             [
              0.5555555555555556,
              "#d8576b"
             ],
             [
              0.6666666666666666,
              "#ed7953"
             ],
             [
              0.7777777777777778,
              "#fb9f3a"
             ],
             [
              0.8888888888888888,
              "#fdca26"
             ],
             [
              1,
              "#f0f921"
             ]
            ],
            "type": "surface"
           }
          ],
          "table": [
           {
            "cells": {
             "fill": {
              "color": "#EBF0F8"
             },
             "line": {
              "color": "white"
             }
            },
            "header": {
             "fill": {
              "color": "#C8D4E3"
             },
             "line": {
              "color": "white"
             }
            },
            "type": "table"
           }
          ]
         },
         "layout": {
          "annotationdefaults": {
           "arrowcolor": "#2a3f5f",
           "arrowhead": 0,
           "arrowwidth": 1
          },
          "autotypenumbers": "strict",
          "coloraxis": {
           "colorbar": {
            "outlinewidth": 0,
            "ticks": ""
           }
          },
          "colorscale": {
           "diverging": [
            [
             0,
             "#8e0152"
            ],
            [
             0.1,
             "#c51b7d"
            ],
            [
             0.2,
             "#de77ae"
            ],
            [
             0.3,
             "#f1b6da"
            ],
            [
             0.4,
             "#fde0ef"
            ],
            [
             0.5,
             "#f7f7f7"
            ],
            [
             0.6,
             "#e6f5d0"
            ],
            [
             0.7,
             "#b8e186"
            ],
            [
             0.8,
             "#7fbc41"
            ],
            [
             0.9,
             "#4d9221"
            ],
            [
             1,
             "#276419"
            ]
           ],
           "sequential": [
            [
             0,
             "#0d0887"
            ],
            [
             0.1111111111111111,
             "#46039f"
            ],
            [
             0.2222222222222222,
             "#7201a8"
            ],
            [
             0.3333333333333333,
             "#9c179e"
            ],
            [
             0.4444444444444444,
             "#bd3786"
            ],
            [
             0.5555555555555556,
             "#d8576b"
            ],
            [
             0.6666666666666666,
             "#ed7953"
            ],
            [
             0.7777777777777778,
             "#fb9f3a"
            ],
            [
             0.8888888888888888,
             "#fdca26"
            ],
            [
             1,
             "#f0f921"
            ]
           ],
           "sequentialminus": [
            [
             0,
             "#0d0887"
            ],
            [
             0.1111111111111111,
             "#46039f"
            ],
            [
             0.2222222222222222,
             "#7201a8"
            ],
            [
             0.3333333333333333,
             "#9c179e"
            ],
            [
             0.4444444444444444,
             "#bd3786"
            ],
            [
             0.5555555555555556,
             "#d8576b"
            ],
            [
             0.6666666666666666,
             "#ed7953"
            ],
            [
             0.7777777777777778,
             "#fb9f3a"
            ],
            [
             0.8888888888888888,
             "#fdca26"
            ],
            [
             1,
             "#f0f921"
            ]
           ]
          },
          "colorway": [
           "#636efa",
           "#EF553B",
           "#00cc96",
           "#ab63fa",
           "#FFA15A",
           "#19d3f3",
           "#FF6692",
           "#B6E880",
           "#FF97FF",
           "#FECB52"
          ],
          "font": {
           "color": "#2a3f5f"
          },
          "geo": {
           "bgcolor": "white",
           "lakecolor": "white",
           "landcolor": "#E5ECF6",
           "showlakes": true,
           "showland": true,
           "subunitcolor": "white"
          },
          "hoverlabel": {
           "align": "left"
          },
          "hovermode": "closest",
          "mapbox": {
           "style": "light"
          },
          "paper_bgcolor": "white",
          "plot_bgcolor": "#E5ECF6",
          "polar": {
           "angularaxis": {
            "gridcolor": "white",
            "linecolor": "white",
            "ticks": ""
           },
           "bgcolor": "#E5ECF6",
           "radialaxis": {
            "gridcolor": "white",
            "linecolor": "white",
            "ticks": ""
           }
          },
          "scene": {
           "xaxis": {
            "backgroundcolor": "#E5ECF6",
            "gridcolor": "white",
            "gridwidth": 2,
            "linecolor": "white",
            "showbackground": true,
            "ticks": "",
            "zerolinecolor": "white"
           },
           "yaxis": {
            "backgroundcolor": "#E5ECF6",
            "gridcolor": "white",
            "gridwidth": 2,
            "linecolor": "white",
            "showbackground": true,
            "ticks": "",
            "zerolinecolor": "white"
           },
           "zaxis": {
            "backgroundcolor": "#E5ECF6",
            "gridcolor": "white",
            "gridwidth": 2,
            "linecolor": "white",
            "showbackground": true,
            "ticks": "",
            "zerolinecolor": "white"
           }
          },
          "shapedefaults": {
           "line": {
            "color": "#2a3f5f"
           }
          },
          "ternary": {
           "aaxis": {
            "gridcolor": "white",
            "linecolor": "white",
            "ticks": ""
           },
           "baxis": {
            "gridcolor": "white",
            "linecolor": "white",
            "ticks": ""
           },
           "bgcolor": "#E5ECF6",
           "caxis": {
            "gridcolor": "white",
            "linecolor": "white",
            "ticks": ""
           }
          },
          "title": {
           "x": 0.05
          },
          "xaxis": {
           "automargin": true,
           "gridcolor": "white",
           "linecolor": "white",
           "ticks": "",
           "title": {
            "standoff": 15
           },
           "zerolinecolor": "white",
           "zerolinewidth": 2
          },
          "yaxis": {
           "automargin": true,
           "gridcolor": "white",
           "linecolor": "white",
           "ticks": "",
           "title": {
            "standoff": 15
           },
           "zerolinecolor": "white",
           "zerolinewidth": 2
          }
         }
        },
        "title": {
         "text": "Album: The Way That Lovers Do"
        }
       }
      }
     },
     "metadata": {},
     "output_type": "display_data"
    },
    {
     "data": {
      "application/vnd.plotly.v1+json": {
       "config": {
        "plotlyServerURL": "https://plot.ly"
       },
       "data": [
        {
         "fill": "toself",
         "name": "airplane thoughts",
         "r": [
          0.677,
          0.454,
          0.0673,
          0.83,
          0.274,
          0.273
         ],
         "theta": [
          "danceability",
          "energy",
          "speechiness",
          "acousticness",
          "liveness",
          "valence"
         ],
         "type": "scatterpolar"
        },
        {
         "fill": "toself",
         "name": "double take",
         "r": [
          0.656,
          0.436,
          0.0744,
          0.845,
          0.221,
          0.196
         ],
         "theta": [
          "danceability",
          "energy",
          "speechiness",
          "acousticness",
          "liveness",
          "valence"
         ],
         "type": "scatterpolar"
        },
        {
         "fill": "toself",
         "name": "grateful",
         "r": [
          0.507,
          0.516,
          0.106,
          0.457,
          0.128,
          0.486
         ],
         "theta": [
          "danceability",
          "energy",
          "speechiness",
          "acousticness",
          "liveness",
          "valence"
         ],
         "type": "scatterpolar"
        },
        {
         "fill": "toself",
         "name": "moonlight",
         "r": [
          0.735,
          0.501,
          0.167,
          0.627,
          0.104,
          0.551
         ],
         "theta": [
          "danceability",
          "energy",
          "speechiness",
          "acousticness",
          "liveness",
          "valence"
         ],
         "type": "scatterpolar"
        },
        {
         "fill": "toself",
         "name": "retrograde",
         "r": [
          0.49,
          0.229,
          0.0273,
          0.804,
          0.126,
          0.281
         ],
         "theta": [
          "danceability",
          "energy",
          "speechiness",
          "acousticness",
          "liveness",
          "valence"
         ],
         "type": "scatterpolar"
        },
        {
         "fill": "toself",
         "name": "stable life",
         "r": [
          0.502,
          0.446,
          0.0365,
          0.466,
          0.331,
          0.311
         ],
         "theta": [
          "danceability",
          "energy",
          "speechiness",
          "acousticness",
          "liveness",
          "valence"
         ],
         "type": "scatterpolar"
        },
        {
         "fill": "toself",
         "name": "vulnerable",
         "r": [
          0.696,
          0.543,
          0.0454,
          0.438,
          0.394,
          0.3
         ],
         "theta": [
          "danceability",
          "energy",
          "speechiness",
          "acousticness",
          "liveness",
          "valence"
         ],
         "type": "scatterpolar"
        },
        {
         "fill": "toself",
         "name": "what's wrong with me?",
         "r": [
          0.504,
          0.405,
          0.0515,
          0.786,
          0.102,
          0.176
         ],
         "theta": [
          "danceability",
          "energy",
          "speechiness",
          "acousticness",
          "liveness",
          "valence"
         ],
         "type": "scatterpolar"
        }
       ],
       "layout": {
        "template": {
         "data": {
          "bar": [
           {
            "error_x": {
             "color": "#2a3f5f"
            },
            "error_y": {
             "color": "#2a3f5f"
            },
            "marker": {
             "line": {
              "color": "#E5ECF6",
              "width": 0.5
             },
             "pattern": {
              "fillmode": "overlay",
              "size": 10,
              "solidity": 0.2
             }
            },
            "type": "bar"
           }
          ],
          "barpolar": [
           {
            "marker": {
             "line": {
              "color": "#E5ECF6",
              "width": 0.5
             },
             "pattern": {
              "fillmode": "overlay",
              "size": 10,
              "solidity": 0.2
             }
            },
            "type": "barpolar"
           }
          ],
          "carpet": [
           {
            "aaxis": {
             "endlinecolor": "#2a3f5f",
             "gridcolor": "white",
             "linecolor": "white",
             "minorgridcolor": "white",
             "startlinecolor": "#2a3f5f"
            },
            "baxis": {
             "endlinecolor": "#2a3f5f",
             "gridcolor": "white",
             "linecolor": "white",
             "minorgridcolor": "white",
             "startlinecolor": "#2a3f5f"
            },
            "type": "carpet"
           }
          ],
          "choropleth": [
           {
            "colorbar": {
             "outlinewidth": 0,
             "ticks": ""
            },
            "type": "choropleth"
           }
          ],
          "contour": [
           {
            "colorbar": {
             "outlinewidth": 0,
             "ticks": ""
            },
            "colorscale": [
             [
              0,
              "#0d0887"
             ],
             [
              0.1111111111111111,
              "#46039f"
             ],
             [
              0.2222222222222222,
              "#7201a8"
             ],
             [
              0.3333333333333333,
              "#9c179e"
             ],
             [
              0.4444444444444444,
              "#bd3786"
             ],
             [
              0.5555555555555556,
              "#d8576b"
             ],
             [
              0.6666666666666666,
              "#ed7953"
             ],
             [
              0.7777777777777778,
              "#fb9f3a"
             ],
             [
              0.8888888888888888,
              "#fdca26"
             ],
             [
              1,
              "#f0f921"
             ]
            ],
            "type": "contour"
           }
          ],
          "contourcarpet": [
           {
            "colorbar": {
             "outlinewidth": 0,
             "ticks": ""
            },
            "type": "contourcarpet"
           }
          ],
          "heatmap": [
           {
            "colorbar": {
             "outlinewidth": 0,
             "ticks": ""
            },
            "colorscale": [
             [
              0,
              "#0d0887"
             ],
             [
              0.1111111111111111,
              "#46039f"
             ],
             [
              0.2222222222222222,
              "#7201a8"
             ],
             [
              0.3333333333333333,
              "#9c179e"
             ],
             [
              0.4444444444444444,
              "#bd3786"
             ],
             [
              0.5555555555555556,
              "#d8576b"
             ],
             [
              0.6666666666666666,
              "#ed7953"
             ],
             [
              0.7777777777777778,
              "#fb9f3a"
             ],
             [
              0.8888888888888888,
              "#fdca26"
             ],
             [
              1,
              "#f0f921"
             ]
            ],
            "type": "heatmap"
           }
          ],
          "heatmapgl": [
           {
            "colorbar": {
             "outlinewidth": 0,
             "ticks": ""
            },
            "colorscale": [
             [
              0,
              "#0d0887"
             ],
             [
              0.1111111111111111,
              "#46039f"
             ],
             [
              0.2222222222222222,
              "#7201a8"
             ],
             [
              0.3333333333333333,
              "#9c179e"
             ],
             [
              0.4444444444444444,
              "#bd3786"
             ],
             [
              0.5555555555555556,
              "#d8576b"
             ],
             [
              0.6666666666666666,
              "#ed7953"
             ],
             [
              0.7777777777777778,
              "#fb9f3a"
             ],
             [
              0.8888888888888888,
              "#fdca26"
             ],
             [
              1,
              "#f0f921"
             ]
            ],
            "type": "heatmapgl"
           }
          ],
          "histogram": [
           {
            "marker": {
             "pattern": {
              "fillmode": "overlay",
              "size": 10,
              "solidity": 0.2
             }
            },
            "type": "histogram"
           }
          ],
          "histogram2d": [
           {
            "colorbar": {
             "outlinewidth": 0,
             "ticks": ""
            },
            "colorscale": [
             [
              0,
              "#0d0887"
             ],
             [
              0.1111111111111111,
              "#46039f"
             ],
             [
              0.2222222222222222,
              "#7201a8"
             ],
             [
              0.3333333333333333,
              "#9c179e"
             ],
             [
              0.4444444444444444,
              "#bd3786"
             ],
             [
              0.5555555555555556,
              "#d8576b"
             ],
             [
              0.6666666666666666,
              "#ed7953"
             ],
             [
              0.7777777777777778,
              "#fb9f3a"
             ],
             [
              0.8888888888888888,
              "#fdca26"
             ],
             [
              1,
              "#f0f921"
             ]
            ],
            "type": "histogram2d"
           }
          ],
          "histogram2dcontour": [
           {
            "colorbar": {
             "outlinewidth": 0,
             "ticks": ""
            },
            "colorscale": [
             [
              0,
              "#0d0887"
             ],
             [
              0.1111111111111111,
              "#46039f"
             ],
             [
              0.2222222222222222,
              "#7201a8"
             ],
             [
              0.3333333333333333,
              "#9c179e"
             ],
             [
              0.4444444444444444,
              "#bd3786"
             ],
             [
              0.5555555555555556,
              "#d8576b"
             ],
             [
              0.6666666666666666,
              "#ed7953"
             ],
             [
              0.7777777777777778,
              "#fb9f3a"
             ],
             [
              0.8888888888888888,
              "#fdca26"
             ],
             [
              1,
              "#f0f921"
             ]
            ],
            "type": "histogram2dcontour"
           }
          ],
          "mesh3d": [
           {
            "colorbar": {
             "outlinewidth": 0,
             "ticks": ""
            },
            "type": "mesh3d"
           }
          ],
          "parcoords": [
           {
            "line": {
             "colorbar": {
              "outlinewidth": 0,
              "ticks": ""
             }
            },
            "type": "parcoords"
           }
          ],
          "pie": [
           {
            "automargin": true,
            "type": "pie"
           }
          ],
          "scatter": [
           {
            "fillpattern": {
             "fillmode": "overlay",
             "size": 10,
             "solidity": 0.2
            },
            "type": "scatter"
           }
          ],
          "scatter3d": [
           {
            "line": {
             "colorbar": {
              "outlinewidth": 0,
              "ticks": ""
             }
            },
            "marker": {
             "colorbar": {
              "outlinewidth": 0,
              "ticks": ""
             }
            },
            "type": "scatter3d"
           }
          ],
          "scattercarpet": [
           {
            "marker": {
             "colorbar": {
              "outlinewidth": 0,
              "ticks": ""
             }
            },
            "type": "scattercarpet"
           }
          ],
          "scattergeo": [
           {
            "marker": {
             "colorbar": {
              "outlinewidth": 0,
              "ticks": ""
             }
            },
            "type": "scattergeo"
           }
          ],
          "scattergl": [
           {
            "marker": {
             "colorbar": {
              "outlinewidth": 0,
              "ticks": ""
             }
            },
            "type": "scattergl"
           }
          ],
          "scattermapbox": [
           {
            "marker": {
             "colorbar": {
              "outlinewidth": 0,
              "ticks": ""
             }
            },
            "type": "scattermapbox"
           }
          ],
          "scatterpolar": [
           {
            "marker": {
             "colorbar": {
              "outlinewidth": 0,
              "ticks": ""
             }
            },
            "type": "scatterpolar"
           }
          ],
          "scatterpolargl": [
           {
            "marker": {
             "colorbar": {
              "outlinewidth": 0,
              "ticks": ""
             }
            },
            "type": "scatterpolargl"
           }
          ],
          "scatterternary": [
           {
            "marker": {
             "colorbar": {
              "outlinewidth": 0,
              "ticks": ""
             }
            },
            "type": "scatterternary"
           }
          ],
          "surface": [
           {
            "colorbar": {
             "outlinewidth": 0,
             "ticks": ""
            },
            "colorscale": [
             [
              0,
              "#0d0887"
             ],
             [
              0.1111111111111111,
              "#46039f"
             ],
             [
              0.2222222222222222,
              "#7201a8"
             ],
             [
              0.3333333333333333,
              "#9c179e"
             ],
             [
              0.4444444444444444,
              "#bd3786"
             ],
             [
              0.5555555555555556,
              "#d8576b"
             ],
             [
              0.6666666666666666,
              "#ed7953"
             ],
             [
              0.7777777777777778,
              "#fb9f3a"
             ],
             [
              0.8888888888888888,
              "#fdca26"
             ],
             [
              1,
              "#f0f921"
             ]
            ],
            "type": "surface"
           }
          ],
          "table": [
           {
            "cells": {
             "fill": {
              "color": "#EBF0F8"
             },
             "line": {
              "color": "white"
             }
            },
            "header": {
             "fill": {
              "color": "#C8D4E3"
             },
             "line": {
              "color": "white"
             }
            },
            "type": "table"
           }
          ]
         },
         "layout": {
          "annotationdefaults": {
           "arrowcolor": "#2a3f5f",
           "arrowhead": 0,
           "arrowwidth": 1
          },
          "autotypenumbers": "strict",
          "coloraxis": {
           "colorbar": {
            "outlinewidth": 0,
            "ticks": ""
           }
          },
          "colorscale": {
           "diverging": [
            [
             0,
             "#8e0152"
            ],
            [
             0.1,
             "#c51b7d"
            ],
            [
             0.2,
             "#de77ae"
            ],
            [
             0.3,
             "#f1b6da"
            ],
            [
             0.4,
             "#fde0ef"
            ],
            [
             0.5,
             "#f7f7f7"
            ],
            [
             0.6,
             "#e6f5d0"
            ],
            [
             0.7,
             "#b8e186"
            ],
            [
             0.8,
             "#7fbc41"
            ],
            [
             0.9,
             "#4d9221"
            ],
            [
             1,
             "#276419"
            ]
           ],
           "sequential": [
            [
             0,
             "#0d0887"
            ],
            [
             0.1111111111111111,
             "#46039f"
            ],
            [
             0.2222222222222222,
             "#7201a8"
            ],
            [
             0.3333333333333333,
             "#9c179e"
            ],
            [
             0.4444444444444444,
             "#bd3786"
            ],
            [
             0.5555555555555556,
             "#d8576b"
            ],
            [
             0.6666666666666666,
             "#ed7953"
            ],
            [
             0.7777777777777778,
             "#fb9f3a"
            ],
            [
             0.8888888888888888,
             "#fdca26"
            ],
            [
             1,
             "#f0f921"
            ]
           ],
           "sequentialminus": [
            [
             0,
             "#0d0887"
            ],
            [
             0.1111111111111111,
             "#46039f"
            ],
            [
             0.2222222222222222,
             "#7201a8"
            ],
            [
             0.3333333333333333,
             "#9c179e"
            ],
            [
             0.4444444444444444,
             "#bd3786"
            ],
            [
             0.5555555555555556,
             "#d8576b"
            ],
            [
             0.6666666666666666,
             "#ed7953"
            ],
            [
             0.7777777777777778,
             "#fb9f3a"
            ],
            [
             0.8888888888888888,
             "#fdca26"
            ],
            [
             1,
             "#f0f921"
            ]
           ]
          },
          "colorway": [
           "#636efa",
           "#EF553B",
           "#00cc96",
           "#ab63fa",
           "#FFA15A",
           "#19d3f3",
           "#FF6692",
           "#B6E880",
           "#FF97FF",
           "#FECB52"
          ],
          "font": {
           "color": "#2a3f5f"
          },
          "geo": {
           "bgcolor": "white",
           "lakecolor": "white",
           "landcolor": "#E5ECF6",
           "showlakes": true,
           "showland": true,
           "subunitcolor": "white"
          },
          "hoverlabel": {
           "align": "left"
          },
          "hovermode": "closest",
          "mapbox": {
           "style": "light"
          },
          "paper_bgcolor": "white",
          "plot_bgcolor": "#E5ECF6",
          "polar": {
           "angularaxis": {
            "gridcolor": "white",
            "linecolor": "white",
            "ticks": ""
           },
           "bgcolor": "#E5ECF6",
           "radialaxis": {
            "gridcolor": "white",
            "linecolor": "white",
            "ticks": ""
           }
          },
          "scene": {
           "xaxis": {
            "backgroundcolor": "#E5ECF6",
            "gridcolor": "white",
            "gridwidth": 2,
            "linecolor": "white",
            "showbackground": true,
            "ticks": "",
            "zerolinecolor": "white"
           },
           "yaxis": {
            "backgroundcolor": "#E5ECF6",
            "gridcolor": "white",
            "gridwidth": 2,
            "linecolor": "white",
            "showbackground": true,
            "ticks": "",
            "zerolinecolor": "white"
           },
           "zaxis": {
            "backgroundcolor": "#E5ECF6",
            "gridcolor": "white",
            "gridwidth": 2,
            "linecolor": "white",
            "showbackground": true,
            "ticks": "",
            "zerolinecolor": "white"
           }
          },
          "shapedefaults": {
           "line": {
            "color": "#2a3f5f"
           }
          },
          "ternary": {
           "aaxis": {
            "gridcolor": "white",
            "linecolor": "white",
            "ticks": ""
           },
           "baxis": {
            "gridcolor": "white",
            "linecolor": "white",
            "ticks": ""
           },
           "bgcolor": "#E5ECF6",
           "caxis": {
            "gridcolor": "white",
            "linecolor": "white",
            "ticks": ""
           }
          },
          "title": {
           "x": 0.05
          },
          "xaxis": {
           "automargin": true,
           "gridcolor": "white",
           "linecolor": "white",
           "ticks": "",
           "title": {
            "standoff": 15
           },
           "zerolinecolor": "white",
           "zerolinewidth": 2
          },
          "yaxis": {
           "automargin": true,
           "gridcolor": "white",
           "linecolor": "white",
           "ticks": "",
           "title": {
            "standoff": 15
           },
           "zerolinecolor": "white",
           "zerolinewidth": 2
          }
         }
        },
        "title": {
         "text": "Album: rapunzel"
        }
       }
      }
     },
     "metadata": {},
     "output_type": "display_data"
    }
   ],
   "source": [
    "fig = go.Figure()\n",
    "album_names = summaryDF['album']\n",
    "for a in album_names:\n",
    "    temp = DF1[DF1[\"album\"] == a]\n",
    "    for index, row in temp.iterrows():\n",
    "        fig.add_trace(go.Scatterpolar(\n",
    "            r=row[categories],\n",
    "            theta=categories,\n",
    "            fill='toself',\n",
    "            name=row[\"name\"]\n",
    "        ))\n",
    "    fig.update_layout(title=\"Album: \" + a)\n",
    "    fig.show()\n",
    "    fig = go.Figure()\n"
   ]
  },
  {
   "cell_type": "markdown",
   "metadata": {},
   "source": [
    "# Analysis of Top 50 Artist India"
   ]
  },
  {
   "cell_type": "markdown",
   "metadata": {},
   "source": [
    "### loading dataset"
   ]
  },
  {
   "cell_type": "code",
   "execution_count": 16,
   "metadata": {},
   "outputs": [
    {
     "data": {
      "text/html": [
       "<div>\n",
       "<style scoped>\n",
       "    .dataframe tbody tr th:only-of-type {\n",
       "        vertical-align: middle;\n",
       "    }\n",
       "\n",
       "    .dataframe tbody tr th {\n",
       "        vertical-align: top;\n",
       "    }\n",
       "\n",
       "    .dataframe thead th {\n",
       "        text-align: right;\n",
       "    }\n",
       "</style>\n",
       "<table border=\"1\" class=\"dataframe\">\n",
       "  <thead>\n",
       "    <tr style=\"text-align: right;\">\n",
       "      <th></th>\n",
       "      <th>Singer</th>\n",
       "      <th>acousticness</th>\n",
       "      <th>danceability</th>\n",
       "      <th>energy</th>\n",
       "      <th>id</th>\n",
       "      <th>instrumentalness</th>\n",
       "      <th>key</th>\n",
       "      <th>liveness</th>\n",
       "      <th>loudness</th>\n",
       "      <th>mode</th>\n",
       "      <th>Song name</th>\n",
       "      <th>speechiness</th>\n",
       "      <th>tempo</th>\n",
       "      <th>track_href</th>\n",
       "      <th>valence</th>\n",
       "    </tr>\n",
       "  </thead>\n",
       "  <tbody>\n",
       "    <tr>\n",
       "      <th>0</th>\n",
       "      <td>Aastha Gill</td>\n",
       "      <td>0.48500</td>\n",
       "      <td>0.770</td>\n",
       "      <td>0.824</td>\n",
       "      <td>39ujbBjTwwqUFySaCYDMMT</td>\n",
       "      <td>0.000000</td>\n",
       "      <td>1</td>\n",
       "      <td>0.3180</td>\n",
       "      <td>-6.491</td>\n",
       "      <td>0</td>\n",
       "      <td>Proper Patola</td>\n",
       "      <td>0.0851</td>\n",
       "      <td>172.006</td>\n",
       "      <td>https://api.spotify.com/v1/tracks/39ujbBjTwwqU...</td>\n",
       "      <td>0.490</td>\n",
       "    </tr>\n",
       "    <tr>\n",
       "      <th>1</th>\n",
       "      <td>Aastha Gill</td>\n",
       "      <td>0.14300</td>\n",
       "      <td>0.825</td>\n",
       "      <td>0.666</td>\n",
       "      <td>5cjVsWqIkBQC7acTRhL0RO</td>\n",
       "      <td>0.000003</td>\n",
       "      <td>4</td>\n",
       "      <td>0.2370</td>\n",
       "      <td>-4.847</td>\n",
       "      <td>0</td>\n",
       "      <td>Kamariya</td>\n",
       "      <td>0.0554</td>\n",
       "      <td>96.987</td>\n",
       "      <td>https://api.spotify.com/v1/tracks/5cjVsWqIkBQC...</td>\n",
       "      <td>0.763</td>\n",
       "    </tr>\n",
       "    <tr>\n",
       "      <th>2</th>\n",
       "      <td>Aastha Gill</td>\n",
       "      <td>0.23600</td>\n",
       "      <td>0.663</td>\n",
       "      <td>0.551</td>\n",
       "      <td>3XYvdqcZrTmRntFDDbJkJd</td>\n",
       "      <td>0.000036</td>\n",
       "      <td>3</td>\n",
       "      <td>0.0923</td>\n",
       "      <td>-8.272</td>\n",
       "      <td>0</td>\n",
       "      <td>Buzz (feat. Badshah)</td>\n",
       "      <td>0.1090</td>\n",
       "      <td>113.314</td>\n",
       "      <td>https://api.spotify.com/v1/tracks/3XYvdqcZrTmR...</td>\n",
       "      <td>0.601</td>\n",
       "    </tr>\n",
       "    <tr>\n",
       "      <th>3</th>\n",
       "      <td>Aastha Gill</td>\n",
       "      <td>0.00323</td>\n",
       "      <td>0.919</td>\n",
       "      <td>0.571</td>\n",
       "      <td>46GBoFCdFZZSjuGaZjZmGv</td>\n",
       "      <td>0.001680</td>\n",
       "      <td>5</td>\n",
       "      <td>0.1030</td>\n",
       "      <td>-7.175</td>\n",
       "      <td>0</td>\n",
       "      <td>Saara India</td>\n",
       "      <td>0.0687</td>\n",
       "      <td>105.007</td>\n",
       "      <td>https://api.spotify.com/v1/tracks/46GBoFCdFZZS...</td>\n",
       "      <td>0.231</td>\n",
       "    </tr>\n",
       "    <tr>\n",
       "      <th>4</th>\n",
       "      <td>Aastha Gill</td>\n",
       "      <td>0.12900</td>\n",
       "      <td>0.867</td>\n",
       "      <td>0.720</td>\n",
       "      <td>6VwVEIiCro1EMyh9B6Om3v</td>\n",
       "      <td>0.000000</td>\n",
       "      <td>9</td>\n",
       "      <td>0.2280</td>\n",
       "      <td>-5.188</td>\n",
       "      <td>0</td>\n",
       "      <td>Drunk n High</td>\n",
       "      <td>0.0619</td>\n",
       "      <td>104.974</td>\n",
       "      <td>https://api.spotify.com/v1/tracks/6VwVEIiCro1E...</td>\n",
       "      <td>0.755</td>\n",
       "    </tr>\n",
       "  </tbody>\n",
       "</table>\n",
       "</div>"
      ],
      "text/plain": [
       "        Singer  acousticness  danceability  energy                      id  \\\n",
       "0  Aastha Gill       0.48500         0.770   0.824  39ujbBjTwwqUFySaCYDMMT   \n",
       "1  Aastha Gill       0.14300         0.825   0.666  5cjVsWqIkBQC7acTRhL0RO   \n",
       "2  Aastha Gill       0.23600         0.663   0.551  3XYvdqcZrTmRntFDDbJkJd   \n",
       "3  Aastha Gill       0.00323         0.919   0.571  46GBoFCdFZZSjuGaZjZmGv   \n",
       "4  Aastha Gill       0.12900         0.867   0.720  6VwVEIiCro1EMyh9B6Om3v   \n",
       "\n",
       "   instrumentalness  key  liveness  loudness  mode             Song name  \\\n",
       "0          0.000000    1    0.3180    -6.491     0         Proper Patola   \n",
       "1          0.000003    4    0.2370    -4.847     0              Kamariya   \n",
       "2          0.000036    3    0.0923    -8.272     0  Buzz (feat. Badshah)   \n",
       "3          0.001680    5    0.1030    -7.175     0           Saara India   \n",
       "4          0.000000    9    0.2280    -5.188     0          Drunk n High   \n",
       "\n",
       "   speechiness    tempo                                         track_href  \\\n",
       "0       0.0851  172.006  https://api.spotify.com/v1/tracks/39ujbBjTwwqU...   \n",
       "1       0.0554   96.987  https://api.spotify.com/v1/tracks/5cjVsWqIkBQC...   \n",
       "2       0.1090  113.314  https://api.spotify.com/v1/tracks/3XYvdqcZrTmR...   \n",
       "3       0.0687  105.007  https://api.spotify.com/v1/tracks/46GBoFCdFZZS...   \n",
       "4       0.0619  104.974  https://api.spotify.com/v1/tracks/6VwVEIiCro1E...   \n",
       "\n",
       "   valence  \n",
       "0    0.490  \n",
       "1    0.763  \n",
       "2    0.601  \n",
       "3    0.231  \n",
       "4    0.755  "
      ]
     },
     "execution_count": 16,
     "metadata": {},
     "output_type": "execute_result"
    }
   ],
   "source": [
    "# importing dataset of top50 indian artists\n",
    "Top50IndArtistDF = pd.read_csv(\".\\data\\SingerAndSongs.csv\")\n",
    "Top50IndArtistDF.head()\n"
   ]
  },
  {
   "cell_type": "markdown",
   "metadata": {},
   "source": [
    "### shape of dataset"
   ]
  },
  {
   "cell_type": "code",
   "execution_count": 17,
   "metadata": {},
   "outputs": [
    {
     "data": {
      "text/plain": [
       "(2231, 15)"
      ]
     },
     "execution_count": 17,
     "metadata": {},
     "output_type": "execute_result"
    }
   ],
   "source": [
    "Top50IndArtistDF.shape\n"
   ]
  },
  {
   "cell_type": "markdown",
   "metadata": {},
   "source": [
    "### columns present in data set"
   ]
  },
  {
   "cell_type": "code",
   "execution_count": 18,
   "metadata": {},
   "outputs": [
    {
     "data": {
      "text/plain": [
       "Index(['Singer', 'acousticness', 'danceability', 'energy', 'id',\n",
       "       'instrumentalness', 'key', 'liveness', 'loudness', 'mode', 'Song name',\n",
       "       'speechiness', 'tempo', 'track_href', 'valence'],\n",
       "      dtype='object')"
      ]
     },
     "execution_count": 18,
     "metadata": {},
     "output_type": "execute_result"
    }
   ],
   "source": [
    "Top50IndArtistDF.columns\n"
   ]
  },
  {
   "cell_type": "markdown",
   "metadata": {},
   "source": [
    "### type of values in column"
   ]
  },
  {
   "cell_type": "code",
   "execution_count": 19,
   "metadata": {},
   "outputs": [
    {
     "name": "stdout",
     "output_type": "stream",
     "text": [
      "<class 'pandas.core.frame.DataFrame'>\n",
      "RangeIndex: 2231 entries, 0 to 2230\n",
      "Data columns (total 15 columns):\n",
      " #   Column            Non-Null Count  Dtype  \n",
      "---  ------            --------------  -----  \n",
      " 0   Singer            2231 non-null   object \n",
      " 1   acousticness      2231 non-null   float64\n",
      " 2   danceability      2231 non-null   float64\n",
      " 3   energy            2231 non-null   float64\n",
      " 4   id                2231 non-null   object \n",
      " 5   instrumentalness  2231 non-null   float64\n",
      " 6   key               2231 non-null   int64  \n",
      " 7   liveness          2231 non-null   float64\n",
      " 8   loudness          2231 non-null   float64\n",
      " 9   mode              2231 non-null   int64  \n",
      " 10  Song name         2230 non-null   object \n",
      " 11  speechiness       2231 non-null   float64\n",
      " 12  tempo             2231 non-null   float64\n",
      " 13  track_href        2231 non-null   object \n",
      " 14  valence           2231 non-null   float64\n",
      "dtypes: float64(9), int64(2), object(4)\n",
      "memory usage: 261.6+ KB\n"
     ]
    }
   ],
   "source": [
    "Top50IndArtistDF.info()\n"
   ]
  },
  {
   "cell_type": "markdown",
   "metadata": {},
   "source": [
    "### checking numeric analysis of data set"
   ]
  },
  {
   "cell_type": "code",
   "execution_count": 20,
   "metadata": {},
   "outputs": [
    {
     "data": {
      "text/html": [
       "<div>\n",
       "<style scoped>\n",
       "    .dataframe tbody tr th:only-of-type {\n",
       "        vertical-align: middle;\n",
       "    }\n",
       "\n",
       "    .dataframe tbody tr th {\n",
       "        vertical-align: top;\n",
       "    }\n",
       "\n",
       "    .dataframe thead th {\n",
       "        text-align: right;\n",
       "    }\n",
       "</style>\n",
       "<table border=\"1\" class=\"dataframe\">\n",
       "  <thead>\n",
       "    <tr style=\"text-align: right;\">\n",
       "      <th></th>\n",
       "      <th>acousticness</th>\n",
       "      <th>danceability</th>\n",
       "      <th>energy</th>\n",
       "      <th>instrumentalness</th>\n",
       "      <th>key</th>\n",
       "      <th>liveness</th>\n",
       "      <th>loudness</th>\n",
       "      <th>mode</th>\n",
       "      <th>speechiness</th>\n",
       "      <th>tempo</th>\n",
       "      <th>valence</th>\n",
       "    </tr>\n",
       "  </thead>\n",
       "  <tbody>\n",
       "    <tr>\n",
       "      <th>count</th>\n",
       "      <td>2231.000000</td>\n",
       "      <td>2231.000000</td>\n",
       "      <td>2231.000000</td>\n",
       "      <td>2231.000000</td>\n",
       "      <td>2231.000000</td>\n",
       "      <td>2231.000000</td>\n",
       "      <td>2231.000000</td>\n",
       "      <td>2231.000000</td>\n",
       "      <td>2231.000000</td>\n",
       "      <td>2231.000000</td>\n",
       "      <td>2231.000000</td>\n",
       "    </tr>\n",
       "    <tr>\n",
       "      <th>mean</th>\n",
       "      <td>0.396178</td>\n",
       "      <td>0.612732</td>\n",
       "      <td>0.658173</td>\n",
       "      <td>0.011951</td>\n",
       "      <td>5.396683</td>\n",
       "      <td>0.184136</td>\n",
       "      <td>-7.250929</td>\n",
       "      <td>0.573734</td>\n",
       "      <td>0.074873</td>\n",
       "      <td>115.488944</td>\n",
       "      <td>0.558418</td>\n",
       "    </tr>\n",
       "    <tr>\n",
       "      <th>std</th>\n",
       "      <td>0.296341</td>\n",
       "      <td>0.156026</td>\n",
       "      <td>0.190023</td>\n",
       "      <td>0.078426</td>\n",
       "      <td>3.459693</td>\n",
       "      <td>0.141807</td>\n",
       "      <td>2.929937</td>\n",
       "      <td>0.494644</td>\n",
       "      <td>0.069613</td>\n",
       "      <td>26.287521</td>\n",
       "      <td>0.216312</td>\n",
       "    </tr>\n",
       "    <tr>\n",
       "      <th>min</th>\n",
       "      <td>0.000266</td>\n",
       "      <td>0.156000</td>\n",
       "      <td>0.103000</td>\n",
       "      <td>0.000000</td>\n",
       "      <td>0.000000</td>\n",
       "      <td>0.022200</td>\n",
       "      <td>-20.090000</td>\n",
       "      <td>0.000000</td>\n",
       "      <td>0.023200</td>\n",
       "      <td>55.832000</td>\n",
       "      <td>0.039400</td>\n",
       "    </tr>\n",
       "    <tr>\n",
       "      <th>25%</th>\n",
       "      <td>0.118000</td>\n",
       "      <td>0.505000</td>\n",
       "      <td>0.520000</td>\n",
       "      <td>0.000000</td>\n",
       "      <td>2.000000</td>\n",
       "      <td>0.094800</td>\n",
       "      <td>-8.841500</td>\n",
       "      <td>0.000000</td>\n",
       "      <td>0.034200</td>\n",
       "      <td>95.987000</td>\n",
       "      <td>0.385000</td>\n",
       "    </tr>\n",
       "    <tr>\n",
       "      <th>50%</th>\n",
       "      <td>0.344000</td>\n",
       "      <td>0.622000</td>\n",
       "      <td>0.669000</td>\n",
       "      <td>0.000007</td>\n",
       "      <td>6.000000</td>\n",
       "      <td>0.126000</td>\n",
       "      <td>-6.887000</td>\n",
       "      <td>1.000000</td>\n",
       "      <td>0.048300</td>\n",
       "      <td>109.982000</td>\n",
       "      <td>0.563000</td>\n",
       "    </tr>\n",
       "    <tr>\n",
       "      <th>75%</th>\n",
       "      <td>0.647500</td>\n",
       "      <td>0.734000</td>\n",
       "      <td>0.815500</td>\n",
       "      <td>0.000249</td>\n",
       "      <td>8.000000</td>\n",
       "      <td>0.245500</td>\n",
       "      <td>-5.332500</td>\n",
       "      <td>1.000000</td>\n",
       "      <td>0.081350</td>\n",
       "      <td>130.098000</td>\n",
       "      <td>0.731000</td>\n",
       "    </tr>\n",
       "    <tr>\n",
       "      <th>max</th>\n",
       "      <td>0.994000</td>\n",
       "      <td>0.971000</td>\n",
       "      <td>0.988000</td>\n",
       "      <td>0.967000</td>\n",
       "      <td>11.000000</td>\n",
       "      <td>0.972000</td>\n",
       "      <td>0.003000</td>\n",
       "      <td>1.000000</td>\n",
       "      <td>0.684000</td>\n",
       "      <td>214.016000</td>\n",
       "      <td>0.970000</td>\n",
       "    </tr>\n",
       "  </tbody>\n",
       "</table>\n",
       "</div>"
      ],
      "text/plain": [
       "       acousticness  danceability       energy  instrumentalness          key  \\\n",
       "count   2231.000000   2231.000000  2231.000000       2231.000000  2231.000000   \n",
       "mean       0.396178      0.612732     0.658173          0.011951     5.396683   \n",
       "std        0.296341      0.156026     0.190023          0.078426     3.459693   \n",
       "min        0.000266      0.156000     0.103000          0.000000     0.000000   \n",
       "25%        0.118000      0.505000     0.520000          0.000000     2.000000   \n",
       "50%        0.344000      0.622000     0.669000          0.000007     6.000000   \n",
       "75%        0.647500      0.734000     0.815500          0.000249     8.000000   \n",
       "max        0.994000      0.971000     0.988000          0.967000    11.000000   \n",
       "\n",
       "          liveness     loudness         mode  speechiness        tempo  \\\n",
       "count  2231.000000  2231.000000  2231.000000  2231.000000  2231.000000   \n",
       "mean      0.184136    -7.250929     0.573734     0.074873   115.488944   \n",
       "std       0.141807     2.929937     0.494644     0.069613    26.287521   \n",
       "min       0.022200   -20.090000     0.000000     0.023200    55.832000   \n",
       "25%       0.094800    -8.841500     0.000000     0.034200    95.987000   \n",
       "50%       0.126000    -6.887000     1.000000     0.048300   109.982000   \n",
       "75%       0.245500    -5.332500     1.000000     0.081350   130.098000   \n",
       "max       0.972000     0.003000     1.000000     0.684000   214.016000   \n",
       "\n",
       "           valence  \n",
       "count  2231.000000  \n",
       "mean      0.558418  \n",
       "std       0.216312  \n",
       "min       0.039400  \n",
       "25%       0.385000  \n",
       "50%       0.563000  \n",
       "75%       0.731000  \n",
       "max       0.970000  "
      ]
     },
     "execution_count": 20,
     "metadata": {},
     "output_type": "execute_result"
    }
   ],
   "source": [
    "Top50IndArtistDF.describe()\n"
   ]
  },
  {
   "cell_type": "markdown",
   "metadata": {},
   "source": [
    "### checking null values in data set"
   ]
  },
  {
   "cell_type": "code",
   "execution_count": 21,
   "metadata": {},
   "outputs": [
    {
     "data": {
      "text/plain": [
       "Singer              0\n",
       "acousticness        0\n",
       "danceability        0\n",
       "energy              0\n",
       "id                  0\n",
       "instrumentalness    0\n",
       "key                 0\n",
       "liveness            0\n",
       "loudness            0\n",
       "mode                0\n",
       "Song name           1\n",
       "speechiness         0\n",
       "tempo               0\n",
       "track_href          0\n",
       "valence             0\n",
       "dtype: int64"
      ]
     },
     "execution_count": 21,
     "metadata": {},
     "output_type": "execute_result"
    }
   ],
   "source": [
    "Top50IndArtistDF.isnull().sum()\n"
   ]
  },
  {
   "cell_type": "markdown",
   "metadata": {},
   "source": [
    "### checking data type of values present in data set"
   ]
  },
  {
   "cell_type": "code",
   "execution_count": 22,
   "metadata": {},
   "outputs": [
    {
     "data": {
      "text/plain": [
       "Singer               object\n",
       "acousticness        float64\n",
       "danceability        float64\n",
       "energy              float64\n",
       "id                   object\n",
       "instrumentalness    float64\n",
       "key                   int64\n",
       "liveness            float64\n",
       "loudness            float64\n",
       "mode                  int64\n",
       "Song name            object\n",
       "speechiness         float64\n",
       "tempo               float64\n",
       "track_href           object\n",
       "valence             float64\n",
       "dtype: object"
      ]
     },
     "execution_count": 22,
     "metadata": {},
     "output_type": "execute_result"
    }
   ],
   "source": [
    "Top50IndArtistDF.dtypes\n"
   ]
  },
  {
   "cell_type": "markdown",
   "metadata": {},
   "source": [
    "### Data Cleaning"
   ]
  },
  {
   "cell_type": "code",
   "execution_count": 23,
   "metadata": {},
   "outputs": [
    {
     "data": {
      "text/html": [
       "<div>\n",
       "<style scoped>\n",
       "    .dataframe tbody tr th:only-of-type {\n",
       "        vertical-align: middle;\n",
       "    }\n",
       "\n",
       "    .dataframe tbody tr th {\n",
       "        vertical-align: top;\n",
       "    }\n",
       "\n",
       "    .dataframe thead th {\n",
       "        text-align: right;\n",
       "    }\n",
       "</style>\n",
       "<table border=\"1\" class=\"dataframe\">\n",
       "  <thead>\n",
       "    <tr style=\"text-align: right;\">\n",
       "      <th></th>\n",
       "      <th>Singer</th>\n",
       "      <th>acousticness</th>\n",
       "      <th>danceability</th>\n",
       "      <th>energy</th>\n",
       "      <th>id</th>\n",
       "      <th>instrumentalness</th>\n",
       "      <th>key</th>\n",
       "      <th>liveness</th>\n",
       "      <th>loudness</th>\n",
       "      <th>mode</th>\n",
       "      <th>Song name</th>\n",
       "      <th>speechiness</th>\n",
       "      <th>tempo</th>\n",
       "      <th>track_href</th>\n",
       "      <th>valence</th>\n",
       "    </tr>\n",
       "  </thead>\n",
       "  <tbody>\n",
       "    <tr>\n",
       "      <th>0</th>\n",
       "      <td>Aastha Gill</td>\n",
       "      <td>0.48500</td>\n",
       "      <td>0.770</td>\n",
       "      <td>0.824</td>\n",
       "      <td>39ujbBjTwwqUFySaCYDMMT</td>\n",
       "      <td>0.000000</td>\n",
       "      <td>1</td>\n",
       "      <td>0.3180</td>\n",
       "      <td>-6.491</td>\n",
       "      <td>0</td>\n",
       "      <td>Proper Patola</td>\n",
       "      <td>0.0851</td>\n",
       "      <td>172.006</td>\n",
       "      <td>https://api.spotify.com/v1/tracks/39ujbBjTwwqU...</td>\n",
       "      <td>0.490</td>\n",
       "    </tr>\n",
       "    <tr>\n",
       "      <th>1</th>\n",
       "      <td>Aastha Gill</td>\n",
       "      <td>0.14300</td>\n",
       "      <td>0.825</td>\n",
       "      <td>0.666</td>\n",
       "      <td>5cjVsWqIkBQC7acTRhL0RO</td>\n",
       "      <td>0.000003</td>\n",
       "      <td>4</td>\n",
       "      <td>0.2370</td>\n",
       "      <td>-4.847</td>\n",
       "      <td>0</td>\n",
       "      <td>Kamariya</td>\n",
       "      <td>0.0554</td>\n",
       "      <td>96.987</td>\n",
       "      <td>https://api.spotify.com/v1/tracks/5cjVsWqIkBQC...</td>\n",
       "      <td>0.763</td>\n",
       "    </tr>\n",
       "    <tr>\n",
       "      <th>2</th>\n",
       "      <td>Aastha Gill</td>\n",
       "      <td>0.23600</td>\n",
       "      <td>0.663</td>\n",
       "      <td>0.551</td>\n",
       "      <td>3XYvdqcZrTmRntFDDbJkJd</td>\n",
       "      <td>0.000036</td>\n",
       "      <td>3</td>\n",
       "      <td>0.0923</td>\n",
       "      <td>-8.272</td>\n",
       "      <td>0</td>\n",
       "      <td>Buzz (feat. Badshah)</td>\n",
       "      <td>0.1090</td>\n",
       "      <td>113.314</td>\n",
       "      <td>https://api.spotify.com/v1/tracks/3XYvdqcZrTmR...</td>\n",
       "      <td>0.601</td>\n",
       "    </tr>\n",
       "    <tr>\n",
       "      <th>3</th>\n",
       "      <td>Aastha Gill</td>\n",
       "      <td>0.00323</td>\n",
       "      <td>0.919</td>\n",
       "      <td>0.571</td>\n",
       "      <td>46GBoFCdFZZSjuGaZjZmGv</td>\n",
       "      <td>0.001680</td>\n",
       "      <td>5</td>\n",
       "      <td>0.1030</td>\n",
       "      <td>-7.175</td>\n",
       "      <td>0</td>\n",
       "      <td>Saara India</td>\n",
       "      <td>0.0687</td>\n",
       "      <td>105.007</td>\n",
       "      <td>https://api.spotify.com/v1/tracks/46GBoFCdFZZS...</td>\n",
       "      <td>0.231</td>\n",
       "    </tr>\n",
       "    <tr>\n",
       "      <th>4</th>\n",
       "      <td>Aastha Gill</td>\n",
       "      <td>0.12900</td>\n",
       "      <td>0.867</td>\n",
       "      <td>0.720</td>\n",
       "      <td>6VwVEIiCro1EMyh9B6Om3v</td>\n",
       "      <td>0.000000</td>\n",
       "      <td>9</td>\n",
       "      <td>0.2280</td>\n",
       "      <td>-5.188</td>\n",
       "      <td>0</td>\n",
       "      <td>Drunk n High</td>\n",
       "      <td>0.0619</td>\n",
       "      <td>104.974</td>\n",
       "      <td>https://api.spotify.com/v1/tracks/6VwVEIiCro1E...</td>\n",
       "      <td>0.755</td>\n",
       "    </tr>\n",
       "  </tbody>\n",
       "</table>\n",
       "</div>"
      ],
      "text/plain": [
       "        Singer  acousticness  danceability  energy                      id  \\\n",
       "0  Aastha Gill       0.48500         0.770   0.824  39ujbBjTwwqUFySaCYDMMT   \n",
       "1  Aastha Gill       0.14300         0.825   0.666  5cjVsWqIkBQC7acTRhL0RO   \n",
       "2  Aastha Gill       0.23600         0.663   0.551  3XYvdqcZrTmRntFDDbJkJd   \n",
       "3  Aastha Gill       0.00323         0.919   0.571  46GBoFCdFZZSjuGaZjZmGv   \n",
       "4  Aastha Gill       0.12900         0.867   0.720  6VwVEIiCro1EMyh9B6Om3v   \n",
       "\n",
       "   instrumentalness  key  liveness  loudness  mode             Song name  \\\n",
       "0          0.000000    1    0.3180    -6.491     0         Proper Patola   \n",
       "1          0.000003    4    0.2370    -4.847     0              Kamariya   \n",
       "2          0.000036    3    0.0923    -8.272     0  Buzz (feat. Badshah)   \n",
       "3          0.001680    5    0.1030    -7.175     0           Saara India   \n",
       "4          0.000000    9    0.2280    -5.188     0          Drunk n High   \n",
       "\n",
       "   speechiness    tempo                                         track_href  \\\n",
       "0       0.0851  172.006  https://api.spotify.com/v1/tracks/39ujbBjTwwqU...   \n",
       "1       0.0554   96.987  https://api.spotify.com/v1/tracks/5cjVsWqIkBQC...   \n",
       "2       0.1090  113.314  https://api.spotify.com/v1/tracks/3XYvdqcZrTmR...   \n",
       "3       0.0687  105.007  https://api.spotify.com/v1/tracks/46GBoFCdFZZS...   \n",
       "4       0.0619  104.974  https://api.spotify.com/v1/tracks/6VwVEIiCro1E...   \n",
       "\n",
       "   valence  \n",
       "0    0.490  \n",
       "1    0.763  \n",
       "2    0.601  \n",
       "3    0.231  \n",
       "4    0.755  "
      ]
     },
     "execution_count": 23,
     "metadata": {},
     "output_type": "execute_result"
    }
   ],
   "source": [
    "Top50IndArtistDF.head()\n"
   ]
  },
  {
   "cell_type": "markdown",
   "metadata": {},
   "source": [
    "### counting number of nan values in data set"
   ]
  },
  {
   "cell_type": "code",
   "execution_count": 24,
   "metadata": {},
   "outputs": [
    {
     "data": {
      "text/plain": [
       "Singer              0\n",
       "acousticness        0\n",
       "danceability        0\n",
       "energy              0\n",
       "id                  0\n",
       "instrumentalness    0\n",
       "key                 0\n",
       "liveness            0\n",
       "loudness            0\n",
       "mode                0\n",
       "Song name           1\n",
       "speechiness         0\n",
       "tempo               0\n",
       "track_href          0\n",
       "valence             0\n",
       "dtype: int64"
      ]
     },
     "execution_count": 24,
     "metadata": {},
     "output_type": "execute_result"
    }
   ],
   "source": [
    "# checking null values\n",
    "Top50IndArtistDF.isnull().sum()\n"
   ]
  },
  {
   "cell_type": "markdown",
   "metadata": {},
   "source": [
    "### dropping nan values from dataset"
   ]
  },
  {
   "cell_type": "code",
   "execution_count": 25,
   "metadata": {},
   "outputs": [
    {
     "data": {
      "text/plain": [
       "Singer              0\n",
       "acousticness        0\n",
       "danceability        0\n",
       "energy              0\n",
       "id                  0\n",
       "instrumentalness    0\n",
       "key                 0\n",
       "liveness            0\n",
       "loudness            0\n",
       "mode                0\n",
       "Song name           0\n",
       "speechiness         0\n",
       "tempo               0\n",
       "track_href          0\n",
       "valence             0\n",
       "dtype: int64"
      ]
     },
     "execution_count": 25,
     "metadata": {},
     "output_type": "execute_result"
    }
   ],
   "source": [
    "# drop null values\n",
    "df2 = Top50IndArtistDF.dropna()\n",
    "# check null values\n",
    "df2.isnull().sum()\n"
   ]
  },
  {
   "cell_type": "markdown",
   "id": "e587e497",
   "metadata": {},
   "source": [
    "### Feature Engineering"
   ]
  },
  {
   "cell_type": "code",
   "execution_count": 26,
   "metadata": {},
   "outputs": [
    {
     "data": {
      "text/html": [
       "<div>\n",
       "<style scoped>\n",
       "    .dataframe tbody tr th:only-of-type {\n",
       "        vertical-align: middle;\n",
       "    }\n",
       "\n",
       "    .dataframe tbody tr th {\n",
       "        vertical-align: top;\n",
       "    }\n",
       "\n",
       "    .dataframe thead th {\n",
       "        text-align: right;\n",
       "    }\n",
       "</style>\n",
       "<table border=\"1\" class=\"dataframe\">\n",
       "  <thead>\n",
       "    <tr style=\"text-align: right;\">\n",
       "      <th></th>\n",
       "      <th>Singer</th>\n",
       "      <th>acousticness</th>\n",
       "      <th>danceability</th>\n",
       "      <th>energy</th>\n",
       "      <th>id</th>\n",
       "      <th>instrumentalness</th>\n",
       "      <th>key</th>\n",
       "      <th>liveness</th>\n",
       "      <th>loudness</th>\n",
       "      <th>mode</th>\n",
       "      <th>speechiness</th>\n",
       "      <th>tempo</th>\n",
       "      <th>track_href</th>\n",
       "      <th>valence</th>\n",
       "    </tr>\n",
       "    <tr>\n",
       "      <th>Song name</th>\n",
       "      <th></th>\n",
       "      <th></th>\n",
       "      <th></th>\n",
       "      <th></th>\n",
       "      <th></th>\n",
       "      <th></th>\n",
       "      <th></th>\n",
       "      <th></th>\n",
       "      <th></th>\n",
       "      <th></th>\n",
       "      <th></th>\n",
       "      <th></th>\n",
       "      <th></th>\n",
       "      <th></th>\n",
       "    </tr>\n",
       "  </thead>\n",
       "  <tbody>\n",
       "    <tr>\n",
       "      <th>Proper Patola</th>\n",
       "      <td>Aastha Gill</td>\n",
       "      <td>0.48500</td>\n",
       "      <td>0.770</td>\n",
       "      <td>0.824</td>\n",
       "      <td>39ujbBjTwwqUFySaCYDMMT</td>\n",
       "      <td>0.000000</td>\n",
       "      <td>1</td>\n",
       "      <td>0.3180</td>\n",
       "      <td>-6.491</td>\n",
       "      <td>0</td>\n",
       "      <td>0.0851</td>\n",
       "      <td>172.006</td>\n",
       "      <td>https://api.spotify.com/v1/tracks/39ujbBjTwwqU...</td>\n",
       "      <td>0.490</td>\n",
       "    </tr>\n",
       "    <tr>\n",
       "      <th>Kamariya</th>\n",
       "      <td>Aastha Gill</td>\n",
       "      <td>0.14300</td>\n",
       "      <td>0.825</td>\n",
       "      <td>0.666</td>\n",
       "      <td>5cjVsWqIkBQC7acTRhL0RO</td>\n",
       "      <td>0.000003</td>\n",
       "      <td>4</td>\n",
       "      <td>0.2370</td>\n",
       "      <td>-4.847</td>\n",
       "      <td>0</td>\n",
       "      <td>0.0554</td>\n",
       "      <td>96.987</td>\n",
       "      <td>https://api.spotify.com/v1/tracks/5cjVsWqIkBQC...</td>\n",
       "      <td>0.763</td>\n",
       "    </tr>\n",
       "    <tr>\n",
       "      <th>Buzz (feat. Badshah)</th>\n",
       "      <td>Aastha Gill</td>\n",
       "      <td>0.23600</td>\n",
       "      <td>0.663</td>\n",
       "      <td>0.551</td>\n",
       "      <td>3XYvdqcZrTmRntFDDbJkJd</td>\n",
       "      <td>0.000036</td>\n",
       "      <td>3</td>\n",
       "      <td>0.0923</td>\n",
       "      <td>-8.272</td>\n",
       "      <td>0</td>\n",
       "      <td>0.1090</td>\n",
       "      <td>113.314</td>\n",
       "      <td>https://api.spotify.com/v1/tracks/3XYvdqcZrTmR...</td>\n",
       "      <td>0.601</td>\n",
       "    </tr>\n",
       "    <tr>\n",
       "      <th>Saara India</th>\n",
       "      <td>Aastha Gill</td>\n",
       "      <td>0.00323</td>\n",
       "      <td>0.919</td>\n",
       "      <td>0.571</td>\n",
       "      <td>46GBoFCdFZZSjuGaZjZmGv</td>\n",
       "      <td>0.001680</td>\n",
       "      <td>5</td>\n",
       "      <td>0.1030</td>\n",
       "      <td>-7.175</td>\n",
       "      <td>0</td>\n",
       "      <td>0.0687</td>\n",
       "      <td>105.007</td>\n",
       "      <td>https://api.spotify.com/v1/tracks/46GBoFCdFZZS...</td>\n",
       "      <td>0.231</td>\n",
       "    </tr>\n",
       "    <tr>\n",
       "      <th>Drunk n High</th>\n",
       "      <td>Aastha Gill</td>\n",
       "      <td>0.12900</td>\n",
       "      <td>0.867</td>\n",
       "      <td>0.720</td>\n",
       "      <td>6VwVEIiCro1EMyh9B6Om3v</td>\n",
       "      <td>0.000000</td>\n",
       "      <td>9</td>\n",
       "      <td>0.2280</td>\n",
       "      <td>-5.188</td>\n",
       "      <td>0</td>\n",
       "      <td>0.0619</td>\n",
       "      <td>104.974</td>\n",
       "      <td>https://api.spotify.com/v1/tracks/6VwVEIiCro1E...</td>\n",
       "      <td>0.755</td>\n",
       "    </tr>\n",
       "  </tbody>\n",
       "</table>\n",
       "</div>"
      ],
      "text/plain": [
       "                           Singer  acousticness  danceability  energy  \\\n",
       "Song name                                                               \n",
       "Proper Patola         Aastha Gill       0.48500         0.770   0.824   \n",
       "Kamariya              Aastha Gill       0.14300         0.825   0.666   \n",
       "Buzz (feat. Badshah)  Aastha Gill       0.23600         0.663   0.551   \n",
       "Saara India           Aastha Gill       0.00323         0.919   0.571   \n",
       "Drunk n High          Aastha Gill       0.12900         0.867   0.720   \n",
       "\n",
       "                                          id  instrumentalness  key  liveness  \\\n",
       "Song name                                                                       \n",
       "Proper Patola         39ujbBjTwwqUFySaCYDMMT          0.000000    1    0.3180   \n",
       "Kamariya              5cjVsWqIkBQC7acTRhL0RO          0.000003    4    0.2370   \n",
       "Buzz (feat. Badshah)  3XYvdqcZrTmRntFDDbJkJd          0.000036    3    0.0923   \n",
       "Saara India           46GBoFCdFZZSjuGaZjZmGv          0.001680    5    0.1030   \n",
       "Drunk n High          6VwVEIiCro1EMyh9B6Om3v          0.000000    9    0.2280   \n",
       "\n",
       "                      loudness  mode  speechiness    tempo  \\\n",
       "Song name                                                    \n",
       "Proper Patola           -6.491     0       0.0851  172.006   \n",
       "Kamariya                -4.847     0       0.0554   96.987   \n",
       "Buzz (feat. Badshah)    -8.272     0       0.1090  113.314   \n",
       "Saara India             -7.175     0       0.0687  105.007   \n",
       "Drunk n High            -5.188     0       0.0619  104.974   \n",
       "\n",
       "                                                             track_href  \\\n",
       "Song name                                                                 \n",
       "Proper Patola         https://api.spotify.com/v1/tracks/39ujbBjTwwqU...   \n",
       "Kamariya              https://api.spotify.com/v1/tracks/5cjVsWqIkBQC...   \n",
       "Buzz (feat. Badshah)  https://api.spotify.com/v1/tracks/3XYvdqcZrTmR...   \n",
       "Saara India           https://api.spotify.com/v1/tracks/46GBoFCdFZZS...   \n",
       "Drunk n High          https://api.spotify.com/v1/tracks/6VwVEIiCro1E...   \n",
       "\n",
       "                      valence  \n",
       "Song name                      \n",
       "Proper Patola           0.490  \n",
       "Kamariya                0.763  \n",
       "Buzz (feat. Badshah)    0.601  \n",
       "Saara India             0.231  \n",
       "Drunk n High            0.755  "
      ]
     },
     "execution_count": 26,
     "metadata": {},
     "output_type": "execute_result"
    }
   ],
   "source": [
    "df2.set_index(\"Song name\", inplace=True)\n",
    "df2.head()\n"
   ]
  },
  {
   "cell_type": "markdown",
   "metadata": {},
   "source": [
    "### songs at 69 location in the data set"
   ]
  },
  {
   "cell_type": "code",
   "execution_count": 27,
   "metadata": {},
   "outputs": [
    {
     "data": {
      "text/plain": [
       "Singer    Amit Trivedi\n",
       "Name: Radhe (From Songs of Faith), dtype: object"
      ]
     },
     "execution_count": 27,
     "metadata": {},
     "output_type": "execute_result"
    }
   ],
   "source": [
    "df2[[\"Singer\"]].iloc[69]\n"
   ]
  },
  {
   "cell_type": "markdown",
   "metadata": {},
   "source": [
    "### sorting on the basis of danceability in songs"
   ]
  },
  {
   "cell_type": "code",
   "execution_count": 28,
   "metadata": {},
   "outputs": [
    {
     "data": {
      "text/html": [
       "<div>\n",
       "<style scoped>\n",
       "    .dataframe tbody tr th:only-of-type {\n",
       "        vertical-align: middle;\n",
       "    }\n",
       "\n",
       "    .dataframe tbody tr th {\n",
       "        vertical-align: top;\n",
       "    }\n",
       "\n",
       "    .dataframe thead th {\n",
       "        text-align: right;\n",
       "    }\n",
       "</style>\n",
       "<table border=\"1\" class=\"dataframe\">\n",
       "  <thead>\n",
       "    <tr style=\"text-align: right;\">\n",
       "      <th></th>\n",
       "      <th>Song name</th>\n",
       "      <th>Singer</th>\n",
       "    </tr>\n",
       "  </thead>\n",
       "  <tbody>\n",
       "    <tr>\n",
       "      <th>117</th>\n",
       "      <td>Tum Bin</td>\n",
       "      <td>Ankit Tiwari</td>\n",
       "    </tr>\n",
       "    <tr>\n",
       "      <th>1590</th>\n",
       "      <td>Bekhayali Reprise (From \"T-Series Acoustics\")</td>\n",
       "      <td>Sachet Tandon</td>\n",
       "    </tr>\n",
       "    <tr>\n",
       "      <th>625</th>\n",
       "      <td>Tu Hi Tha</td>\n",
       "      <td>Darshan Raval</td>\n",
       "    </tr>\n",
       "    <tr>\n",
       "      <th>306</th>\n",
       "      <td>Hamari Adhuri Kahani (Title Track)</td>\n",
       "      <td>Arijit Singh</td>\n",
       "    </tr>\n",
       "    <tr>\n",
       "      <th>55</th>\n",
       "      <td>Kuch Kuch Hota Hai - Sad</td>\n",
       "      <td>Alka Yagnik</td>\n",
       "    </tr>\n",
       "  </tbody>\n",
       "</table>\n",
       "</div>"
      ],
      "text/plain": [
       "                                          Song name         Singer\n",
       "117                                         Tum Bin   Ankit Tiwari\n",
       "1590  Bekhayali Reprise (From \"T-Series Acoustics\")  Sachet Tandon\n",
       "625                                       Tu Hi Tha  Darshan Raval\n",
       "306              Hamari Adhuri Kahani (Title Track)   Arijit Singh\n",
       "55                         Kuch Kuch Hota Hai - Sad    Alka Yagnik"
      ]
     },
     "execution_count": 28,
     "metadata": {},
     "output_type": "execute_result"
    }
   ],
   "source": [
    "Top50IndArtistDF.sort_values(by=['danceability'])[\n",
    "    ['Song name', 'Singer']].head()\n"
   ]
  },
  {
   "cell_type": "markdown",
   "metadata": {},
   "source": [
    "### sorting on he basis of loudness in songs"
   ]
  },
  {
   "cell_type": "code",
   "execution_count": 29,
   "metadata": {},
   "outputs": [
    {
     "data": {
      "text/html": [
       "<div>\n",
       "<style scoped>\n",
       "    .dataframe tbody tr th:only-of-type {\n",
       "        vertical-align: middle;\n",
       "    }\n",
       "\n",
       "    .dataframe tbody tr th {\n",
       "        vertical-align: top;\n",
       "    }\n",
       "\n",
       "    .dataframe thead th {\n",
       "        text-align: right;\n",
       "    }\n",
       "</style>\n",
       "<table border=\"1\" class=\"dataframe\">\n",
       "  <thead>\n",
       "    <tr style=\"text-align: right;\">\n",
       "      <th></th>\n",
       "      <th>Song name</th>\n",
       "      <th>Singer</th>\n",
       "    </tr>\n",
       "  </thead>\n",
       "  <tbody>\n",
       "    <tr>\n",
       "      <th>1200</th>\n",
       "      <td>Beete Huye Lamhon Ki Kasak</td>\n",
       "      <td>Mahendra Kapoor</td>\n",
       "    </tr>\n",
       "    <tr>\n",
       "      <th>173</th>\n",
       "      <td>Aanewala Kal Ek Sapna - Anu Malik Version</td>\n",
       "      <td>Anu Malik</td>\n",
       "    </tr>\n",
       "    <tr>\n",
       "      <th>1916</th>\n",
       "      <td>Nahin Saamne Tu</td>\n",
       "      <td>Sukhwinder Singh</td>\n",
       "    </tr>\n",
       "    <tr>\n",
       "      <th>749</th>\n",
       "      <td>Mazak Hai Kya</td>\n",
       "      <td>Emiway bantai</td>\n",
       "    </tr>\n",
       "    <tr>\n",
       "      <th>1725</th>\n",
       "      <td>Yemi Cheyamanduve</td>\n",
       "      <td>Shankar Mahadevan</td>\n",
       "    </tr>\n",
       "  </tbody>\n",
       "</table>\n",
       "</div>"
      ],
      "text/plain": [
       "                                      Song name             Singer\n",
       "1200                 Beete Huye Lamhon Ki Kasak    Mahendra Kapoor\n",
       "173   Aanewala Kal Ek Sapna - Anu Malik Version          Anu Malik\n",
       "1916                            Nahin Saamne Tu   Sukhwinder Singh\n",
       "749                               Mazak Hai Kya      Emiway bantai\n",
       "1725                          Yemi Cheyamanduve  Shankar Mahadevan"
      ]
     },
     "execution_count": 29,
     "metadata": {},
     "output_type": "execute_result"
    }
   ],
   "source": [
    "Top50IndArtistDF.sort_values(by=['loudness'])[\n",
    "    ['Song name', 'Singer']].head()\n"
   ]
  },
  {
   "cell_type": "markdown",
   "metadata": {},
   "source": [
    "### heatmap of songs between numeric values"
   ]
  },
  {
   "cell_type": "code",
   "execution_count": 30,
   "metadata": {},
   "outputs": [
    {
     "data": {
      "text/plain": [
       "[Text(0.5, 0, 'acousticness'),\n",
       " Text(1.5, 0, 'danceability'),\n",
       " Text(2.5, 0, 'energy'),\n",
       " Text(3.5, 0, 'instrumentalness'),\n",
       " Text(4.5, 0, 'liveness'),\n",
       " Text(5.5, 0, 'loudness'),\n",
       " Text(6.5, 0, 'speechiness'),\n",
       " Text(7.5, 0, 'tempo'),\n",
       " Text(8.5, 0, 'valence')]"
      ]
     },
     "execution_count": 30,
     "metadata": {},
     "output_type": "execute_result"
    },
    {
     "data": {
      "image/png": "[encoded data removed]",
      "text/plain": [
       "<Figure size 1008x504 with 2 Axes>"
      ]
     },
     "metadata": {
      "needs_background": "light"
     },
     "output_type": "display_data"
    }
   ],
   "source": [
    "corr_df = df2.drop([\"key\", \"mode\", \"track_href\", \"Singer\", \"id\"],\n",
    "                   axis=1).corr(method=\"pearson\")\n",
    "plt.figure(figsize=(14, 7))\n",
    "heatmap = sns.heatmap(corr_df, annot=True,)\n",
    "heatmap.set_title(\"Correlation Heatmap Between Variables\")\n",
    "heatmap.set_xticklabels(heatmap.get_xticklabels(), rotation=90)\n"
   ]
  },
  {
   "cell_type": "markdown",
   "metadata": {},
   "source": [
    "### regplot between loundness and energy in songs"
   ]
  },
  {
   "cell_type": "code",
   "execution_count": 31,
   "metadata": {},
   "outputs": [
    {
     "data": {
      "text/plain": [
       "[Text(0.5, 1.0, 'Loundness vs Energy Correlation')]"
      ]
     },
     "execution_count": 31,
     "metadata": {},
     "output_type": "execute_result"
    },
    {
     "data": {
      "image/png": "[encoded data removed]",
      "text/plain": [
       "<Figure size 720x432 with 1 Axes>"
      ]
     },
     "metadata": {
      "needs_background": "light"
     },
     "output_type": "display_data"
    }
   ],
   "source": [
    "plt.figure(figsize=(10, 6))\n",
    "sns.regplot(data=df2, y=\"loudness\", x=\"energy\", color=\"c\").set(\n",
    "    title=\"Loundness vs Energy Correlation\")\n"
   ]
  },
  {
   "cell_type": "markdown",
   "metadata": {},
   "source": [
    "### jointplot between loudness and energy in songs"
   ]
  },
  {
   "cell_type": "code",
   "execution_count": 32,
   "metadata": {},
   "outputs": [
    {
     "data": {
      "text/plain": [
       "<seaborn.axisgrid.JointGrid at 0x1b879ec3250>"
      ]
     },
     "execution_count": 32,
     "metadata": {},
     "output_type": "execute_result"
    },
    {
     "data": {
      "image/png": "[encoded data removed]",
      "text/plain": [
       "<Figure size 432x432 with 3 Axes>"
      ]
     },
     "metadata": {},
     "output_type": "display_data"
    }
   ],
   "source": [
    "sns.set(rc={'figure.figsize': (20, 20)})\n",
    "sns.jointplot(data=df2, x=\"loudness\", y=\"energy\", kind=\"kde\")\n"
   ]
  },
  {
   "cell_type": "markdown",
   "metadata": {},
   "source": [
    "### Top 10 Singers with number of songs"
   ]
  },
  {
   "cell_type": "code",
   "execution_count": 33,
   "metadata": {},
   "outputs": [
    {
     "data": {
      "text/plain": [
       "<AxesSubplot: >"
      ]
     },
     "execution_count": 33,
     "metadata": {},
     "output_type": "execute_result"
    },
    {
     "data": {
      "image/png": "[encoded data removed]",
      "text/plain": [
       "<Figure size 720x576 with 1 Axes>"
      ]
     },
     "metadata": {},
     "output_type": "display_data"
    }
   ],
   "source": [
    "plt.figure(figsize=[10,8])\n",
    "Top50IndArtistDF['Singer'].value_counts().head(10).plot.bar()"
   ]
  },
  {
   "cell_type": "markdown",
   "metadata": {},
   "source": [
    "### columns in df1"
   ]
  },
  {
   "cell_type": "code",
   "execution_count": 34,
   "metadata": {},
   "outputs": [
    {
     "data": {
      "text/plain": [
       "Index(['Singer', 'acousticness', 'danceability', 'energy', 'id',\n",
       "       'instrumentalness', 'key', 'liveness', 'loudness', 'mode', 'Song name',\n",
       "       'speechiness', 'tempo', 'track_href', 'valence'],\n",
       "      dtype='object')"
      ]
     },
     "execution_count": 34,
     "metadata": {},
     "output_type": "execute_result"
    }
   ],
   "source": [
    "Top50IndArtistDF.columns"
   ]
  },
  {
   "cell_type": "code",
   "execution_count": 35,
   "metadata": {},
   "outputs": [
    {
     "data": {
      "text/html": [
       "<div>\n",
       "<style scoped>\n",
       "    .dataframe tbody tr th:only-of-type {\n",
       "        vertical-align: middle;\n",
       "    }\n",
       "\n",
       "    .dataframe tbody tr th {\n",
       "        vertical-align: top;\n",
       "    }\n",
       "\n",
       "    .dataframe thead th {\n",
       "        text-align: right;\n",
       "    }\n",
       "</style>\n",
       "<table border=\"1\" class=\"dataframe\">\n",
       "  <thead>\n",
       "    <tr style=\"text-align: right;\">\n",
       "      <th></th>\n",
       "      <th>Singer</th>\n",
       "      <th>acousticness</th>\n",
       "      <th>danceability</th>\n",
       "      <th>energy</th>\n",
       "      <th>id</th>\n",
       "      <th>instrumentalness</th>\n",
       "      <th>key</th>\n",
       "      <th>liveness</th>\n",
       "      <th>loudness</th>\n",
       "      <th>mode</th>\n",
       "      <th>Song name</th>\n",
       "      <th>speechiness</th>\n",
       "      <th>tempo</th>\n",
       "      <th>track_href</th>\n",
       "      <th>valence</th>\n",
       "    </tr>\n",
       "  </thead>\n",
       "  <tbody>\n",
       "    <tr>\n",
       "      <th>0</th>\n",
       "      <td>Aastha Gill</td>\n",
       "      <td>0.48500</td>\n",
       "      <td>0.770</td>\n",
       "      <td>0.824</td>\n",
       "      <td>39ujbBjTwwqUFySaCYDMMT</td>\n",
       "      <td>0.000000</td>\n",
       "      <td>1</td>\n",
       "      <td>0.3180</td>\n",
       "      <td>-6.491</td>\n",
       "      <td>0</td>\n",
       "      <td>Proper Patola</td>\n",
       "      <td>0.0851</td>\n",
       "      <td>172.006</td>\n",
       "      <td>https://api.spotify.com/v1/tracks/39ujbBjTwwqU...</td>\n",
       "      <td>0.490</td>\n",
       "    </tr>\n",
       "    <tr>\n",
       "      <th>1</th>\n",
       "      <td>Aastha Gill</td>\n",
       "      <td>0.14300</td>\n",
       "      <td>0.825</td>\n",
       "      <td>0.666</td>\n",
       "      <td>5cjVsWqIkBQC7acTRhL0RO</td>\n",
       "      <td>0.000003</td>\n",
       "      <td>4</td>\n",
       "      <td>0.2370</td>\n",
       "      <td>-4.847</td>\n",
       "      <td>0</td>\n",
       "      <td>Kamariya</td>\n",
       "      <td>0.0554</td>\n",
       "      <td>96.987</td>\n",
       "      <td>https://api.spotify.com/v1/tracks/5cjVsWqIkBQC...</td>\n",
       "      <td>0.763</td>\n",
       "    </tr>\n",
       "    <tr>\n",
       "      <th>2</th>\n",
       "      <td>Aastha Gill</td>\n",
       "      <td>0.23600</td>\n",
       "      <td>0.663</td>\n",
       "      <td>0.551</td>\n",
       "      <td>3XYvdqcZrTmRntFDDbJkJd</td>\n",
       "      <td>0.000036</td>\n",
       "      <td>3</td>\n",
       "      <td>0.0923</td>\n",
       "      <td>-8.272</td>\n",
       "      <td>0</td>\n",
       "      <td>Buzz (feat. Badshah)</td>\n",
       "      <td>0.1090</td>\n",
       "      <td>113.314</td>\n",
       "      <td>https://api.spotify.com/v1/tracks/3XYvdqcZrTmR...</td>\n",
       "      <td>0.601</td>\n",
       "    </tr>\n",
       "    <tr>\n",
       "      <th>3</th>\n",
       "      <td>Aastha Gill</td>\n",
       "      <td>0.00323</td>\n",
       "      <td>0.919</td>\n",
       "      <td>0.571</td>\n",
       "      <td>46GBoFCdFZZSjuGaZjZmGv</td>\n",
       "      <td>0.001680</td>\n",
       "      <td>5</td>\n",
       "      <td>0.1030</td>\n",
       "      <td>-7.175</td>\n",
       "      <td>0</td>\n",
       "      <td>Saara India</td>\n",
       "      <td>0.0687</td>\n",
       "      <td>105.007</td>\n",
       "      <td>https://api.spotify.com/v1/tracks/46GBoFCdFZZS...</td>\n",
       "      <td>0.231</td>\n",
       "    </tr>\n",
       "    <tr>\n",
       "      <th>4</th>\n",
       "      <td>Aastha Gill</td>\n",
       "      <td>0.12900</td>\n",
       "      <td>0.867</td>\n",
       "      <td>0.720</td>\n",
       "      <td>6VwVEIiCro1EMyh9B6Om3v</td>\n",
       "      <td>0.000000</td>\n",
       "      <td>9</td>\n",
       "      <td>0.2280</td>\n",
       "      <td>-5.188</td>\n",
       "      <td>0</td>\n",
       "      <td>Drunk n High</td>\n",
       "      <td>0.0619</td>\n",
       "      <td>104.974</td>\n",
       "      <td>https://api.spotify.com/v1/tracks/6VwVEIiCro1E...</td>\n",
       "      <td>0.755</td>\n",
       "    </tr>\n",
       "  </tbody>\n",
       "</table>\n",
       "</div>"
      ],
      "text/plain": [
       "        Singer  acousticness  danceability  energy                      id  \\\n",
       "0  Aastha Gill       0.48500         0.770   0.824  39ujbBjTwwqUFySaCYDMMT   \n",
       "1  Aastha Gill       0.14300         0.825   0.666  5cjVsWqIkBQC7acTRhL0RO   \n",
       "2  Aastha Gill       0.23600         0.663   0.551  3XYvdqcZrTmRntFDDbJkJd   \n",
       "3  Aastha Gill       0.00323         0.919   0.571  46GBoFCdFZZSjuGaZjZmGv   \n",
       "4  Aastha Gill       0.12900         0.867   0.720  6VwVEIiCro1EMyh9B6Om3v   \n",
       "\n",
       "   instrumentalness  key  liveness  loudness  mode             Song name  \\\n",
       "0          0.000000    1    0.3180    -6.491     0         Proper Patola   \n",
       "1          0.000003    4    0.2370    -4.847     0              Kamariya   \n",
       "2          0.000036    3    0.0923    -8.272     0  Buzz (feat. Badshah)   \n",
       "3          0.001680    5    0.1030    -7.175     0           Saara India   \n",
       "4          0.000000    9    0.2280    -5.188     0          Drunk n High   \n",
       "\n",
       "   speechiness    tempo                                         track_href  \\\n",
       "0       0.0851  172.006  https://api.spotify.com/v1/tracks/39ujbBjTwwqU...   \n",
       "1       0.0554   96.987  https://api.spotify.com/v1/tracks/5cjVsWqIkBQC...   \n",
       "2       0.1090  113.314  https://api.spotify.com/v1/tracks/3XYvdqcZrTmR...   \n",
       "3       0.0687  105.007  https://api.spotify.com/v1/tracks/46GBoFCdFZZS...   \n",
       "4       0.0619  104.974  https://api.spotify.com/v1/tracks/6VwVEIiCro1E...   \n",
       "\n",
       "   valence  \n",
       "0    0.490  \n",
       "1    0.763  \n",
       "2    0.601  \n",
       "3    0.231  \n",
       "4    0.755  "
      ]
     },
     "execution_count": 35,
     "metadata": {},
     "output_type": "execute_result"
    }
   ],
   "source": [
    "Top50IndArtistDF.head()"
   ]
  },
  {
   "cell_type": "markdown",
   "metadata": {},
   "source": [
    "### Top 10 singers with highest acousticness"
   ]
  },
  {
   "cell_type": "code",
   "execution_count": 36,
   "metadata": {},
   "outputs": [
    {
     "data": {
      "text/plain": [
       "<AxesSubplot: xlabel='Singer'>"
      ]
     },
     "execution_count": 36,
     "metadata": {},
     "output_type": "execute_result"
    },
    {
     "data": {
      "image/png": "[encoded data removed]",
      "text/plain": [
       "<Figure size 720x576 with 1 Axes>"
      ]
     },
     "metadata": {},
     "output_type": "display_data"
    }
   ],
   "source": [
    "plt.figure(figsize=[10,8])\n",
    "Top50IndArtistDF.groupby(['Singer'])['acousticness'].mean().sort_values(ascending=False).head(10).plot.bar()"
   ]
  },
  {
   "cell_type": "markdown",
   "metadata": {},
   "source": [
    "### plotting piechart of songs other than singles"
   ]
  },
  {
   "cell_type": "code",
   "execution_count": 37,
   "metadata": {},
   "outputs": [
    {
     "data": {
      "text/plain": [
       "<AxesSubplot: ylabel='Song name'>"
      ]
     },
     "execution_count": 37,
     "metadata": {},
     "output_type": "execute_result"
    },
    {
     "data": {
      "image/png": "[encoded data removed]",
      "text/plain": [
       "<Figure size 864x720 with 1 Axes>"
      ]
     },
     "metadata": {},
     "output_type": "display_data"
    }
   ],
   "source": [
    "plt.figure(figsize=[12, 10])\n",
    "Top50IndArtistDF['Song name'].value_counts().head(10).plot.pie()\n"
   ]
  },
  {
   "cell_type": "markdown",
   "metadata": {},
   "source": [
    "### loudness in songs"
   ]
  },
  {
   "cell_type": "code",
   "execution_count": 38,
   "metadata": {},
   "outputs": [
    {
     "data": {
      "text/plain": [
       "<AxesSubplot: ylabel='loudness'>"
      ]
     },
     "execution_count": 38,
     "metadata": {},
     "output_type": "execute_result"
    },
    {
     "data": {
      "image/png": "[encoded data removed]",
      "text/plain": [
       "<Figure size 720x576 with 1 Axes>"
      ]
     },
     "metadata": {},
     "output_type": "display_data"
    }
   ],
   "source": [
    "plt.figure(figsize=[10, 8])\n",
    "sns.boxplot(y=Top50IndArtistDF['loudness'])\n"
   ]
  },
  {
   "cell_type": "markdown",
   "metadata": {},
   "source": [
    "### Showing percentage of songs having mode 1 and rest 0"
   ]
  },
  {
   "cell_type": "code",
   "execution_count": 39,
   "metadata": {},
   "outputs": [
    {
     "data": {
      "text/plain": [
       "<AxesSubplot: ylabel='mode'>"
      ]
     },
     "execution_count": 39,
     "metadata": {},
     "output_type": "execute_result"
    },
    {
     "data": {
      "image/png": "[encoded data removed]",
      "text/plain": [
       "<Figure size 720x576 with 1 Axes>"
      ]
     },
     "metadata": {},
     "output_type": "display_data"
    }
   ],
   "source": [
    "plt.figure(figsize=[10, 8])\n",
    "Top50IndArtistDF['mode'].value_counts().plot.pie(autopct='%1.0F%%')\n"
   ]
  },
  {
   "cell_type": "markdown",
   "metadata": {},
   "source": [
    "### Categorising on the basis of singer"
   ]
  },
  {
   "cell_type": "code",
   "execution_count": 40,
   "metadata": {},
   "outputs": [
    {
     "data": {
      "text/plain": [
       "Singer          Song name            \n",
       "AR Rahman       Aalaporaan Thamizhan     0.1090\n",
       "                Aaruyire                 0.0741\n",
       "                Afreeda                  0.0931\n",
       "                Ale Ale                  0.0848\n",
       "                Anbil Avan               0.0577\n",
       "                                          ...  \n",
       "Vishal Dadlani  Vashmalle                0.0861\n",
       "                Vele                     0.2460\n",
       "                Zaraa Dil Ko Thaam Lo    0.0416\n",
       "                Zinda                    0.1160\n",
       "                Zor Lagaake Haishaa      0.1080\n",
       "Name: liveness, Length: 2162, dtype: float64"
      ]
     },
     "execution_count": 40,
     "metadata": {},
     "output_type": "execute_result"
    }
   ],
   "source": [
    "Top50IndArtistDF.groupby(['Singer', 'Song name'])['liveness'].mean()\n"
   ]
  },
  {
   "cell_type": "markdown",
   "metadata": {},
   "source": [
    "### Plotting scatterplot on liveness vs loudness"
   ]
  },
  {
   "cell_type": "code",
   "execution_count": 41,
   "metadata": {},
   "outputs": [
    {
     "data": {
      "text/plain": [
       "<AxesSubplot: xlabel='liveness', ylabel='loudness'>"
      ]
     },
     "execution_count": 41,
     "metadata": {},
     "output_type": "execute_result"
    },
    {
     "data": {
      "image/png": "[encoded data removed]",
      "text/plain": [
       "<Figure size 720x576 with 1 Axes>"
      ]
     },
     "metadata": {},
     "output_type": "display_data"
    }
   ],
   "source": [
    "plt.figure(figsize=[10, 8])\n",
    "sns.scatterplot(data=Top50IndArtistDF, x='liveness', y='loudness')\n"
   ]
  },
  {
   "cell_type": "markdown",
   "metadata": {},
   "source": [
    "## **Conclusion**\n",
    "By analysing the above data we can argue that the modern songs have more dancebility and acousticness to them.\n",
    "Moreover, there is a decreasing trend in the speechiness of modern songs can be attributed to the increasing trend of EDM(Electronic Dance Music).\n",
    "\n",
    "Out of all the Given Album, No Name & Scars and Screws are rap albums and you can see high Dancebility, valence and energy in both of these."
   ]
  }
 ],
 "metadata": {
  "kernelspec": {
   "display_name": "Python 3.10.2 64-bit",
   "language": "python",
   "name": "python3"
  },
  "language_info": {
   "codemirror_mode": {
    "name": "ipython",
    "version": 3
   },
   "file_extension": ".py",
   "mimetype": "text/x-python",
   "name": "python",
   "nbconvert_exporter": "python",
   "pygments_lexer": "ipython3",
   "version": "3.10.2"
  },
  "orig_nbformat": 4,
  "vscode": {
   "interpreter": {
    "hash": "8c3d4d9970fc5c09c50d9318a9c7fbf4d0159e4b28833276f5678ee22bded273"
   }
  }
 },
 "nbformat": 4,
 "nbformat_minor": 2
}
